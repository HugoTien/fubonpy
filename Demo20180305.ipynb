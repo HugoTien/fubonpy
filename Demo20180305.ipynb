{
 "cells": [
  {
   "cell_type": "markdown",
   "metadata": {},
   "source": [
    "## 抓取富邦人壽問答集"
   ]
  },
  {
   "cell_type": "code",
   "execution_count": 3,
   "metadata": {
    "collapsed": false
   },
   "outputs": [
    {
     "data": {
      "text/plain": [
       "'ISO-8859-1'"
      ]
     },
     "execution_count": 3,
     "metadata": {},
     "output_type": "execute_result"
    }
   ],
   "source": [
    "import requests\n",
    "res = requests.get('https://www.fubon.com/life/direct/Faq.html')\n",
    "res.encoding"
   ]
  },
  {
   "cell_type": "code",
   "execution_count": 5,
   "metadata": {
    "collapsed": false
   },
   "outputs": [],
   "source": [
    "res.encoding = 'utf-8'\n",
    "#res.text"
   ]
  },
  {
   "cell_type": "code",
   "execution_count": 6,
   "metadata": {
    "collapsed": true
   },
   "outputs": [],
   "source": [
    "from bs4 import BeautifulSoup\n",
    "soup = BeautifulSoup(res.text, 'lxml')"
   ]
  },
  {
   "cell_type": "code",
   "execution_count": 11,
   "metadata": {
    "collapsed": false
   },
   "outputs": [],
   "source": [
    "questions = [q.text for q  in soup.select('.faq__q')]\n",
    "#questions"
   ]
  },
  {
   "cell_type": "code",
   "execution_count": 15,
   "metadata": {
    "collapsed": true
   },
   "outputs": [],
   "source": [
    "answers = [q.text.strip() for q  in soup.select('.faq__a')]"
   ]
  },
  {
   "cell_type": "code",
   "execution_count": 19,
   "metadata": {
    "collapsed": false
   },
   "outputs": [],
   "source": [
    "qa_ary = []\n",
    "for q, a in zip(questions, answers):\n",
    "    qa_ary.append({'questions':q,'answer':a})"
   ]
  },
  {
   "cell_type": "code",
   "execution_count": 21,
   "metadata": {
    "collapsed": false
   },
   "outputs": [],
   "source": [
    "import pandas\n",
    "qa_df = pandas.DataFrame(qa_ary)\n",
    "qa_df.to_excel('fubonqa.xlsx')"
   ]
  },
  {
   "cell_type": "markdown",
   "metadata": {},
   "source": [
    "## 產生一個自動問答機器人"
   ]
  },
  {
   "cell_type": "code",
   "execution_count": 22,
   "metadata": {
    "collapsed": true
   },
   "outputs": [],
   "source": [
    "import pandas\n",
    "fubonqa = pandas.read_excel('https://raw.githubusercontent.com/ywchiu/fubonpy/master/data/fubonqa.xlsx')"
   ]
  },
  {
   "cell_type": "code",
   "execution_count": 40,
   "metadata": {
    "collapsed": false
   },
   "outputs": [],
   "source": [
    "import jieba\n",
    "\n",
    "q = '請問要保人是什麼?'\n",
    "\n",
    "corpus    = [' '.join(jieba.cut(q))]\n",
    "questions = [q]\n",
    "answers   = ['DUMMY']\n",
    "for rec in fubonqa.iterrows():\n",
    "    corpus.append(' '.join(jieba.cut(rec[1].questions)))\n",
    "    questions.append(rec[1].questions)\n",
    "    answers.append(rec[1].answer)"
   ]
  },
  {
   "cell_type": "code",
   "execution_count": 41,
   "metadata": {
    "collapsed": false
   },
   "outputs": [
    {
     "data": {
      "text/plain": [
       "<31x114 sparse matrix of type '<class 'numpy.int64'>'\n",
       "\twith 183 stored elements in Compressed Sparse Row format>"
      ]
     },
     "execution_count": 41,
     "metadata": {},
     "output_type": "execute_result"
    }
   ],
   "source": [
    "from sklearn.feature_extraction.text import CountVectorizer\n",
    "vectorizer = CountVectorizer()\n",
    "X = vectorizer.fit_transform(corpus)\n",
    "X"
   ]
  },
  {
   "cell_type": "code",
   "execution_count": 42,
   "metadata": {
    "collapsed": false
   },
   "outputs": [
    {
     "data": {
      "text/plain": [
       "'要保人是指對保險標的具有保險利益，向保險人申請訂立保險契約，並負有交付保險費義務之人。'"
      ]
     },
     "execution_count": 42,
     "metadata": {},
     "output_type": "execute_result"
    }
   ],
   "source": [
    "from sklearn.metrics.pairwise import cosine_similarity\n",
    "cs = cosine_similarity(X[0], X)\n",
    "pos = cs[0].argsort()[::-1][1]\n",
    "questions[pos]\n",
    "answers[pos]"
   ]
  },
  {
   "cell_type": "code",
   "execution_count": 51,
   "metadata": {
    "collapsed": false
   },
   "outputs": [],
   "source": [
    "import jieba\n",
    "\n",
    "q = '請問要保人是什麼?'\n",
    "\n",
    "def autoQA(q,threshold):\n",
    "    corpus    = [' '.join(jieba.cut(q))]\n",
    "    questions = [q]\n",
    "    answers   = ['DUMMY']\n",
    "    for rec in fubonqa.iterrows():\n",
    "        corpus.append(' '.join(jieba.cut(rec[1].questions)))\n",
    "        questions.append(rec[1].questions)\n",
    "        answers.append(rec[1].answer)\n",
    "    vectorizer = CountVectorizer()\n",
    "    X = vectorizer.fit_transform(corpus)\n",
    "    cs = cosine_similarity(X[0], X)\n",
    "    pos = cs[0].argsort()[::-1][1]\n",
    "    if cs[0][pos] > threshold:\n",
    "        return answers[pos]\n",
    "    else:\n",
    "        return '我現在還在學習您的問題, 等我變聰明以後我就可以回答您了'"
   ]
  },
  {
   "cell_type": "code",
   "execution_count": 53,
   "metadata": {
    "collapsed": false
   },
   "outputs": [
    {
     "data": {
      "text/plain": [
       "'要保人是指對保險標的具有保險利益，向保險人申請訂立保險契約，並負有交付保險費義務之人。'"
      ]
     },
     "execution_count": 53,
     "metadata": {},
     "output_type": "execute_result"
    }
   ],
   "source": [
    "autoQA('請問要保人是什麼?', 0.5)"
   ]
  },
  {
   "cell_type": "code",
   "execution_count": 54,
   "metadata": {
    "collapsed": false
   },
   "outputs": [
    {
     "data": {
      "text/plain": [
       "'我現在還在學習您的問題, 等我變聰明以後我就可以回答您了'"
      ]
     },
     "execution_count": 54,
     "metadata": {},
     "output_type": "execute_result"
    }
   ],
   "source": [
    "autoQA('請問今天天氣好嗎', 0.5)"
   ]
  },
  {
   "cell_type": "markdown",
   "metadata": {},
   "source": [
    "## 產生一個可對話機器人"
   ]
  },
  {
   "cell_type": "code",
   "execution_count": 58,
   "metadata": {
    "collapsed": true
   },
   "outputs": [],
   "source": [
    "import speech_recognition as sr\n",
    "def listenToMe():\n",
    "    r = sr.Recognizer()\n",
    "    with sr.Microphone() as source:\n",
    "        print(\"請說出您的問題!\")\n",
    "        audio = r.listen(source)\n",
    "    return r.recognize_google(audio, language='zh-TW')"
   ]
  },
  {
   "cell_type": "code",
   "execution_count": 59,
   "metadata": {
    "collapsed": false
   },
   "outputs": [
    {
     "name": "stdout",
     "output_type": "stream",
     "text": [
      "請說出您的問題!\n"
     ]
    },
    {
     "data": {
      "text/plain": [
       "'請問什麼是要保人'"
      ]
     },
     "execution_count": 59,
     "metadata": {},
     "output_type": "execute_result"
    }
   ],
   "source": [
    "listenToMe()"
   ]
  },
  {
   "cell_type": "code",
   "execution_count": 60,
   "metadata": {
    "collapsed": true
   },
   "outputs": [],
   "source": [
    "\n",
    "from gtts import gTTS\n",
    "from pygame import mixer\n",
    "mixer.init()\n",
    "\n",
    "import tempfile\n",
    "def speak(sentence):\n",
    "    with tempfile.NamedTemporaryFile(delete=True) as fp:\n",
    "        tts = gTTS(text=sentence, lang='zh')\n",
    "        tts.save(\"{}.mp3\".format(fp.name))\n",
    "        mixer.music.load('{}.mp3'.format(fp.name))\n",
    "        mixer.music.play()\n",
    "speak('大家好')"
   ]
  },
  {
   "cell_type": "code",
   "execution_count": 67,
   "metadata": {
    "collapsed": false
   },
   "outputs": [
    {
     "name": "stdout",
     "output_type": "stream",
     "text": [
      "請說出您的問題!\n"
     ]
    }
   ],
   "source": [
    "speak(autoQA(listenToMe(), 0.5))"
   ]
  },
  {
   "cell_type": "markdown",
   "metadata": {},
   "source": [
    "## 新聞分群"
   ]
  },
  {
   "cell_type": "code",
   "execution_count": 78,
   "metadata": {
    "collapsed": false
   },
   "outputs": [],
   "source": [
    "import requests\n",
    "from bs4 import BeautifulSoup\n",
    "res = requests.get('https://raw.githubusercontent.com/ywchiu/fuboni/master/data/1435449602.xml')"
   ]
  },
  {
   "cell_type": "code",
   "execution_count": 97,
   "metadata": {
    "collapsed": false
   },
   "outputs": [],
   "source": [
    "from xml.dom import minidom\n",
    "from xml.etree import ElementTree\n",
    "import jieba.analyse\n",
    "import re\n",
    "\n",
    "events=ElementTree.fromstring(res.text)\n",
    "\n",
    "corpus = []\n",
    "titles = []\n",
    "for elem in events.findall('./channel/item'):\n",
    "    title       = elem.find('title').text\n",
    "    description = elem.find('description').text\n",
    "    ## original\n",
    "    #corpus.append(' '.join(jieba.cut(description)))\n",
    "    \n",
    "    ## filter out non-chinese word\n",
    "    #ary = []\n",
    "    #for w in jieba.cut(description):\n",
    "    #    m = re.match('^[\\u4e00-\\u9fa5]+$', w)\n",
    "    #    if m:\n",
    "    #        ary.append(w)\n",
    "    #corpus.append(' '.join(ary))\n",
    "    \n",
    "    ## recommend method\n",
    "    corpus.append(' '.join([w for w in jieba.cut(description) \\\n",
    "                            if re.match('^[\\u4e00-\\u9fa5]+$', w)]))\n",
    "    titles.append(title)"
   ]
  },
  {
   "cell_type": "code",
   "execution_count": 98,
   "metadata": {
    "collapsed": false
   },
   "outputs": [
    {
     "data": {
      "text/plain": [
       "'新北市 八仙 水上 樂園 昨晚 發 生粉 塵 爆炸 新北市 衛生局 統計 到 目前 為止 由 救護車 送 醫再 加上 自行 送醫 的 人數 已經 有 人 其中 人 重傷 而 新北市 長 朱立倫 昨晚 到 現場 坐鎮 指揮 了解 狀況 並馬上 要求 追究 責任 徹查 並要 八仙 樂園 立刻 關園 停業 八仙 樂園 業者 雖然 表示 活動 是 外包 的 但 也 說 會 配合 暫時 停止 營業 接受 調查 警方 今天 凌晨 也 帶 回 五名 相關 人 漏夜 偵訊 包括 現場 呂姓 活動 負責人 邱姓 硬體 設備 人員 和 廖姓 特效 人員 以及 兩名 在 現場 噴灑 彩色 粉塵 的 名 工作 人員 訊後將 依業務 過失 重大 傷害 與 公共 危險 罪嫌 偵辦 統一 移送 士林 地檢署 檢警 偵辦 重點 在 於 主辦 單位 辦 這個 活動時 到底 有 沒 有 做好 安全 上 的 防備 據 了解 主辦 人 表示 彩色 派 對 今年 是 第四次 舉辦 去年 也 才 在 高雄 西子 灣辦過 不 知道 為何 這次 會 造成 這麼 嚴重 的 意外 但 警方 對 這樣 的 說法 保留 態度 而 士林 地檢署 今天 凌晨 也 已經 由 名檢察官 連夜 到 八仙 樂園 了解 情況 並 扣押 噴發 氣體 和 粉塵 的 鋼瓶 據 了解 檢方 人員到 現場 後 發現 舞台 設在 游泳池 中間 其實 等 於 是 半密閉 空間 而且 地上 四散 菸 蒂 和 打火 機 不 排除 是 有人 不慎 點 菸 引燃 造成 這次 的 意外 而 外界 關注 昨晚 現場 到底 有 沒 有 在 舞台 上 噴火 據 了解 昨晚 器材 中並 沒有 火焰 效果器 檢警 初步 研判 辦 趴用 的 粉彩 主要 成分 為 玉米粉 在 一定 的 空間 一定 的 濃度 遇到 靜電 或 火花 不用 高溫 就 很 容易 引發 閃燃 現象 可能 是 大量 接觸 熱能 像是 舞台 光源 器材 電流 點 菸 等 引發 爆炸 但 詳細 起火 原因 和 起火 點 還是 要 經由 火場 鑑識 釐 清 檢警 近期 將陸續 傳喚 傷者 並調 閱監 視錄 影畫面 了解 事發 經過'"
      ]
     },
     "execution_count": 98,
     "metadata": {},
     "output_type": "execute_result"
    }
   ],
   "source": [
    "corpus[0]"
   ]
  },
  {
   "cell_type": "code",
   "execution_count": 99,
   "metadata": {
    "collapsed": false
   },
   "outputs": [
    {
     "data": {
      "text/plain": [
       "<147x12245 sparse matrix of type '<class 'numpy.int64'>'\n",
       "\twith 22679 stored elements in Compressed Sparse Row format>"
      ]
     },
     "execution_count": 99,
     "metadata": {},
     "output_type": "execute_result"
    }
   ],
   "source": [
    "from sklearn.feature_extraction.text import CountVectorizer\n",
    "vectorizer = CountVectorizer()\n",
    "X = vectorizer.fit_transform(corpus)\n",
    "X"
   ]
  },
  {
   "cell_type": "code",
   "execution_count": 101,
   "metadata": {
    "collapsed": false
   },
   "outputs": [],
   "source": [
    "#vectorizer.get_feature_names()"
   ]
  },
  {
   "cell_type": "code",
   "execution_count": 102,
   "metadata": {
    "collapsed": false
   },
   "outputs": [
    {
     "data": {
      "text/plain": [
       "array([[ 1.        ,  0.16031292,  0.00604056, ...,  0.25165992,\n",
       "         0.0303501 ,  0.02004996],\n",
       "       [ 0.16031292,  1.        ,  0.02020511, ...,  0.1933817 ,\n",
       "         0.03806935,  0.02235509],\n",
       "       [ 0.00604056,  0.02020511,  1.        , ...,  0.01585904,\n",
       "         0.        ,  0.        ],\n",
       "       ..., \n",
       "       [ 0.25165992,  0.1933817 ,  0.01585904, ...,  1.        ,\n",
       "         0.03984095,  0.05263968],\n",
       "       [ 0.0303501 ,  0.03806935,  0.        , ...,  0.03984095,\n",
       "         1.        ,  0.31318412],\n",
       "       [ 0.02004996,  0.02235509,  0.        , ...,  0.05263968,\n",
       "         0.31318412,  1.        ]])"
      ]
     },
     "execution_count": 102,
     "metadata": {},
     "output_type": "execute_result"
    }
   ],
   "source": [
    "from sklearn.metrics.pairwise import cosine_similarity\n",
    "cs = cosine_similarity(X)\n",
    "cs"
   ]
  },
  {
   "cell_type": "code",
   "execution_count": 108,
   "metadata": {
    "collapsed": false
   },
   "outputs": [],
   "source": [
    "from sklearn import cluster\n",
    "c = cluster.KMeans(n_clusters = 4, init='k-means++')"
   ]
  },
  {
   "cell_type": "code",
   "execution_count": 109,
   "metadata": {
    "collapsed": false
   },
   "outputs": [],
   "source": [
    "grp = c.fit_predict(cs)"
   ]
  },
  {
   "cell_type": "code",
   "execution_count": 117,
   "metadata": {
    "collapsed": false
   },
   "outputs": [
    {
     "name": "stdout",
     "output_type": "stream",
     "text": [
      "台鐵新基隆車站29日正式啟用\n",
      "基改不算真食物  法國人知情就不買\n",
      "女子世界盃足球賽  日擊敗澳洲晉4強\n",
      "《農民曆小幫手》國曆六月二十八日\n",
      "江蕙得「特別貢獻獎」 感恩金曲肯定她\n",
      "大台北今高溫上探37度\n",
      "羅志祥哭了 蔡依林讚表現很好\n",
      "風評：陷入獵巫遊戲的中資認定\n",
      "挪威「行動大雕」出沒 隨機射路人\n",
      "還是熱！西半部高溫達37度\n",
      "德國即將關閉使用最久核子反應爐\n",
      "張娟芬專文：抽絲剝繭邱和順案\n",
      "2015空姐夏裝大盤點\n",
      "觀點投書：讀中文系的人，應該反對課綱微調\n",
      "觀點投書：何謂新兵訓練\n",
      "觀點投書：災難中的護理人\n",
      "呂政璋觀點：點土成金新思維~以台灣柳丁為例\n",
      "觀點投書：招搖的進步\n",
      "中俄美競造5音速機彈\n",
      "手相看什麼樣的女人性格強勢\n",
      "面相看哪些人財運綿長不盡\n",
      "【美洲盃八強】巴西 VS. 巴拉圭 線上直播！\n",
      "塔羅占卜你今生最看重的是什麼\n",
      "蘇塞大屠殺 凶手畫面曝光\n",
      "塔羅占卜你是個有心機的人嗎？\n",
      "挑選新鮮食物 大有學問\n",
      "調心養心 初夏多吃蔬果\n",
      "夏天吃什麼好 紅棗、苦瓜攏總來\n",
      "補鈣能手大比拚 牛奶吸收效果好\n",
      "暑假應考季 小心體內酸鹼失衡\n",
      "水果中的皇后 草莓多食好處多\n",
      "旺報觀點－鄭弘儀！別讓台灣人背黑鍋！\n",
      "古人愛西瓜 清明上河圖可佐證\n",
      "旺報觀點－紀念抗戰 台日中獲和解轉機\n",
      "陸官淪陪酒郎 2年10起醉死案\n",
      "慈禧愛西瓜盅 一天可吃數十個\n",
      "紀念抗戰 學者：反省、避免戰爭\n",
      "多位台老兵 受邀赴陸閱兵\n",
      "陸祭出新規 能上能下整肅官場\n",
      "首例 馬頒紀念章給新四軍老兵\n",
      "陸改革遇5瓶頸 難以落實基層\n",
      "金蟬花替代蟲草 浙民服用中毒\n",
      "鄭弘儀反紀念抗戰 陸批數典忘祖\n",
      "《經濟教室》白居易、蘇東坡看加薪\n",
      "大陸》A股紅火 中資想回家\n",
      "大陸》華人赴美置產不手軟\n",
      "北美》線上貸款業搶飯碗\n",
      "北美》加州光熱發電受挫\n",
      "歐洲》高貴的徵才條件\n",
      "東北亞》大眾運輸費變貴了\n",
      "歐洲》荷蘭的稻田發電\n",
      "一周大事－6月21日至27日\n",
      "社論－真道理性真愛台灣系列 7 打一場讓社會公平的\n",
      "有話要說－別害警察不敢用槍\n",
      "中間選民為洪秀柱按讚\n",
      "學生心態M化 台大有責任\n",
      "莫忘來時路／6月28日－先上車後補票成歷史\n",
      "短評－柯P 去上海吧\n",
      "花蓮民宅火警 1男嗆昏送醫\n",
      "新生代性感女神降臨　男粉絲擠爆簽書會\n",
      "屏東樂遊東港 住民宿探蚵殼島\n",
      "競選總部入厝　洪慈庸期許台中煥然一新\n",
      "超商父親節早鳥預購開跑　聶永真設計商品再次收藏\n",
      "八里爆炸意外衛生局凌晨公布314名傷患名單 分送27\n",
      "「我不說誰說？」世新廣電畢製《東所》受難者觀影\n",
      "八仙樂園爆炸 劣賊趁亂打劫\n",
      "金曲紅毯眾星出招　個人意見獨特見解\n",
      "單親媽媽第一次下海就被逮　直呼太倒楣了！\n",
      "提升財運的家居風水\n",
      "如何化解感情上的爛桃花\n",
      "金曲26／陳奕迅二度擊敗張學友　濕身奪歌王\n",
      "清真寺爆炸凶嫌所乘車 車主遭科國羈押\n",
      "突尼西亞恐攻 已知15英人遇害\n",
      "LOEWE瘋玩春夏 迷上日本漫畫\n",
      "捷運內湖站2分鐘 輕質2房最熱銷\n",
      "BV萬元小皮件 小資族快下手\n",
      "大人物攝影展開展吸人潮 方念華 時尚入境\n",
      "新板＋府中雙商圈 每坪60萬起\n",
      "北台灣最宜居新都心！\n",
      "Kelly Talk：艾力克斯讓兒挑衣 訓練衣Q\n",
      "氣墊粉霜又有新品 酷夏玩美肌\n",
      "男裝周加映高級訂製服 GIVENCHY 黑珍珠使壞\n",
      "Margiela大衣掛帥 Berluti熱鬧色計\n",
      "Gap徵小小代言人 艾力克斯親子秀時尚\n",
      "行動不便為生活當馬伕 首天上班就被逮\n"
     ]
    }
   ],
   "source": [
    "import numpy as np\n",
    "titles_ary = np.array(titles)\n",
    "#titles_ary[grp]\n",
    "#grp  == 2\n",
    "for t in titles_ary[grp  == 1]:\n",
    "    print(t)"
   ]
  },
  {
   "cell_type": "code",
   "execution_count": 120,
   "metadata": {
    "collapsed": false
   },
   "outputs": [],
   "source": [
    "from sklearn import cluster\n",
    "c = cluster.KMeans(n_clusters = 10, init='k-means++')\n",
    "grp = c.fit_predict(cs)\n",
    "\n",
    "import numpy as np\n",
    "titles_ary = np.array(titles)\n",
    "#for g in range(1,11):\n",
    "#    print('group:', g)\n",
    "#    for t in titles_ary[grp  == g]:\n",
    "#        print(t)\n",
    "#    print('=============================')"
   ]
  },
  {
   "cell_type": "markdown",
   "metadata": {},
   "source": [
    "## Silhouette\n",
    "- a: 群內的距離\n",
    "- b: 群間的距離\n",
    "- sil = (b - a) / (max(b, a))\n",
    "- sil == 1: 每個點為各自的群\n",
    "- sil == 0: 當群間的距離 == 群內距離"
   ]
  },
  {
   "cell_type": "code",
   "execution_count": 127,
   "metadata": {
    "collapsed": false
   },
   "outputs": [],
   "source": [
    "from sklearn.metrics import silhouette_score\n",
    "\n",
    "sil_ary = []\n",
    "for k in range(2,21):\n",
    "    c = cluster.KMeans(n_clusters = k, init='k-means++')\n",
    "    grp = c.fit_predict(cs)\n",
    "    sil_ary.append({'group':k,'silhouette':silhouette_score(cs, labels=grp)})"
   ]
  },
  {
   "cell_type": "code",
   "execution_count": 130,
   "metadata": {
    "collapsed": false
   },
   "outputs": [
    {
     "name": "stdout",
     "output_type": "stream",
     "text": [
      "Populating the interactive namespace from numpy and matplotlib\n"
     ]
    },
    {
     "name": "stderr",
     "output_type": "stream",
     "text": [
      "C:\\ProgramData\\Anaconda3\\lib\\site-packages\\IPython\\core\\magics\\pylab.py:161: UserWarning: pylab import has clobbered these variables: ['rec', 'title']\n",
      "`%matplotlib` prevents importing * from pylab and numpy\n",
      "  \"\\n`%matplotlib` prevents importing * from pylab and numpy\"\n"
     ]
    },
    {
     "data": {
      "text/plain": [
       "<matplotlib.axes._subplots.AxesSubplot at 0x193e4748>"
      ]
     },
     "execution_count": 130,
     "metadata": {},
     "output_type": "execute_result"
    },
    {
     "data": {
      "image/png": "[encoded data removed]",
      "text/plain": [
       "<matplotlib.figure.Figure at 0x193c52b0>"
      ]
     },
     "metadata": {},
     "output_type": "display_data"
    }
   ],
   "source": [
    "% pylab inline\n",
    "import pandas\n",
    "sil_df = pandas.DataFrame(sil_ary)\n",
    "sil_df.plot(kind = 'line', x='group', y='silhouette')"
   ]
  },
  {
   "cell_type": "code",
   "execution_count": 131,
   "metadata": {
    "collapsed": false
   },
   "outputs": [
    {
     "data": {
      "text/html": [
       "<div>\n",
       "<table border=\"1\" class=\"dataframe\">\n",
       "  <thead>\n",
       "    <tr style=\"text-align: right;\">\n",
       "      <th></th>\n",
       "      <th>group</th>\n",
       "      <th>silhouette</th>\n",
       "    </tr>\n",
       "  </thead>\n",
       "  <tbody>\n",
       "    <tr>\n",
       "      <th>0</th>\n",
       "      <td>2</td>\n",
       "      <td>0.222693</td>\n",
       "    </tr>\n",
       "    <tr>\n",
       "      <th>1</th>\n",
       "      <td>3</td>\n",
       "      <td>0.234709</td>\n",
       "    </tr>\n",
       "    <tr>\n",
       "      <th>2</th>\n",
       "      <td>4</td>\n",
       "      <td>0.266141</td>\n",
       "    </tr>\n",
       "    <tr>\n",
       "      <th>3</th>\n",
       "      <td>5</td>\n",
       "      <td>0.195605</td>\n",
       "    </tr>\n",
       "    <tr>\n",
       "      <th>4</th>\n",
       "      <td>6</td>\n",
       "      <td>0.115052</td>\n",
       "    </tr>\n",
       "  </tbody>\n",
       "</table>\n",
       "</div>"
      ],
      "text/plain": [
       "   group  silhouette\n",
       "0      2    0.222693\n",
       "1      3    0.234709\n",
       "2      4    0.266141\n",
       "3      5    0.195605\n",
       "4      6    0.115052"
      ]
     },
     "execution_count": 131,
     "metadata": {},
     "output_type": "execute_result"
    }
   ],
   "source": [
    "sil_df.head()"
   ]
  },
  {
   "cell_type": "markdown",
   "metadata": {},
   "source": [
    "## 針對新聞資料分群"
   ]
  },
  {
   "cell_type": "code",
   "execution_count": 132,
   "metadata": {
    "collapsed": true
   },
   "outputs": [],
   "source": [
    "import pandas\n",
    "appledaily = pandas.read_excel('https://raw.githubusercontent.com/ywchiu/fuboni/master/data/appledaily20171214.xlsx')"
   ]
  },
  {
   "cell_type": "code",
   "execution_count": 138,
   "metadata": {
    "collapsed": false
   },
   "outputs": [],
   "source": [
    "corpus = []\n",
    "titles = []\n",
    "for news in appledaily.iterrows():\n",
    "    title = news[1]['title']\n",
    "    content = news[1]['content']\n",
    "    corpus.append(' '.join([w for w in jieba.cut(content) \\\n",
    "                            if re.match('^[\\u4e00-\\u9fa5]+$', w)]))\n",
    "    titles.append(title)"
   ]
  },
  {
   "cell_type": "code",
   "execution_count": 139,
   "metadata": {
    "collapsed": true
   },
   "outputs": [],
   "source": [
    "from sklearn.feature_extraction.text import CountVectorizer\n",
    "vectorizer = CountVectorizer()\n",
    "X = vectorizer.fit_transform(corpus)"
   ]
  },
  {
   "cell_type": "code",
   "execution_count": 189,
   "metadata": {
    "collapsed": false
   },
   "outputs": [
    {
     "data": {
      "text/plain": [
       "<899x36366 sparse matrix of type '<class 'numpy.int64'>'\n",
       "\twith 120587 stored elements in Compressed Sparse Row format>"
      ]
     },
     "execution_count": 189,
     "metadata": {},
     "output_type": "execute_result"
    }
   ],
   "source": [
    "X"
   ]
  },
  {
   "cell_type": "code",
   "execution_count": 141,
   "metadata": {
    "collapsed": false
   },
   "outputs": [],
   "source": [
    "#vectorizer.get_feature_names()"
   ]
  },
  {
   "cell_type": "code",
   "execution_count": 142,
   "metadata": {
    "collapsed": true
   },
   "outputs": [],
   "source": [
    "from sklearn.metrics.pairwise import cosine_similarity\n",
    "cs = cosine_similarity(X)"
   ]
  },
  {
   "cell_type": "code",
   "execution_count": 143,
   "metadata": {
    "collapsed": true
   },
   "outputs": [],
   "source": [
    "from sklearn.metrics import silhouette_score\n",
    "\n",
    "sil_ary = []\n",
    "for k in range(2,21):\n",
    "    c = cluster.KMeans(n_clusters = k, init='k-means++')\n",
    "    grp = c.fit_predict(cs)\n",
    "    sil_ary.append({'group':k,'silhouette':silhouette_score(cs, labels=grp)})"
   ]
  },
  {
   "cell_type": "code",
   "execution_count": 144,
   "metadata": {
    "collapsed": false
   },
   "outputs": [
    {
     "name": "stdout",
     "output_type": "stream",
     "text": [
      "Populating the interactive namespace from numpy and matplotlib\n"
     ]
    },
    {
     "name": "stderr",
     "output_type": "stream",
     "text": [
      "C:\\ProgramData\\Anaconda3\\lib\\site-packages\\IPython\\core\\magics\\pylab.py:161: UserWarning: pylab import has clobbered these variables: ['title']\n",
      "`%matplotlib` prevents importing * from pylab and numpy\n",
      "  \"\\n`%matplotlib` prevents importing * from pylab and numpy\"\n"
     ]
    },
    {
     "data": {
      "text/plain": [
       "<matplotlib.axes._subplots.AxesSubplot at 0x17f82da0>"
      ]
     },
     "execution_count": 144,
     "metadata": {},
     "output_type": "execute_result"
    },
    {
     "data": {
      "image/png": "[encoded data removed]",
      "text/plain": [
       "<matplotlib.figure.Figure at 0x1bd3fc88>"
      ]
     },
     "metadata": {},
     "output_type": "display_data"
    }
   ],
   "source": [
    "% pylab inline\n",
    "import pandas\n",
    "sil_df = pandas.DataFrame(sil_ary)\n",
    "sil_df.plot(kind = 'line', x='group', y='silhouette')"
   ]
  },
  {
   "cell_type": "code",
   "execution_count": 145,
   "metadata": {
    "collapsed": true
   },
   "outputs": [],
   "source": [
    "c = cluster.KMeans(n_clusters = 3, init='k-means++')\n",
    "grp = c.fit_predict(cs)"
   ]
  },
  {
   "cell_type": "code",
   "execution_count": 151,
   "metadata": {
    "collapsed": false
   },
   "outputs": [
    {
     "name": "stdout",
     "output_type": "stream",
     "text": [
      "小嫻婚變冒毒菇　勾于美人「奉茶」夢魘\n",
      "人妻離婚5個月產女　他驚覺頭上綠綠der\n",
      "醉女盧小小　女警帥爆！突然霸氣送她側摔　\n",
      "遭粉絲頁冒名捲「正嫻」口水戰　于美人：跟我真的無關！\n",
      "明明是好康分享文　網友卻瘋喊噁心慎入\n",
      "「想抱孫要看天！」　他批小嫻婆婆殘忍強逼\n",
      "砲轟小嫻被酸民攻陷　「何三姑」粉絲頁關了\n",
      "【好聚不好散】離婚掏出6千萬　這女星比小嫻還慘\n",
      "【狗仔偷拍】小嫻搬離何守正家租66坪房　月租6萬元\n",
      "許聖梅心疼小嫻被當空氣　爆何守正「有兩個女學員」\n",
      "【動畫解盤】毒菇跳火線譙seafood　小嫻難瘦香菇\n",
      "十二月十四日各報頭條搶先報\n",
      "不捨善良小嫻慘遭婚變　乃哥「命運捉弄人」\n",
      "【獨家】小嫻賣房求子　婆婆竟拒入籍何家\n",
      "【毒菇護弟】何守正姊姊不是華岡七仙女　美法連線批小嫻\n",
      "員工開勞斯萊斯連撞3次　剉！他老闆是治平大哥　\n",
      "小嫻離婚導火線　拉何守正信妙禪\n",
      "【狗仔偷拍】何守正現身！「全台最沒尊嚴的婆婆」也出來了\n",
      "小嫻中分手魔咒！ 同公司4女星全都婚變\n",
      "他因為小嫻婚變被分手　網友跪求：拜託別放生\n",
      "潔哥目睹「正嫻之變」　驚呼：靠北系列竟是真的\n",
      "何守正姐姐神護航！遭網友酸：全台最討人厭大姑\n",
      "小嫻別傻傻被欺負！女律師說「姐寶」就要這樣對付\n",
      "【小嫻婚變】他說很奇怪　「一定是男生劈腿？」\n",
      "教友小嫻婚姻觸礁　曾之喬談情避不開Seafood\n",
      "小嫻守正結婚在台沒登記　想離婚只有兩條路\n",
      "胡瓜2個月前耳聞小嫻婚變　震驚之餘好心疼\n",
      "昔日搭檔談小嫻婚變　曾國城這樣說\n",
      "何守正兩個姊姊護航扯婆媳　「他」戳破媽寶特色\n",
      "大姑出面護弟！轟小嫻不能生「媽媽是全台最沒有尊嚴的婆婆」\n",
      "小嫻信奉妙禪　關鍵原因與何守正有關！\n",
      "心酸！臉書認證邊緣人　網友高調幫QQ\n",
      "小嫻何守正想離婚　必須先做這件事！\n",
      "「老娘就是不嫁人！」超霸氣春聯讓人暴動了\n",
      "【K律師論點】離婚＝失敗？　K律師這麼說\n",
      "夾娃娃機無極限　網友驚呼：永澤4ni！\n",
      "真尷尬！他只是聊個天　正妹就退出對話了\n",
      "女網紅因為這理由挺余祥銓！讓人不知該哭還是笑\n",
      "做辛酸？薪水被扣1萬　還要繳水電瓦斯費\n",
      "「小嫻不快樂！」　許聖梅：何守正虧欠她\n",
      "一下車有人墜樓掉在車頂　網友：車牌有密碼\n",
      "【內幕動畫】小嫻婚變何守正姊反擊　不滿媽煮飯侍奉星媳婦\n",
      "小嫻多信妙禪？　曾見證「師父帶我跳舞」\n",
      "【話當年】被拍和她上賓館　何守正掰了阿妹\n",
      "小嫻婚變無徵兆　男星嘆：兩人向來出雙入對\n",
      "【獨家內幕】太傷！小嫻被分手　何守正當小三面前攤牌\n",
      "【小嫻離婚】何守正稱沒有遺憾　人妻女星超火「一嘴屁話」\n",
      "【有片】何守正小嫻驚爆離婚　健身房中嗅出端倪\n",
      "【小嫻離婚】3大退讓人財兩失　求子花光430萬積蓄\n"
     ]
    }
   ],
   "source": [
    "import numpy as np\n",
    "titles_ary = np.array(titles)\n",
    "for ele in titles_ary[grp == 0]:\n",
    "    print(ele)"
   ]
  },
  {
   "cell_type": "markdown",
   "metadata": {},
   "source": [
    "## 社群偵測法"
   ]
  },
  {
   "cell_type": "code",
   "execution_count": 156,
   "metadata": {
    "collapsed": false
   },
   "outputs": [],
   "source": [
    "m = (cs >= 0.5).astype(int)"
   ]
  },
  {
   "cell_type": "code",
   "execution_count": 163,
   "metadata": {
    "collapsed": false
   },
   "outputs": [],
   "source": [
    "import networkx as nx\n",
    "#G = nx.Graph()\n",
    "G = nx.from_numpy_matrix(m)"
   ]
  },
  {
   "cell_type": "code",
   "execution_count": 166,
   "metadata": {
    "collapsed": false
   },
   "outputs": [],
   "source": [
    "nx.write_graphml(G, 'news.graphml')"
   ]
  },
  {
   "cell_type": "markdown",
   "metadata": {},
   "source": [
    "### 安裝 python-louvain\n",
    "- pip install python-louvain"
   ]
  },
  {
   "cell_type": "code",
   "execution_count": 167,
   "metadata": {
    "collapsed": false
   },
   "outputs": [
    {
     "name": "stdout",
     "output_type": "stream",
     "text": [
      "Requirement already satisfied: python-louvain in c:\\programdata\\anaconda3\\lib\\site-packages\n",
      "Requirement already satisfied: networkx in c:\\programdata\\anaconda3\\lib\\site-packages (from python-louvain)\n",
      "Requirement already satisfied: decorator>=3.4.0 in c:\\programdata\\anaconda3\\lib\\site-packages (from networkx->python-louvain)\n"
     ]
    }
   ],
   "source": [
    "! pip install python-louvain"
   ]
  },
  {
   "cell_type": "code",
   "execution_count": 184,
   "metadata": {
    "collapsed": true
   },
   "outputs": [],
   "source": [
    "import community\n",
    "grp = community.best_partition(G)\n",
    "grp_ary = np.array(list(grp.values()) )"
   ]
  },
  {
   "cell_type": "code",
   "execution_count": 186,
   "metadata": {
    "collapsed": false
   },
   "outputs": [
    {
     "name": "stdout",
     "output_type": "stream",
     "text": [
      "group: 3\n",
      "【特企】NGO聯名譴責中共迫害宗教信仰\n",
      "【特企】NGO聯名譴責中共迫害宗教信仰\n",
      "【特企】NGO聯名譴責中共迫害宗教信仰\n",
      "【特企】NGO聯名譴責中共迫害宗教信仰\n",
      "【特企】NGO聯名譴責中共迫害宗教信仰\n",
      "【特企】NGO聯名譴責中共迫害宗教信仰\n",
      "【特企】NGO聯名譴責中共迫害宗教信仰\n",
      "【特企】NGO聯名譴責中共迫害宗教信仰\n",
      "【特企】NGO聯名譴責中共迫害宗教信仰\n",
      "【特企】NGO聯名譴責中共迫害宗教信仰\n",
      "【特企】NGO聯名譴責中共迫害宗教信仰\n",
      "【特企】NGO聯名譴責中共迫害宗教信仰\n",
      "【特企】NGO聯名譴責中共迫害宗教信仰\n",
      "【特企】NGO聯名譴責中共迫害宗教信仰\n",
      "【特企】NGO聯名譴責中共迫害宗教信仰\n",
      "【特企】NGO聯名譴責中共迫害宗教信仰\n",
      "【特企】NGO聯名譴責中共迫害宗教信仰\n",
      "【特企】NGO聯名譴責中共迫害宗教信仰\n",
      "【特企】NGO聯名譴責中共迫害宗教信仰\n",
      "【特企】NGO聯名譴責中共迫害宗教信仰\n",
      "【特企】NGO聯名譴責中共迫害宗教信仰\n",
      "【特企】NGO聯名譴責中共迫害宗教信仰\n",
      "【特企】NGO聯名譴責中共迫害宗教信仰\n",
      "【特企】NGO聯名譴責中共迫害宗教信仰\n",
      "【特企】NGO聯名譴責中共迫害宗教信仰\n",
      "【特企】NGO聯名譴責中共迫害宗教信仰\n",
      "【特企】NGO聯名譴責中共迫害宗教信仰\n",
      "【特企】NGO聯名譴責中共迫害宗教信仰\n",
      "【特企】NGO聯名譴責中共迫害宗教信仰\n",
      "【特企】NGO聯名譴責中共迫害宗教信仰\n",
      "================================\n",
      "group: 70\n",
      "【狗仔偷拍】小嫻搬離何守正家租66坪房　月租6萬元\n",
      "許聖梅心疼小嫻被當空氣　爆何守正「有兩個女學員」\n",
      "【動畫解盤】毒菇跳火線譙seafood　小嫻難瘦香菇\n",
      "【獨家】小嫻賣房求子　婆婆竟拒入籍何家\n",
      "小心！在美結婚台灣沒登記　偷腥照樣能捉姦\n",
      "小嫻離婚導火線　拉何守正信妙禪\n",
      "小嫻守正結婚在台沒登記　想離婚只有兩條路\n",
      "大姑出面護弟！轟小嫻不能生「媽媽是全台最沒有尊嚴的婆婆」\n",
      "小嫻信奉妙禪　關鍵原因與何守正有關！\n",
      "小嫻何守正想離婚　必須先做這件事！\n",
      "【內幕動畫】小嫻婚變何守正姊反擊　不滿媽煮飯侍奉星媳婦\n",
      "小嫻婚變無徵兆　男星嘆：兩人向來出雙入對\n",
      "【獨家內幕】太傷！小嫻被分手　何守正當小三面前攤牌\n",
      "【小嫻離婚】何守正稱沒有遺憾　人妻女星超火「一嘴屁話」\n",
      "【小嫻離婚】3大退讓人財兩失　求子花光430萬積蓄\n",
      "================================\n",
      "group: 114\n",
      "驚！　野生捕獲恐龍遛汪星人\n",
      "驚！　野生捕獲恐龍遛汪星人\n",
      "搔癢無尾熊 表情超enjoy\n",
      "【笑翻片】各種抓！動物止癢出奇招\n",
      "【保護片】就是不能下水！狗狗護小主人\n",
      "群狗亂舞開趴　畫面太「美」讓人不敢看\n",
      "一家人霸氣合照　萌到爆！\n",
      "超近看螞蟻食蜂蜜　竟感到療癒？\n",
      "================================\n",
      "group: 202\n",
      "被爆罵、敲台電　顏寬恒「模糊反空污焦點」\n",
      "【反嗆片】被爆向台電申請補助又罵空污　顏寬恒：不會拿人手短\n",
      "「一手罵台電、一手敲台電」　經委會要台電公布立委補助資料\n",
      "被顏寬恒點名也跟台電要補助　蔡其昌：不應與空污混為一談\n",
      "================================\n",
      "group: 17\n",
      "【不斷更新】桃園工廠惡火撲滅 6人仍失聯宿舍內發現一堆白骨\n",
      "桃園工廠火勢熄滅　員工宿舍內發現一堆白骨\n",
      "汽車用品大廠「矽卡」燒毀　資本額達2億\n",
      "================================\n",
      "group: 45\n",
      "後天入冬最強冷空氣來襲　低溫下探12℃\n",
      "像灑了糖霜！玉山今晨降雪　積雪0.5公分\n",
      "輕颱啟德恐生成　入冬最強冷空氣周末來襲下探11℃（動畫）\n",
      "================================\n",
      "group: 186\n",
      "【崩潰動畫】《天堂M》斷線50次　玩家罵聲連連\n",
      "台戰豪砸40萬抽寶一場空　怒批《天堂M》根本錢坑\n",
      "《天堂M》超過116萬人登入　50個伺服器仍塞到爆\n",
      "================================\n",
      "group: 258\n",
      "曾銘宗爆「好大的高雄銀」　高雄銀嗆：保留法律追訴權\n",
      "被控對金管會施壓　高銀：曾銘宗抹黑擬提告\n",
      "【慶富案】曾銘宗爆金管會被施壓　碰到花媽就失靈\n",
      "================================\n",
      "group: 341\n",
      "【壹週刊】百億貸款將到期　柯P放容積解套京華城\n",
      "京華城容積率增至560%案　北市都發局同意、待都委會審議\n",
      "及時雨！柯文哲放寬容積　京華城爽納百億\n",
      "================================\n",
      "group: 522\n",
      "三中案馬英九圖利中時老闆？　北檢：不評論\n",
      "三中案祕錄光碟！恐扳倒馬英九　當年他錄的\n",
      "三中案500萬禮盒照　馬英九一句話成關鍵\n",
      "================================\n"
     ]
    }
   ],
   "source": [
    "from collections import Counter\n",
    "c = Counter(list(grp.values()))\n",
    "for g, cnt in c.most_common(10):\n",
    "    print('group:', g)\n",
    "    articles = titles_ary[grp_ary == g]\n",
    "    for news in articles:\n",
    "        print(news)\n",
    "    print('================================')"
   ]
  },
  {
   "cell_type": "markdown",
   "metadata": {},
   "source": [
    "## 找出每群出現最多的字眼"
   ]
  },
  {
   "cell_type": "code",
   "execution_count": 188,
   "metadata": {
    "collapsed": false
   },
   "outputs": [
    {
     "data": {
      "text/plain": [
       "899"
      ]
     },
     "execution_count": 188,
     "metadata": {},
     "output_type": "execute_result"
    }
   ],
   "source": [
    "len(grp_ary == 70)"
   ]
  },
  {
   "cell_type": "code",
   "execution_count": 195,
   "metadata": {
    "collapsed": false
   },
   "outputs": [],
   "source": [
    "occurence_cnt = X[grp_ary == 70].toarray().sum(axis = 0)"
   ]
  },
  {
   "cell_type": "code",
   "execution_count": 200,
   "metadata": {
    "collapsed": false
   },
   "outputs": [],
   "source": [
    "top10_word = occurence_cnt.argsort()[::-1][0:10]"
   ]
  },
  {
   "cell_type": "code",
   "execution_count": 202,
   "metadata": {
    "collapsed": false
   },
   "outputs": [
    {
     "data": {
      "text/plain": [
       "array(['小嫻', '何守', '離婚', '結婚', '美國', '何家', '表示', '時間', '台灣', '自己'], \n",
       "      dtype='<U7')"
      ]
     },
     "execution_count": 202,
     "metadata": {},
     "output_type": "execute_result"
    }
   ],
   "source": [
    "terms = np.array(vectorizer.get_feature_names())\n",
    "terms[top10_word]"
   ]
  },
  {
   "cell_type": "code",
   "execution_count": 203,
   "metadata": {
    "collapsed": false
   },
   "outputs": [
    {
     "name": "stdout",
     "output_type": "stream",
     "text": [
      "group: 3\n",
      "top10 words ['全能' '神教' '中國' '宗教' '宗教自由' '組織' '一個' '迫害' '遭受' '歐洲']\n",
      "【特企】NGO聯名譴責中共迫害宗教信仰\n",
      "【特企】NGO聯名譴責中共迫害宗教信仰\n",
      "【特企】NGO聯名譴責中共迫害宗教信仰\n",
      "【特企】NGO聯名譴責中共迫害宗教信仰\n",
      "【特企】NGO聯名譴責中共迫害宗教信仰\n",
      "【特企】NGO聯名譴責中共迫害宗教信仰\n",
      "【特企】NGO聯名譴責中共迫害宗教信仰\n",
      "【特企】NGO聯名譴責中共迫害宗教信仰\n",
      "【特企】NGO聯名譴責中共迫害宗教信仰\n",
      "【特企】NGO聯名譴責中共迫害宗教信仰\n",
      "【特企】NGO聯名譴責中共迫害宗教信仰\n",
      "【特企】NGO聯名譴責中共迫害宗教信仰\n",
      "【特企】NGO聯名譴責中共迫害宗教信仰\n",
      "【特企】NGO聯名譴責中共迫害宗教信仰\n",
      "【特企】NGO聯名譴責中共迫害宗教信仰\n",
      "【特企】NGO聯名譴責中共迫害宗教信仰\n",
      "【特企】NGO聯名譴責中共迫害宗教信仰\n",
      "【特企】NGO聯名譴責中共迫害宗教信仰\n",
      "【特企】NGO聯名譴責中共迫害宗教信仰\n",
      "【特企】NGO聯名譴責中共迫害宗教信仰\n",
      "【特企】NGO聯名譴責中共迫害宗教信仰\n",
      "【特企】NGO聯名譴責中共迫害宗教信仰\n",
      "【特企】NGO聯名譴責中共迫害宗教信仰\n",
      "【特企】NGO聯名譴責中共迫害宗教信仰\n",
      "【特企】NGO聯名譴責中共迫害宗教信仰\n",
      "【特企】NGO聯名譴責中共迫害宗教信仰\n",
      "【特企】NGO聯名譴責中共迫害宗教信仰\n",
      "【特企】NGO聯名譴責中共迫害宗教信仰\n",
      "【特企】NGO聯名譴責中共迫害宗教信仰\n",
      "【特企】NGO聯名譴責中共迫害宗教信仰\n",
      "================================\n",
      "group: 70\n",
      "top10 words ['小嫻' '何守' '離婚' '結婚' '美國' '何家' '表示' '時間' '台灣' '自己']\n",
      "【狗仔偷拍】小嫻搬離何守正家租66坪房　月租6萬元\n",
      "許聖梅心疼小嫻被當空氣　爆何守正「有兩個女學員」\n",
      "【動畫解盤】毒菇跳火線譙seafood　小嫻難瘦香菇\n",
      "【獨家】小嫻賣房求子　婆婆竟拒入籍何家\n",
      "小心！在美結婚台灣沒登記　偷腥照樣能捉姦\n",
      "小嫻離婚導火線　拉何守正信妙禪\n",
      "小嫻守正結婚在台沒登記　想離婚只有兩條路\n",
      "大姑出面護弟！轟小嫻不能生「媽媽是全台最沒有尊嚴的婆婆」\n",
      "小嫻信奉妙禪　關鍵原因與何守正有關！\n",
      "小嫻何守正想離婚　必須先做這件事！\n",
      "【內幕動畫】小嫻婚變何守正姊反擊　不滿媽煮飯侍奉星媳婦\n",
      "小嫻婚變無徵兆　男星嘆：兩人向來出雙入對\n",
      "【獨家內幕】太傷！小嫻被分手　何守正當小三面前攤牌\n",
      "【小嫻離婚】何守正稱沒有遺憾　人妻女星超火「一嘴屁話」\n",
      "【小嫻離婚】3大退讓人財兩失　求子花光430萬積蓄\n",
      "================================\n",
      "group: 114\n",
      "top10 words ['專頁' '影片' '網友' '分享' '編輯' '網路' '報導' '圖片' '絲團' '果粉']\n",
      "驚！　野生捕獲恐龍遛汪星人\n",
      "驚！　野生捕獲恐龍遛汪星人\n",
      "搔癢無尾熊 表情超enjoy\n",
      "【笑翻片】各種抓！動物止癢出奇招\n",
      "【保護片】就是不能下水！狗狗護小主人\n",
      "群狗亂舞開趴　畫面太「美」讓人不敢看\n",
      "一家人霸氣合照　萌到爆！\n",
      "超近看螞蟻食蜂蜜　竟感到療癒？\n",
      "================================\n",
      "group: 202\n",
      "top10 words ['補助' '台電' '申請' '立委' '顏寬恒' '一手' '萬元' '經費' '報導' '電申']\n",
      "被爆罵、敲台電　顏寬恒「模糊反空污焦點」\n",
      "【反嗆片】被爆向台電申請補助又罵空污　顏寬恒：不會拿人手短\n",
      "「一手罵台電、一手敲台電」　經委會要台電公布立委補助資料\n",
      "被顏寬恒點名也跟台電要補助　蔡其昌：不應與空污混為一談\n",
      "================================\n",
      "group: 17\n",
      "top10 words ['桃園' '失聯' '宿舍' '汽車' '工廠' '火勢' '矽卡' '員工' '一名' '現場']\n",
      "【不斷更新】桃園工廠惡火撲滅 6人仍失聯宿舍內發現一堆白骨\n",
      "桃園工廠火勢熄滅　員工宿舍內發現一堆白骨\n",
      "汽車用品大廠「矽卡」燒毀　資本額達2億\n",
      "================================\n",
      "group: 45\n",
      "top10 words ['地區' '北部' '氣象局' '高溫' '影響' '玉山' '水氣' '半部' '中南部' '冷空氣']\n",
      "後天入冬最強冷空氣來襲　低溫下探12℃\n",
      "像灑了糖霜！玉山今晨降雪　積雪0.5公分\n",
      "輕颱啟德恐生成　入冬最強冷空氣周末來襲下探11℃（動畫）\n",
      "================================\n",
      "group: 186\n",
      "top10 words ['天堂' '遊戲' '玩家' '伺服器' '橘子' '下載' '開服' '網友' '開放' '上線']\n",
      "【崩潰動畫】《天堂M》斷線50次　玩家罵聲連連\n",
      "台戰豪砸40萬抽寶一場空　怒批《天堂M》根本錢坑\n",
      "《天堂M》超過116萬人登入　50個伺服器仍塞到爆\n",
      "================================\n",
      "group: 258\n",
      "top10 words ['高雄' '金管會' '銀行' '曾銘宗' '施壓' '表示' '管會' '高銀' '檢查' '本行']\n",
      "曾銘宗爆「好大的高雄銀」　高雄銀嗆：保留法律追訴權\n",
      "被控對金管會施壓　高銀：曾銘宗抹黑擬提告\n",
      "【慶富案】曾銘宗爆金管會被施壓　碰到花媽就失靈\n",
      "================================\n",
      "group: 341\n",
      "top10 words ['京華城' '市府' '都市' '計畫' '察院' '容積率' '發局' '提出' '認為' '審議']\n",
      "【壹週刊】百億貸款將到期　柯P放容積解套京華城\n",
      "京華城容積率增至560%案　北市都發局同意、待都委會審議\n",
      "及時雨！柯文哲放寬容積　京華城爽納百億\n",
      "================================\n",
      "group: 522\n",
      "top10 words ['建新' '三中' '公司' '中投' '報導' '張哲琛' '英九' '錄音' '集團' '中時']\n",
      "三中案馬英九圖利中時老闆？　北檢：不評論\n",
      "三中案祕錄光碟！恐扳倒馬英九　當年他錄的\n",
      "三中案500萬禮盒照　馬英九一句話成關鍵\n",
      "================================\n"
     ]
    }
   ],
   "source": [
    "from collections import Counter\n",
    "terms = np.array(vectorizer.get_feature_names())\n",
    "c = Counter(list(grp.values()))\n",
    "for g, cnt in c.most_common(10):\n",
    "    print('group:', g)\n",
    "    articles = titles_ary[grp_ary == g]\n",
    "    occurence_cnt = X[grp_ary == g].toarray().sum(axis = 0)\n",
    "    top10_word = occurence_cnt.argsort()[::-1][0:10]\n",
    "    print('top10 words', terms[top10_word])\n",
    "    for news in articles:\n",
    "        print(news)\n",
    "    print('================================')"
   ]
  },
  {
   "cell_type": "markdown",
   "metadata": {},
   "source": [
    "## 對話機器人資料"
   ]
  },
  {
   "cell_type": "code",
   "execution_count": 233,
   "metadata": {
    "collapsed": false
   },
   "outputs": [],
   "source": [
    "import requests\n",
    "res = requests.get('https://raw.githubusercontent.com/ywchiu/fubonr/master/data/results2.csv')\n",
    "corpus  = []\n",
    "phrases = [] \n",
    "for line in res.text.split('\\n')[1:]:\n",
    "    t = line.split('\\t')\n",
    "    if len(t) >= 2:\n",
    "        corpus.append(' '.join(jieba.cut(t[0].strip('\"')) ) )\n",
    "        phrases.append(t[0].strip('\"'))"
   ]
  },
  {
   "cell_type": "code",
   "execution_count": 259,
   "metadata": {
    "collapsed": false
   },
   "outputs": [
    {
     "data": {
      "text/plain": [
       "<3658x1861 sparse matrix of type '<class 'numpy.float64'>'\n",
       "\twith 5662 stored elements in Compressed Sparse Row format>"
      ]
     },
     "execution_count": 259,
     "metadata": {},
     "output_type": "execute_result"
    }
   ],
   "source": [
    "from sklearn.feature_extraction.text import TfidfVectorizer\n",
    "vectorizer = TfidfVectorizer()\n",
    "X = vectorizer.fit_transform(corpus)\n",
    "X"
   ]
  },
  {
   "cell_type": "code",
   "execution_count": 260,
   "metadata": {
    "collapsed": true
   },
   "outputs": [],
   "source": [
    "from sklearn.metrics.pairwise import cosine_similarity\n",
    "cs = cosine_similarity(X)"
   ]
  },
  {
   "cell_type": "code",
   "execution_count": 261,
   "metadata": {
    "collapsed": false
   },
   "outputs": [],
   "source": [
    "m = (cs >= 0.7).astype(int)"
   ]
  },
  {
   "cell_type": "code",
   "execution_count": 262,
   "metadata": {
    "collapsed": false
   },
   "outputs": [],
   "source": [
    "import community\n",
    "import networkx as nx\n",
    "G = nx.from_numpy_matrix(m)\n",
    "grp = community.best_partition(G)"
   ]
  },
  {
   "cell_type": "code",
   "execution_count": 263,
   "metadata": {
    "collapsed": false
   },
   "outputs": [],
   "source": [
    "c = Counter(list(grp.values()))"
   ]
  },
  {
   "cell_type": "code",
   "execution_count": 264,
   "metadata": {
    "collapsed": false
   },
   "outputs": [
    {
     "data": {
      "text/plain": [
       "[(62, 140),\n",
       " (16, 82),\n",
       " (233, 76),\n",
       " (212, 62),\n",
       " (68, 45),\n",
       " (192, 43),\n",
       " (2, 39),\n",
       " (105, 32),\n",
       " (9, 28),\n",
       " (20, 24)]"
      ]
     },
     "execution_count": 264,
     "metadata": {},
     "output_type": "execute_result"
    }
   ],
   "source": [
    "c.most_common(10)"
   ]
  },
  {
   "cell_type": "code",
   "execution_count": 271,
   "metadata": {
    "collapsed": false
   },
   "outputs": [
    {
     "name": "stdout",
     "output_type": "stream",
     "text": [
      "你好帥\n",
      "你好帥\n",
      "你好帥\n",
      "你好正\n",
      "你好帥\n",
      "你好強\n",
      "你好\n",
      "你好醜\n",
      "你好帥\n",
      "你好帥\n",
      "你好棒喔～～～\n",
      "你好醜\n",
      "你好\n",
      "你好\n",
      "你好帥\n",
      "你好帥\n",
      "你好\n",
      "你好帥\n",
      "你好醜\n",
      "你好\n",
      "你好\n",
      "你好\n",
      "你好\n",
      "你好\n",
      "你好帥\n",
      "你好帥\n",
      "你好帥\n",
      "你好\n",
      "你好帥\n",
      "你好帥\n",
      "你好煩\n",
      "你好\n",
      "你好\n",
      "你好\n",
      "你好\n",
      "你好\n",
      "你好\n",
      "你好帥\n",
      "你好棒\n"
     ]
    }
   ],
   "source": [
    "import numpy as np\n",
    "phrases_ary = np.array(phrases)\n",
    "grp_ary = np.array(list(grp.values()))\n",
    "for p in phrases_ary[grp_ary == 2]:\n",
    "    print(p)"
   ]
  },
  {
   "cell_type": "markdown",
   "metadata": {},
   "source": [
    "## 新聞分類"
   ]
  },
  {
   "cell_type": "code",
   "execution_count": 272,
   "metadata": {
    "collapsed": true
   },
   "outputs": [],
   "source": [
    "import pandas\n",
    "appledaily = pandas.read_excel('https://raw.githubusercontent.com/ywchiu/fuboni/master/data/appledaily20171214.xlsx')"
   ]
  },
  {
   "cell_type": "code",
   "execution_count": 278,
   "metadata": {
    "collapsed": false
   },
   "outputs": [
    {
     "data": {
      "text/plain": [
       "生活      160\n",
       "社會      146\n",
       "國際      127\n",
       "財經地產    110\n",
       "娛樂      101\n",
       "政治       84\n",
       "體育       62\n",
       "論壇       38\n",
       "副刊       25\n",
       "3C       22\n",
       "動物       19\n",
       "壹週刊       5\n",
       "Name: category, dtype: int64"
      ]
     },
     "execution_count": 278,
     "metadata": {},
     "output_type": "execute_result"
    }
   ],
   "source": [
    "appledaily['category'].value_counts()"
   ]
  },
  {
   "cell_type": "code",
   "execution_count": 338,
   "metadata": {
    "collapsed": false
   },
   "outputs": [],
   "source": [
    "corpus     = []\n",
    "titles     = []\n",
    "categories = []\n",
    "for rec in appledaily[appledaily['category'].isin(['社會', '娛樂' ])].iterrows():\n",
    "    corpus.append(' '.join([w for w in jieba.cut(rec[1].content)\\\n",
    "                           if re.match('^[\\u4e00-\\u9fa5]+$', w)]))\n",
    "    titles.append(rec[1].title)\n",
    "    categories.append(rec[1].category)"
   ]
  },
  {
   "cell_type": "code",
   "execution_count": 339,
   "metadata": {
    "collapsed": false
   },
   "outputs": [
    {
     "data": {
      "text/plain": [
       "<247x13373 sparse matrix of type '<class 'numpy.int64'>'\n",
       "\twith 30785 stored elements in Compressed Sparse Row format>"
      ]
     },
     "execution_count": 339,
     "metadata": {},
     "output_type": "execute_result"
    }
   ],
   "source": [
    "from sklearn.feature_extraction.text import CountVectorizer\n",
    "vectorizer = CountVectorizer()\n",
    "X = vectorizer.fit_transform(corpus)\n",
    "X"
   ]
  },
  {
   "cell_type": "code",
   "execution_count": 340,
   "metadata": {
    "collapsed": false
   },
   "outputs": [
    {
     "data": {
      "text/plain": [
       "247"
      ]
     },
     "execution_count": 340,
     "metadata": {},
     "output_type": "execute_result"
    }
   ],
   "source": [
    "len(categories)"
   ]
  },
  {
   "cell_type": "code",
   "execution_count": 341,
   "metadata": {
    "collapsed": true
   },
   "outputs": [],
   "source": [
    "from sklearn.cross_validation import train_test_split\n",
    "train_data, test_data, train_tag, test_tag, train_title, test_title = train_test_split(X, categories, titles, test_size = 0.33, random_state = 42)"
   ]
  },
  {
   "cell_type": "code",
   "execution_count": 342,
   "metadata": {
    "collapsed": false
   },
   "outputs": [
    {
     "data": {
      "text/plain": [
       "(165, 13373)"
      ]
     },
     "execution_count": 342,
     "metadata": {},
     "output_type": "execute_result"
    }
   ],
   "source": [
    "train_data.shape"
   ]
  },
  {
   "cell_type": "code",
   "execution_count": 343,
   "metadata": {
    "collapsed": false
   },
   "outputs": [
    {
     "data": {
      "text/plain": [
       "(82, 13373)"
      ]
     },
     "execution_count": 343,
     "metadata": {},
     "output_type": "execute_result"
    }
   ],
   "source": [
    "test_data.shape"
   ]
  },
  {
   "cell_type": "code",
   "execution_count": 344,
   "metadata": {
    "collapsed": false
   },
   "outputs": [
    {
     "data": {
      "text/plain": [
       "165"
      ]
     },
     "execution_count": 344,
     "metadata": {},
     "output_type": "execute_result"
    }
   ],
   "source": [
    "len(train_tag)"
   ]
  },
  {
   "cell_type": "code",
   "execution_count": 345,
   "metadata": {
    "collapsed": false
   },
   "outputs": [
    {
     "data": {
      "text/plain": [
       "82"
      ]
     },
     "execution_count": 345,
     "metadata": {},
     "output_type": "execute_result"
    }
   ],
   "source": [
    "len(test_tag)"
   ]
  },
  {
   "cell_type": "code",
   "execution_count": 346,
   "metadata": {
    "collapsed": false
   },
   "outputs": [
    {
     "data": {
      "text/plain": [
       "MultinomialNB(alpha=0.01, class_prior=None, fit_prior=True)"
      ]
     },
     "execution_count": 346,
     "metadata": {},
     "output_type": "execute_result"
    }
   ],
   "source": [
    "from sklearn.naive_bayes import MultinomialNB\n",
    "clf = MultinomialNB(alpha = 0.01)\n",
    "clf.fit(train_data, train_tag)"
   ]
  },
  {
   "cell_type": "code",
   "execution_count": 347,
   "metadata": {
    "collapsed": false
   },
   "outputs": [],
   "source": [
    "predicted = clf.predict(test_data)"
   ]
  },
  {
   "cell_type": "code",
   "execution_count": 348,
   "metadata": {
    "collapsed": false
   },
   "outputs": [
    {
     "data": {
      "text/plain": [
       "0.98780487804878048"
      ]
     },
     "execution_count": 348,
     "metadata": {},
     "output_type": "execute_result"
    }
   ],
   "source": [
    "from sklearn.metrics import accuracy_score\n",
    "accuracy_score(predicted, test_tag)"
   ]
  },
  {
   "cell_type": "code",
   "execution_count": 349,
   "metadata": {
    "collapsed": false
   },
   "outputs": [
    {
     "name": "stdout",
     "output_type": "stream",
     "text": [
      "['娛樂' '社會']\n"
     ]
    },
    {
     "data": {
      "text/plain": [
       "array([[35,  1],\n",
       "       [ 0, 46]])"
      ]
     },
     "execution_count": 349,
     "metadata": {},
     "output_type": "execute_result"
    }
   ],
   "source": [
    "from sklearn.metrics import confusion_matrix\n",
    "m = confusion_matrix(predicted, test_tag)\n",
    "print(clf.classes_)\n",
    "m"
   ]
  },
  {
   "cell_type": "code",
   "execution_count": 350,
   "metadata": {
    "collapsed": false
   },
   "outputs": [
    {
     "data": {
      "text/plain": [
       "(array(['【K律師論點】離婚＝失敗？\\u3000K律師這麼說'], \n",
       "       dtype='<U36'), array(['娛樂'], \n",
       "       dtype='<U2'))"
      ]
     },
     "execution_count": 350,
     "metadata": {},
     "output_type": "execute_result"
    }
   ],
   "source": [
    "test_title_ary = np.array(test_title)\n",
    "#for ele in predicted != test_tag\n",
    "test_title_ary[predicted != test_tag],predicted[predicted != test_tag]\n",
    "#, test_tag[predicted != test_tag]"
   ]
  },
  {
   "cell_type": "markdown",
   "metadata": {},
   "source": [
    "## 找出該新聞類別關鍵字"
   ]
  },
  {
   "cell_type": "code",
   "execution_count": 352,
   "metadata": {
    "collapsed": false
   },
   "outputs": [
    {
     "data": {
      "text/plain": [
       "array([ -9.78604833,  -8.69405858,  -9.78604833, ..., -14.40116885,\n",
       "        -9.78604833,  -9.78604833])"
      ]
     },
     "execution_count": 352,
     "metadata": {},
     "output_type": "execute_result"
    }
   ],
   "source": [
    "clf.feature_count_[0]\n",
    "clf.coef_[0]"
   ]
  },
  {
   "cell_type": "code",
   "execution_count": 361,
   "metadata": {
    "collapsed": false
   },
   "outputs": [
    {
     "data": {
      "text/plain": [
       "array([[ 0.,  5.,  0., ...,  2.,  0.,  0.],\n",
       "       [ 1.,  3.,  1., ...,  0.,  1.,  1.]])"
      ]
     },
     "execution_count": 361,
     "metadata": {},
     "output_type": "execute_result"
    }
   ],
   "source": [
    "clf.feature_count_"
   ]
  },
  {
   "cell_type": "code",
   "execution_count": 366,
   "metadata": {
    "collapsed": false
   },
   "outputs": [
    {
     "data": {
      "text/plain": [
       "array(['娛樂', '社會'], \n",
       "      dtype='<U2')"
      ]
     },
     "execution_count": 366,
     "metadata": {},
     "output_type": "execute_result"
    }
   ],
   "source": [
    "clf.classes_"
   ]
  },
  {
   "cell_type": "code",
   "execution_count": 376,
   "metadata": {
    "collapsed": false
   },
   "outputs": [
    {
     "name": "stdout",
     "output_type": "stream",
     "text": [
      "(63.0, '男子', 0.0, 63.0)\n",
      "(46.666666666666664, '警方', 2.0, 140.0)\n",
      "(38.0, '突發', 0.0, 38.0)\n",
      "(37.0, '女子', 0.0, 37.0)\n",
      "(33.0, '機車', 0.0, 33.0)\n",
      "(30.0, '少年', 0.0, 30.0)\n",
      "(30.0, '法官', 0.0, 30.0)\n",
      "(30.0, '派出所', 0.0, 30.0)\n",
      "(28.0, '警員', 0.0, 28.0)\n",
      "(28.0, '進行', 0.0, 28.0)\n"
     ]
    }
   ],
   "source": [
    "import operator\n",
    "coef_features_c1_c2 = []\n",
    "\n",
    "for index, features in enumerate(zip(vectorizer.get_feature_names(), \\\n",
    "                        clf.feature_count_[0], clf.feature_count_[1])):\n",
    "    feat,c1,c2 = features\n",
    "    coef_features_c1_c2.append(tuple([c2/(c1 + 1), feat, c1, c2]))\n",
    "\n",
    "for i in sorted(coef_features_c1_c2, key = operator.itemgetter(0), reverse=True)[0:10]:\n",
    "    print(i)"
   ]
  },
  {
   "cell_type": "code",
   "execution_count": null,
   "metadata": {
    "collapsed": true
   },
   "outputs": [],
   "source": []
  }
 ],
 "metadata": {
  "kernelspec": {
   "display_name": "Python 3",
   "language": "python",
   "name": "python3"
  },
  "language_info": {
   "codemirror_mode": {
    "name": "ipython",
    "version": 3
   },
   "file_extension": ".py",
   "mimetype": "text/x-python",
   "name": "python",
   "nbconvert_exporter": "python",
   "pygments_lexer": "ipython3",
   "version": "3.6.0"
  }
 },
 "nbformat": 4,
 "nbformat_minor": 2
}

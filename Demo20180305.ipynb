{
 "cells": [
  {
   "cell_type": "markdown",
   "metadata": {},
   "source": [
    "## 抓取富邦人壽問答集"
   ]
  },
  {
   "cell_type": "code",
   "execution_count": 3,
   "metadata": {
    "collapsed": false
   },
   "outputs": [
    {
     "data": {
      "text/plain": [
       "'ISO-8859-1'"
      ]
     },
     "execution_count": 3,
     "metadata": {},
     "output_type": "execute_result"
    }
   ],
   "source": [
    "import requests\n",
    "res = requests.get('https://www.fubon.com/life/direct/Faq.html')\n",
    "res.encoding"
   ]
  },
  {
   "cell_type": "code",
   "execution_count": 5,
   "metadata": {
    "collapsed": false
   },
   "outputs": [],
   "source": [
    "res.encoding = 'utf-8'\n",
    "#res.text"
   ]
  },
  {
   "cell_type": "code",
   "execution_count": 6,
   "metadata": {
    "collapsed": true
   },
   "outputs": [],
   "source": [
    "from bs4 import BeautifulSoup\n",
    "soup = BeautifulSoup(res.text, 'lxml')"
   ]
  },
  {
   "cell_type": "code",
   "execution_count": 11,
   "metadata": {
    "collapsed": false
   },
   "outputs": [],
   "source": [
    "questions = [q.text for q  in soup.select('.faq__q')]\n",
    "#questions"
   ]
  },
  {
   "cell_type": "code",
   "execution_count": 15,
   "metadata": {
    "collapsed": true
   },
   "outputs": [],
   "source": [
    "answers = [q.text.strip() for q  in soup.select('.faq__a')]"
   ]
  },
  {
   "cell_type": "code",
   "execution_count": 19,
   "metadata": {
    "collapsed": false
   },
   "outputs": [],
   "source": [
    "qa_ary = []\n",
    "for q, a in zip(questions, answers):\n",
    "    qa_ary.append({'questions':q,'answer':a})"
   ]
  },
  {
   "cell_type": "code",
   "execution_count": 21,
   "metadata": {
    "collapsed": false
   },
   "outputs": [],
   "source": [
    "import pandas\n",
    "qa_df = pandas.DataFrame(qa_ary)\n",
    "qa_df.to_excel('fubonqa.xlsx')"
   ]
  },
  {
   "cell_type": "markdown",
   "metadata": {},
   "source": [
    "## 產生一個自動問答機器人"
   ]
  },
  {
   "cell_type": "code",
   "execution_count": 22,
   "metadata": {
    "collapsed": true
   },
   "outputs": [],
   "source": [
    "import pandas\n",
    "fubonqa = pandas.read_excel('https://raw.githubusercontent.com/ywchiu/fubonpy/master/data/fubonqa.xlsx')"
   ]
  },
  {
   "cell_type": "code",
   "execution_count": 40,
   "metadata": {
    "collapsed": false
   },
   "outputs": [],
   "source": [
    "import jieba\n",
    "\n",
    "q = '請問要保人是什麼?'\n",
    "\n",
    "corpus    = [' '.join(jieba.cut(q))]\n",
    "questions = [q]\n",
    "answers   = ['DUMMY']\n",
    "for rec in fubonqa.iterrows():\n",
    "    corpus.append(' '.join(jieba.cut(rec[1].questions)))\n",
    "    questions.append(rec[1].questions)\n",
    "    answers.append(rec[1].answer)"
   ]
  },
  {
   "cell_type": "code",
   "execution_count": 41,
   "metadata": {
    "collapsed": false
   },
   "outputs": [
    {
     "data": {
      "text/plain": [
       "<31x114 sparse matrix of type '<class 'numpy.int64'>'\n",
       "\twith 183 stored elements in Compressed Sparse Row format>"
      ]
     },
     "execution_count": 41,
     "metadata": {},
     "output_type": "execute_result"
    }
   ],
   "source": [
    "from sklearn.feature_extraction.text import CountVectorizer\n",
    "vectorizer = CountVectorizer()\n",
    "X = vectorizer.fit_transform(corpus)\n",
    "X"
   ]
  },
  {
   "cell_type": "code",
   "execution_count": 42,
   "metadata": {
    "collapsed": false
   },
   "outputs": [
    {
     "data": {
      "text/plain": [
       "'要保人是指對保險標的具有保險利益，向保險人申請訂立保險契約，並負有交付保險費義務之人。'"
      ]
     },
     "execution_count": 42,
     "metadata": {},
     "output_type": "execute_result"
    }
   ],
   "source": [
    "from sklearn.metrics.pairwise import cosine_similarity\n",
    "cs = cosine_similarity(X[0], X)\n",
    "pos = cs[0].argsort()[::-1][1]\n",
    "questions[pos]\n",
    "answers[pos]"
   ]
  },
  {
   "cell_type": "code",
   "execution_count": 51,
   "metadata": {
    "collapsed": false
   },
   "outputs": [],
   "source": [
    "import jieba\n",
    "\n",
    "q = '請問要保人是什麼?'\n",
    "\n",
    "def autoQA(q,threshold):\n",
    "    corpus    = [' '.join(jieba.cut(q))]\n",
    "    questions = [q]\n",
    "    answers   = ['DUMMY']\n",
    "    for rec in fubonqa.iterrows():\n",
    "        corpus.append(' '.join(jieba.cut(rec[1].questions)))\n",
    "        questions.append(rec[1].questions)\n",
    "        answers.append(rec[1].answer)\n",
    "    vectorizer = CountVectorizer()\n",
    "    X = vectorizer.fit_transform(corpus)\n",
    "    cs = cosine_similarity(X[0], X)\n",
    "    pos = cs[0].argsort()[::-1][1]\n",
    "    if cs[0][pos] > threshold:\n",
    "        return answers[pos]\n",
    "    else:\n",
    "        return '我現在還在學習您的問題, 等我變聰明以後我就可以回答您了'"
   ]
  },
  {
   "cell_type": "code",
   "execution_count": 53,
   "metadata": {
    "collapsed": false
   },
   "outputs": [
    {
     "data": {
      "text/plain": [
       "'要保人是指對保險標的具有保險利益，向保險人申請訂立保險契約，並負有交付保險費義務之人。'"
      ]
     },
     "execution_count": 53,
     "metadata": {},
     "output_type": "execute_result"
    }
   ],
   "source": [
    "autoQA('請問要保人是什麼?', 0.5)"
   ]
  },
  {
   "cell_type": "code",
   "execution_count": 54,
   "metadata": {
    "collapsed": false
   },
   "outputs": [
    {
     "data": {
      "text/plain": [
       "'我現在還在學習您的問題, 等我變聰明以後我就可以回答您了'"
      ]
     },
     "execution_count": 54,
     "metadata": {},
     "output_type": "execute_result"
    }
   ],
   "source": [
    "autoQA('請問今天天氣好嗎', 0.5)"
   ]
  },
  {
   "cell_type": "markdown",
   "metadata": {},
   "source": [
    "## 產生一個可對話機器人"
   ]
  },
  {
   "cell_type": "code",
   "execution_count": 58,
   "metadata": {
    "collapsed": true
   },
   "outputs": [],
   "source": [
    "import speech_recognition as sr\n",
    "def listenToMe():\n",
    "    r = sr.Recognizer()\n",
    "    with sr.Microphone() as source:\n",
    "        print(\"請說出您的問題!\")\n",
    "        audio = r.listen(source)\n",
    "    return r.recognize_google(audio, language='zh-TW')"
   ]
  },
  {
   "cell_type": "code",
   "execution_count": 59,
   "metadata": {
    "collapsed": false
   },
   "outputs": [
    {
     "name": "stdout",
     "output_type": "stream",
     "text": [
      "請說出您的問題!\n"
     ]
    },
    {
     "data": {
      "text/plain": [
       "'請問什麼是要保人'"
      ]
     },
     "execution_count": 59,
     "metadata": {},
     "output_type": "execute_result"
    }
   ],
   "source": [
    "listenToMe()"
   ]
  },
  {
   "cell_type": "code",
   "execution_count": 60,
   "metadata": {
    "collapsed": true
   },
   "outputs": [],
   "source": [
    "\n",
    "from gtts import gTTS\n",
    "from pygame import mixer\n",
    "mixer.init()\n",
    "\n",
    "import tempfile\n",
    "def speak(sentence):\n",
    "    with tempfile.NamedTemporaryFile(delete=True) as fp:\n",
    "        tts = gTTS(text=sentence, lang='zh')\n",
    "        tts.save(\"{}.mp3\".format(fp.name))\n",
    "        mixer.music.load('{}.mp3'.format(fp.name))\n",
    "        mixer.music.play()\n",
    "speak('大家好')"
   ]
  },
  {
   "cell_type": "code",
   "execution_count": 67,
   "metadata": {
    "collapsed": false
   },
   "outputs": [
    {
     "name": "stdout",
     "output_type": "stream",
     "text": [
      "請說出您的問題!\n"
     ]
    }
   ],
   "source": [
    "speak(autoQA(listenToMe(), 0.5))"
   ]
  },
  {
   "cell_type": "markdown",
   "metadata": {},
   "source": [
    "## 新聞分群"
   ]
  },
  {
   "cell_type": "code",
   "execution_count": 78,
   "metadata": {
    "collapsed": false
   },
   "outputs": [],
   "source": [
    "import requests\n",
    "from bs4 import BeautifulSoup\n",
    "res = requests.get('https://raw.githubusercontent.com/ywchiu/fuboni/master/data/1435449602.xml')"
   ]
  },
  {
   "cell_type": "code",
   "execution_count": 97,
   "metadata": {
    "collapsed": false
   },
   "outputs": [],
   "source": [
    "from xml.dom import minidom\n",
    "from xml.etree import ElementTree\n",
    "import jieba.analyse\n",
    "import re\n",
    "\n",
    "events=ElementTree.fromstring(res.text)\n",
    "\n",
    "corpus = []\n",
    "titles = []\n",
    "for elem in events.findall('./channel/item'):\n",
    "    title       = elem.find('title').text\n",
    "    description = elem.find('description').text\n",
    "    ## original\n",
    "    #corpus.append(' '.join(jieba.cut(description)))\n",
    "    \n",
    "    ## filter out non-chinese word\n",
    "    #ary = []\n",
    "    #for w in jieba.cut(description):\n",
    "    #    m = re.match('^[\\u4e00-\\u9fa5]+$', w)\n",
    "    #    if m:\n",
    "    #        ary.append(w)\n",
    "    #corpus.append(' '.join(ary))\n",
    "    \n",
    "    ## recommend method\n",
    "    corpus.append(' '.join([w for w in jieba.cut(description) \\\n",
    "                            if re.match('^[\\u4e00-\\u9fa5]+$', w)]))\n",
    "    titles.append(title)"
   ]
  },
  {
   "cell_type": "code",
   "execution_count": 98,
   "metadata": {
    "collapsed": false
   },
   "outputs": [
    {
     "data": {
      "text/plain": [
       "'新北市 八仙 水上 樂園 昨晚 發 生粉 塵 爆炸 新北市 衛生局 統計 到 目前 為止 由 救護車 送 醫再 加上 自行 送醫 的 人數 已經 有 人 其中 人 重傷 而 新北市 長 朱立倫 昨晚 到 現場 坐鎮 指揮 了解 狀況 並馬上 要求 追究 責任 徹查 並要 八仙 樂園 立刻 關園 停業 八仙 樂園 業者 雖然 表示 活動 是 外包 的 但 也 說 會 配合 暫時 停止 營業 接受 調查 警方 今天 凌晨 也 帶 回 五名 相關 人 漏夜 偵訊 包括 現場 呂姓 活動 負責人 邱姓 硬體 設備 人員 和 廖姓 特效 人員 以及 兩名 在 現場 噴灑 彩色 粉塵 的 名 工作 人員 訊後將 依業務 過失 重大 傷害 與 公共 危險 罪嫌 偵辦 統一 移送 士林 地檢署 檢警 偵辦 重點 在 於 主辦 單位 辦 這個 活動時 到底 有 沒 有 做好 安全 上 的 防備 據 了解 主辦 人 表示 彩色 派 對 今年 是 第四次 舉辦 去年 也 才 在 高雄 西子 灣辦過 不 知道 為何 這次 會 造成 這麼 嚴重 的 意外 但 警方 對 這樣 的 說法 保留 態度 而 士林 地檢署 今天 凌晨 也 已經 由 名檢察官 連夜 到 八仙 樂園 了解 情況 並 扣押 噴發 氣體 和 粉塵 的 鋼瓶 據 了解 檢方 人員到 現場 後 發現 舞台 設在 游泳池 中間 其實 等 於 是 半密閉 空間 而且 地上 四散 菸 蒂 和 打火 機 不 排除 是 有人 不慎 點 菸 引燃 造成 這次 的 意外 而 外界 關注 昨晚 現場 到底 有 沒 有 在 舞台 上 噴火 據 了解 昨晚 器材 中並 沒有 火焰 效果器 檢警 初步 研判 辦 趴用 的 粉彩 主要 成分 為 玉米粉 在 一定 的 空間 一定 的 濃度 遇到 靜電 或 火花 不用 高溫 就 很 容易 引發 閃燃 現象 可能 是 大量 接觸 熱能 像是 舞台 光源 器材 電流 點 菸 等 引發 爆炸 但 詳細 起火 原因 和 起火 點 還是 要 經由 火場 鑑識 釐 清 檢警 近期 將陸續 傳喚 傷者 並調 閱監 視錄 影畫面 了解 事發 經過'"
      ]
     },
     "execution_count": 98,
     "metadata": {},
     "output_type": "execute_result"
    }
   ],
   "source": [
    "corpus[0]"
   ]
  },
  {
   "cell_type": "code",
   "execution_count": 99,
   "metadata": {
    "collapsed": false
   },
   "outputs": [
    {
     "data": {
      "text/plain": [
       "<147x12245 sparse matrix of type '<class 'numpy.int64'>'\n",
       "\twith 22679 stored elements in Compressed Sparse Row format>"
      ]
     },
     "execution_count": 99,
     "metadata": {},
     "output_type": "execute_result"
    }
   ],
   "source": [
    "from sklearn.feature_extraction.text import CountVectorizer\n",
    "vectorizer = CountVectorizer()\n",
    "X = vectorizer.fit_transform(corpus)\n",
    "X"
   ]
  },
  {
   "cell_type": "code",
   "execution_count": 101,
   "metadata": {
    "collapsed": false
   },
   "outputs": [],
   "source": [
    "#vectorizer.get_feature_names()"
   ]
  },
  {
   "cell_type": "code",
   "execution_count": 102,
   "metadata": {
    "collapsed": false
   },
   "outputs": [
    {
     "data": {
      "text/plain": [
       "array([[ 1.        ,  0.16031292,  0.00604056, ...,  0.25165992,\n",
       "         0.0303501 ,  0.02004996],\n",
       "       [ 0.16031292,  1.        ,  0.02020511, ...,  0.1933817 ,\n",
       "         0.03806935,  0.02235509],\n",
       "       [ 0.00604056,  0.02020511,  1.        , ...,  0.01585904,\n",
       "         0.        ,  0.        ],\n",
       "       ..., \n",
       "       [ 0.25165992,  0.1933817 ,  0.01585904, ...,  1.        ,\n",
       "         0.03984095,  0.05263968],\n",
       "       [ 0.0303501 ,  0.03806935,  0.        , ...,  0.03984095,\n",
       "         1.        ,  0.31318412],\n",
       "       [ 0.02004996,  0.02235509,  0.        , ...,  0.05263968,\n",
       "         0.31318412,  1.        ]])"
      ]
     },
     "execution_count": 102,
     "metadata": {},
     "output_type": "execute_result"
    }
   ],
   "source": [
    "from sklearn.metrics.pairwise import cosine_similarity\n",
    "cs = cosine_similarity(X)\n",
    "cs"
   ]
  },
  {
   "cell_type": "code",
   "execution_count": 108,
   "metadata": {
    "collapsed": false
   },
   "outputs": [],
   "source": [
    "from sklearn import cluster\n",
    "c = cluster.KMeans(n_clusters = 4, init='k-means++')"
   ]
  },
  {
   "cell_type": "code",
   "execution_count": 109,
   "metadata": {
    "collapsed": false
   },
   "outputs": [],
   "source": [
    "grp = c.fit_predict(cs)"
   ]
  },
  {
   "cell_type": "code",
   "execution_count": 116,
   "metadata": {
    "collapsed": false
   },
   "outputs": [
    {
     "name": "stdout",
     "output_type": "stream",
     "text": [
      "蔡依林淚奪金曲 錦榮傳訊恭喜\n",
      "陳奕迅、張惠妹稱王封后  蔡依林抱回最大獎\n",
      "陳奕迅、莫文蔚伴侶均不知阿娜答金曲獲獎\n",
      "金曲26／蔡依林擒３獎大勝　淚崩再挺婚姻平權\n",
      "金曲26／張惠妹奪歌后卻失落　要世界感受彩虹力量\n",
      "金曲26／蔡依林淚奪最佳專輯＋完整得獎名單\n",
      "僅次Jolin！徐佳瑩入圍6獎全槓被封遺珠\n",
      "金曲最風光！蔡依林紅毯全勝又獲3獎成大贏家\n",
      "張惠妹3度封后  想破江蕙紀錄\n",
      "金曲26／陳奕迅稱王謝台灣　張惠妹封后秒噴淚\n",
      "蔡依林呸大贏家  金曲最佳專輯獎\n",
      "陳奕迅二度打敗歌神  金曲歌王好嗨\n",
      "金曲獎完整得獎名單！阿妹封后 陳奕迅稱王\n",
      "第26屆金曲獎 陳奕迅奪歌王、阿妹封歌后\n",
      "金曲最佳國語專輯：呸\n",
      "《金曲26》2015金曲獎得獎名單 線上直播懶人包\n"
     ]
    }
   ],
   "source": [
    "import numpy as np\n",
    "titles_ary = np.array(titles)\n",
    "#titles_ary[grp]\n",
    "#grp  == 2\n",
    "for t in titles_ary[grp  == 3]:\n",
    "    print(t)"
   ]
  }
 ],
 "metadata": {
  "kernelspec": {
   "display_name": "Python 3",
   "language": "python",
   "name": "python3"
  },
  "language_info": {
   "codemirror_mode": {
    "name": "ipython",
    "version": 3
   },
   "file_extension": ".py",
   "mimetype": "text/x-python",
   "name": "python",
   "nbconvert_exporter": "python",
   "pygments_lexer": "ipython3",
   "version": "3.6.0"
  }
 },
 "nbformat": 4,
 "nbformat_minor": 2
}

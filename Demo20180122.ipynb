{
 "cells": [
  {
   "cell_type": "markdown",
   "metadata": {},
   "source": [
    "## 自由時報爬蟲"
   ]
  },
  {
   "cell_type": "markdown",
   "metadata": {},
   "source": [
    "### 使用requests 抓取資料"
   ]
  },
  {
   "cell_type": "code",
   "execution_count": 1,
   "metadata": {},
   "outputs": [],
   "source": [
    "import requests\n",
    "res = requests.get('http://news.ltn.com.tw/list/breakingnews')"
   ]
  },
  {
   "cell_type": "code",
   "execution_count": 2,
   "metadata": {},
   "outputs": [
    {
     "data": {
      "text/plain": [
       "<Response [200]>"
      ]
     },
     "execution_count": 2,
     "metadata": {},
     "output_type": "execute_result"
    }
   ],
   "source": [
    "res"
   ]
  },
  {
   "cell_type": "code",
   "execution_count": 4,
   "metadata": {},
   "outputs": [],
   "source": [
    "#res.text"
   ]
  },
  {
   "cell_type": "markdown",
   "metadata": {},
   "source": [
    "### 使用BeautifulSoup 解析資料"
   ]
  },
  {
   "cell_type": "code",
   "execution_count": 5,
   "metadata": {},
   "outputs": [],
   "source": [
    "from bs4 import BeautifulSoup\n",
    "soup = BeautifulSoup(res.text, 'html.parser')"
   ]
  },
  {
   "cell_type": "code",
   "execution_count": 7,
   "metadata": {},
   "outputs": [],
   "source": [
    "news = soup.select('.imm li')"
   ]
  },
  {
   "cell_type": "code",
   "execution_count": 29,
   "metadata": {},
   "outputs": [],
   "source": [
    "newsary = []\n",
    "for li in news:\n",
    "    #print(li)\n",
    "    title = li.select_one('p').text.strip()\n",
    "    time  = li.select_one('span').text.strip()\n",
    "    link  = li.select_one('a').get('href')\n",
    "    tags  = ','.join([tag.text.strip() for tag in li.select('.immtag')])\n",
    "    res   = {'time':time, 'title':title, 'link':link, 'tags':tags}\n",
    "    newsary.append(res)\n",
    "    #print('=====================================')"
   ]
  },
  {
   "cell_type": "markdown",
   "metadata": {},
   "source": [
    "### 使用Pandas 整理出結構化資料"
   ]
  },
  {
   "cell_type": "code",
   "execution_count": 31,
   "metadata": {},
   "outputs": [],
   "source": [
    "import pandas\n",
    "newsdf = pandas.DataFrame(newsary)"
   ]
  },
  {
   "cell_type": "code",
   "execution_count": 33,
   "metadata": {},
   "outputs": [
    {
     "data": {
      "text/html": [
       "<div>\n",
       "<style scoped>\n",
       "    .dataframe tbody tr th:only-of-type {\n",
       "        vertical-align: middle;\n",
       "    }\n",
       "\n",
       "    .dataframe tbody tr th {\n",
       "        vertical-align: top;\n",
       "    }\n",
       "\n",
       "    .dataframe thead th {\n",
       "        text-align: right;\n",
       "    }\n",
       "</style>\n",
       "<table border=\"1\" class=\"dataframe\">\n",
       "  <thead>\n",
       "    <tr style=\"text-align: right;\">\n",
       "      <th></th>\n",
       "      <th>link</th>\n",
       "      <th>tags</th>\n",
       "      <th>time</th>\n",
       "      <th>title</th>\n",
       "    </tr>\n",
       "  </thead>\n",
       "  <tbody>\n",
       "    <tr>\n",
       "      <th>0</th>\n",
       "      <td>http://news.ltn.com.tw/news/world/breakingnews...</td>\n",
       "      <td>國際</td>\n",
       "      <td>09:20</td>\n",
       "      <td>傳統超商小心！ 亞馬遜無人商店開張了</td>\n",
       "    </tr>\n",
       "    <tr>\n",
       "      <th>1</th>\n",
       "      <td>http://news.ltn.com.tw/news/politics/breakingn...</td>\n",
       "      <td>政治</td>\n",
       "      <td>09:14</td>\n",
       "      <td>不選台北市長 蔣萬安、柯建銘隔空交火互薦讀「書」</td>\n",
       "    </tr>\n",
       "    <tr>\n",
       "      <th>2</th>\n",
       "      <td>http://news.ltn.com.tw/news/life/breakingnews/...</td>\n",
       "      <td>生活,基隆市</td>\n",
       "      <td>09:12</td>\n",
       "      <td>天天吃好料》基隆「流氓滷味攤」 藝人謝昕回家必吃</td>\n",
       "    </tr>\n",
       "    <tr>\n",
       "      <th>3</th>\n",
       "      <td>http://sports.ltn.com.tw/news/breakingnews/231...</td>\n",
       "      <td>體育</td>\n",
       "      <td>09:12</td>\n",
       "      <td>羽球》最難打的對手！泰國一姐奪冠後謙虛讚美戴資穎</td>\n",
       "    </tr>\n",
       "    <tr>\n",
       "      <th>4</th>\n",
       "      <td>http://news.ltn.com.tw/news/politics/breakingn...</td>\n",
       "      <td>政治</td>\n",
       "      <td>09:11</td>\n",
       "      <td>中國直升機1小時襲台？美飛官：台灣比阿富汗戰區可怕！</td>\n",
       "    </tr>\n",
       "  </tbody>\n",
       "</table>\n",
       "</div>"
      ],
      "text/plain": [
       "                                                link    tags   time  \\\n",
       "0  http://news.ltn.com.tw/news/world/breakingnews...      國際  09:20   \n",
       "1  http://news.ltn.com.tw/news/politics/breakingn...      政治  09:14   \n",
       "2  http://news.ltn.com.tw/news/life/breakingnews/...  生活,基隆市  09:12   \n",
       "3  http://sports.ltn.com.tw/news/breakingnews/231...      體育  09:12   \n",
       "4  http://news.ltn.com.tw/news/politics/breakingn...      政治  09:11   \n",
       "\n",
       "                        title  \n",
       "0          傳統超商小心！ 亞馬遜無人商店開張了  \n",
       "1    不選台北市長 蔣萬安、柯建銘隔空交火互薦讀「書」  \n",
       "2    天天吃好料》基隆「流氓滷味攤」 藝人謝昕回家必吃  \n",
       "3    羽球》最難打的對手！泰國一姐奪冠後謙虛讚美戴資穎  \n",
       "4  中國直升機1小時襲台？美飛官：台灣比阿富汗戰區可怕！  "
      ]
     },
     "execution_count": 33,
     "metadata": {},
     "output_type": "execute_result"
    }
   ],
   "source": [
    "newsdf.head()"
   ]
  },
  {
   "cell_type": "code",
   "execution_count": 36,
   "metadata": {},
   "outputs": [],
   "source": [
    "newsdf.to_excel('news.xlsx')"
   ]
  },
  {
   "cell_type": "code",
   "execution_count": null,
   "metadata": {},
   "outputs": [],
   "source": []
  }
 ],
 "metadata": {
  "kernelspec": {
   "display_name": "Python 3",
   "language": "python",
   "name": "python3"
  },
  "language_info": {
   "codemirror_mode": {
    "name": "ipython",
    "version": 3
   },
   "file_extension": ".py",
   "mimetype": "text/x-python",
   "name": "python",
   "nbconvert_exporter": "python",
   "pygments_lexer": "ipython3",
   "version": "3.6.2"
  }
 },
 "nbformat": 4,
 "nbformat_minor": 2
}

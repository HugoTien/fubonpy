{
 "cells": [
  {
   "cell_type": "markdown",
   "metadata": {},
   "source": [
    "## For 迴圈"
   ]
  },
  {
   "cell_type": "code",
   "execution_count": 1,
   "metadata": {
    "collapsed": false
   },
   "outputs": [
    {
     "name": "stdout",
     "output_type": "stream",
     "text": [
      "1\n",
      "2\n",
      "3\n",
      "4\n",
      "5\n",
      "6\n",
      "7\n",
      "8\n",
      "9\n",
      "10\n"
     ]
    }
   ],
   "source": [
    "l = [1,2,3,4,5,6,7,8,9,10]\n",
    "for num in l:\n",
    "    print(num)"
   ]
  },
  {
   "cell_type": "code",
   "execution_count": 2,
   "metadata": {
    "collapsed": false
   },
   "outputs": [
    {
     "name": "stdout",
     "output_type": "stream",
     "text": [
      "1\n",
      "2\n",
      "3\n",
      "4\n",
      "5\n",
      "6\n",
      "7\n",
      "8\n",
      "9\n",
      "10\n"
     ]
    }
   ],
   "source": [
    "l = [1,2,3,4,5,6,7,8,9,10]\n",
    "for qoo in l:\n",
    "    print(qoo)"
   ]
  },
  {
   "cell_type": "code",
   "execution_count": 3,
   "metadata": {
    "collapsed": false
   },
   "outputs": [
    {
     "name": "stdout",
     "output_type": "stream",
     "text": [
      "1\n",
      "4\n",
      "9\n",
      "16\n",
      "25\n",
      "36\n",
      "49\n",
      "64\n",
      "81\n",
      "100\n"
     ]
    }
   ],
   "source": [
    "l = [1,2,3,4,5,6,7,8,9,10]\n",
    "for qoo in l:\n",
    "    print(qoo * qoo)"
   ]
  },
  {
   "cell_type": "code",
   "execution_count": 4,
   "metadata": {
    "collapsed": false
   },
   "outputs": [
    {
     "name": "stdout",
     "output_type": "stream",
     "text": [
      "1\n",
      "2\n",
      "3\n",
      "4\n",
      "5\n",
      "6\n",
      "7\n",
      "8\n",
      "9\n",
      "10\n"
     ]
    }
   ],
   "source": [
    "# for(i =1; i< 11; i++)\n",
    "for i in range(1,11):\n",
    "    print(i)"
   ]
  },
  {
   "cell_type": "code",
   "execution_count": 5,
   "metadata": {
    "collapsed": false
   },
   "outputs": [
    {
     "data": {
      "text/plain": [
       "55"
      ]
     },
     "execution_count": 5,
     "metadata": {},
     "output_type": "execute_result"
    }
   ],
   "source": [
    "list_num = 0 \n",
    "for num in range(1,11):\n",
    "    list_num = list_num + num\n",
    "list_num"
   ]
  },
  {
   "cell_type": "code",
   "execution_count": 6,
   "metadata": {
    "collapsed": false
   },
   "outputs": [
    {
     "data": {
      "text/plain": [
       "5050"
      ]
     },
     "execution_count": 6,
     "metadata": {},
     "output_type": "execute_result"
    }
   ],
   "source": [
    "list_num = 0 \n",
    "for num in range(1,101):\n",
    "    list_num = list_num + num\n",
    "list_num"
   ]
  },
  {
   "cell_type": "code",
   "execution_count": 7,
   "metadata": {
    "collapsed": false
   },
   "outputs": [
    {
     "data": {
      "text/plain": [
       "5050"
      ]
     },
     "execution_count": 7,
     "metadata": {},
     "output_type": "execute_result"
    }
   ],
   "source": [
    "list_num = 0 \n",
    "for num in range(1,101):\n",
    "    #list_num = list_num + num\n",
    "    list_num += num\n",
    "list_num"
   ]
  },
  {
   "cell_type": "code",
   "execution_count": 9,
   "metadata": {
    "collapsed": false
   },
   "outputs": [
    {
     "name": "stdout",
     "output_type": "stream",
     "text": [
      "t\n",
      "h\n",
      "i\n",
      "s\n",
      " \n",
      "i\n",
      "s\n",
      " \n",
      "a\n",
      " \n",
      "s\n",
      "t\n",
      "r\n",
      "i\n",
      "n\n",
      "g\n"
     ]
    }
   ],
   "source": [
    "s = 'this is a string'\n",
    "for letter in s:\n",
    "    print(letter)"
   ]
  },
  {
   "cell_type": "code",
   "execution_count": 10,
   "metadata": {
    "collapsed": false
   },
   "outputs": [
    {
     "name": "stdout",
     "output_type": "stream",
     "text": [
      "1\n",
      "2\n",
      "3\n",
      "4\n",
      "5\n"
     ]
    }
   ],
   "source": [
    "tup = (1,2,3,4,5)\n",
    "for t in tup:\n",
    "    print(t)"
   ]
  },
  {
   "cell_type": "code",
   "execution_count": 11,
   "metadata": {
    "collapsed": false
   },
   "outputs": [
    {
     "name": "stdout",
     "output_type": "stream",
     "text": [
      "(2, 4)\n",
      "(6, 8)\n",
      "(10, 12)\n"
     ]
    }
   ],
   "source": [
    "l = [(2,4),(6,8),(10,12)]\n",
    "for tup in l:\n",
    "    print(tup)"
   ]
  },
  {
   "cell_type": "code",
   "execution_count": 13,
   "metadata": {
    "collapsed": false
   },
   "outputs": [
    {
     "name": "stdout",
     "output_type": "stream",
     "text": [
      "20 4\n",
      "60 8\n",
      "100 12\n"
     ]
    }
   ],
   "source": [
    "for t1, t2 in l:\n",
    "    print(t1 * 10 , t2)"
   ]
  },
  {
   "cell_type": "code",
   "execution_count": 14,
   "metadata": {
    "collapsed": false
   },
   "outputs": [
    {
     "name": "stdout",
     "output_type": "stream",
     "text": [
      "k1\n",
      "k2\n",
      "k3\n"
     ]
    }
   ],
   "source": [
    "d = {'k1':1,'k2':2,'k3':3}\n",
    "for item in d:\n",
    "    print(item)"
   ]
  },
  {
   "cell_type": "code",
   "execution_count": 15,
   "metadata": {
    "collapsed": false
   },
   "outputs": [
    {
     "name": "stdout",
     "output_type": "stream",
     "text": [
      "1\n",
      "2\n",
      "3\n"
     ]
    }
   ],
   "source": [
    "d = {'k1':1,'k2':2,'k3':3}\n",
    "for item in d:\n",
    "    print(d[item])"
   ]
  },
  {
   "cell_type": "code",
   "execution_count": 16,
   "metadata": {
    "collapsed": false
   },
   "outputs": [
    {
     "name": "stdout",
     "output_type": "stream",
     "text": [
      "1\n",
      "2\n",
      "3\n"
     ]
    }
   ],
   "source": [
    "d = {'k1':1,'k2':2,'k3':3}\n",
    "for item in d:\n",
    "    print(d.get(item))"
   ]
  },
  {
   "cell_type": "code",
   "execution_count": 18,
   "metadata": {
    "collapsed": false
   },
   "outputs": [
    {
     "data": {
      "text/plain": [
       "dict_keys(['k1', 'k2', 'k3'])"
      ]
     },
     "execution_count": 18,
     "metadata": {},
     "output_type": "execute_result"
    }
   ],
   "source": [
    "d.keys()"
   ]
  },
  {
   "cell_type": "code",
   "execution_count": 20,
   "metadata": {
    "collapsed": false
   },
   "outputs": [
    {
     "data": {
      "text/plain": [
       "dict_values([1, 2, 3])"
      ]
     },
     "execution_count": 20,
     "metadata": {},
     "output_type": "execute_result"
    }
   ],
   "source": [
    "d.values()"
   ]
  },
  {
   "cell_type": "code",
   "execution_count": 21,
   "metadata": {
    "collapsed": false
   },
   "outputs": [
    {
     "data": {
      "text/plain": [
       "dict_items([('k1', 1), ('k2', 2), ('k3', 3)])"
      ]
     },
     "execution_count": 21,
     "metadata": {},
     "output_type": "execute_result"
    }
   ],
   "source": [
    "d.items()"
   ]
  },
  {
   "cell_type": "code",
   "execution_count": 22,
   "metadata": {
    "collapsed": false
   },
   "outputs": [
    {
     "name": "stdout",
     "output_type": "stream",
     "text": [
      "k1 1\n",
      "k2 2\n",
      "k3 3\n"
     ]
    }
   ],
   "source": [
    "for k,v in d.items():\n",
    "    print(k,v)"
   ]
  },
  {
   "cell_type": "code",
   "execution_count": 23,
   "metadata": {
    "collapsed": false
   },
   "outputs": [
    {
     "data": {
      "text/plain": [
       "[1, 2, 3]"
      ]
     },
     "execution_count": 23,
     "metadata": {},
     "output_type": "execute_result"
    }
   ],
   "source": [
    "d   = {'k1':1,'k2':2,'k3':3}\n",
    "ary = []\n",
    "for item in d:\n",
    "    ary.append(d.get(item))\n",
    "ary"
   ]
  },
  {
   "cell_type": "code",
   "execution_count": 24,
   "metadata": {
    "collapsed": false
   },
   "outputs": [
    {
     "data": {
      "text/plain": [
       "[1, 2, 3]"
      ]
     },
     "execution_count": 24,
     "metadata": {},
     "output_type": "execute_result"
    }
   ],
   "source": [
    "[d.get(item) for item in d]"
   ]
  },
  {
   "cell_type": "code",
   "execution_count": 26,
   "metadata": {
    "collapsed": false
   },
   "outputs": [
    {
     "data": {
      "text/plain": [
       "[2, 3]"
      ]
     },
     "execution_count": 26,
     "metadata": {},
     "output_type": "execute_result"
    }
   ],
   "source": [
    "d   = {'k1':1,'k2':2,'k3':3}\n",
    "ary = []\n",
    "for item in d:\n",
    "    if d.get(item) >=2:\n",
    "        ary.append(d.get(item))\n",
    "ary"
   ]
  },
  {
   "cell_type": "code",
   "execution_count": 27,
   "metadata": {
    "collapsed": false
   },
   "outputs": [
    {
     "data": {
      "text/plain": [
       "[2, 3]"
      ]
     },
     "execution_count": 27,
     "metadata": {},
     "output_type": "execute_result"
    }
   ],
   "source": [
    "[d.get(item) for item in d if d.get(item) >= 2]"
   ]
  },
  {
   "cell_type": "code",
   "execution_count": 29,
   "metadata": {
    "collapsed": false
   },
   "outputs": [
    {
     "data": {
      "text/plain": [
       "['ORANGE', 'APPLE', 'BANNANA']"
      ]
     },
     "execution_count": 29,
     "metadata": {},
     "output_type": "execute_result"
    }
   ],
   "source": [
    "fruits= ['orange', 'apple', 'bannana']\n",
    "ary = []\n",
    "for ele in fruits:\n",
    "    ary.append(ele.upper())\n",
    "ary"
   ]
  },
  {
   "cell_type": "code",
   "execution_count": 31,
   "metadata": {
    "collapsed": false
   },
   "outputs": [
    {
     "data": {
      "text/plain": [
       "['ORANGE', 'APPLE']"
      ]
     },
     "execution_count": 31,
     "metadata": {},
     "output_type": "execute_result"
    }
   ],
   "source": [
    "[ele.upper() for ele in fruits if 'e' in ele]"
   ]
  },
  {
   "cell_type": "markdown",
   "metadata": {},
   "source": [
    "## 一個範例"
   ]
  },
  {
   "cell_type": "markdown",
   "metadata": {},
   "source": [
    "### 請忽略他"
   ]
  },
  {
   "cell_type": "code",
   "execution_count": 61,
   "metadata": {
    "collapsed": false
   },
   "outputs": [
    {
     "data": {
      "text/plain": [
       "['產業類別', '產業描述', '員工', '資本額', '聯絡人', '公司地址', '電話', '傳真', '公司網址', '相關連結']"
      ]
     },
     "execution_count": 61,
     "metadata": {},
     "output_type": "execute_result"
    }
   ],
   "source": [
    "import requests\n",
    "from bs4 import BeautifulSoup\n",
    "res = requests.get('https://www.104.com.tw/jobbank/custjob/index.php?r=cust&j=616f426a47453f55303139622f6336175435f416d4b353f2020202063373a2524290j49&jobsource=hotjob_chr')\n",
    "res.encoding = 'utf-8'\n",
    "soup = BeautifulSoup(res.text, 'html.parser')\n",
    "intro = soup.select_one('.intro')\n",
    "dd = intro.select('dd')\n",
    "dt = intro.select('dt')\n",
    "dd = [''.join(ele.text.split()) for ele in dd]\n",
    "dt = [''.join(ele.text.split()).rstrip('：') for ele in dt]\n",
    "dt"
   ]
  },
  {
   "cell_type": "code",
   "execution_count": 62,
   "metadata": {
    "collapsed": false
   },
   "outputs": [
    {
     "data": {
      "text/plain": [
       "'Marry XMas and Happy New Year'"
      ]
     },
     "execution_count": 62,
     "metadata": {},
     "output_type": "execute_result"
    }
   ],
   "source": [
    "a = '            Marry           XMas and Happy      New Year'\n",
    "a.split()\n",
    "' '.join(a.split())"
   ]
  },
  {
   "cell_type": "code",
   "execution_count": 63,
   "metadata": {
    "collapsed": false
   },
   "outputs": [
    {
     "data": {
      "text/plain": [
       "{'傳真': '暫不提供',\n",
       " '公司地址': '台北市中正區忠孝東路一段9號地圖',\n",
       " '公司網址': 'http://www.giraffe.com.tw',\n",
       " '員工': '120人',\n",
       " '產業描述': '圖書出版及文化事業',\n",
       " '產業類別': '其他教育服務業',\n",
       " '相關連結': '長頸鹿網站｜企業簡介｜美語加盟｜GEO｜師訓課程｜更多商業司登記Google查公司名稱',\n",
       " '聯絡人': '人資部',\n",
       " '資本額': '9000萬元',\n",
       " '電話': '暫不提供'}"
      ]
     },
     "execution_count": 63,
     "metadata": {},
     "output_type": "execute_result"
    }
   ],
   "source": [
    "## Method 1\n",
    "dic = {}\n",
    "for i in range(0,len(dd)):\n",
    "    dic[dt[i]] = dd[i]\n",
    "dic"
   ]
  },
  {
   "cell_type": "code",
   "execution_count": 64,
   "metadata": {
    "collapsed": false
   },
   "outputs": [
    {
     "data": {
      "text/plain": [
       "{'傳真': '暫不提供',\n",
       " '公司地址': '台北市中正區忠孝東路一段9號地圖',\n",
       " '公司網址': 'http://www.giraffe.com.tw',\n",
       " '員工': '120人',\n",
       " '產業描述': '圖書出版及文化事業',\n",
       " '產業類別': '其他教育服務業',\n",
       " '相關連結': '長頸鹿網站｜企業簡介｜美語加盟｜GEO｜師訓課程｜更多商業司登記Google查公司名稱',\n",
       " '聯絡人': '人資部',\n",
       " '資本額': '9000萬元',\n",
       " '電話': '暫不提供'}"
      ]
     },
     "execution_count": 64,
     "metadata": {},
     "output_type": "execute_result"
    }
   ],
   "source": [
    "## Method2 \n",
    "dic = {}\n",
    "for t, d in zip(dt, dd):\n",
    "    dic[t] = d\n",
    "dic"
   ]
  },
  {
   "cell_type": "code",
   "execution_count": 65,
   "metadata": {
    "collapsed": false
   },
   "outputs": [
    {
     "data": {
      "text/plain": [
       "{'傳真': '暫不提供',\n",
       " '公司地址': '台北市中正區忠孝東路一段9號地圖',\n",
       " '公司網址': 'http://www.giraffe.com.tw',\n",
       " '員工': '120人',\n",
       " '產業描述': '圖書出版及文化事業',\n",
       " '產業類別': '其他教育服務業',\n",
       " '相關連結': '長頸鹿網站｜企業簡介｜美語加盟｜GEO｜師訓課程｜更多商業司登記Google查公司名稱',\n",
       " '聯絡人': '人資部',\n",
       " '資本額': '9000萬元',\n",
       " '電話': '暫不提供'}"
      ]
     },
     "execution_count": 65,
     "metadata": {},
     "output_type": "execute_result"
    }
   ],
   "source": [
    "## Method3 \n",
    "dict(zip(dt, dd))"
   ]
  },
  {
   "cell_type": "code",
   "execution_count": 66,
   "metadata": {
    "collapsed": false
   },
   "outputs": [
    {
     "data": {
      "text/html": [
       "<div>\n",
       "<table border=\"1\" class=\"dataframe\">\n",
       "  <thead>\n",
       "    <tr style=\"text-align: right;\">\n",
       "      <th></th>\n",
       "      <th>傳真</th>\n",
       "      <th>公司地址</th>\n",
       "      <th>公司網址</th>\n",
       "      <th>員工</th>\n",
       "      <th>產業描述</th>\n",
       "      <th>產業類別</th>\n",
       "      <th>相關連結</th>\n",
       "      <th>聯絡人</th>\n",
       "      <th>資本額</th>\n",
       "      <th>電話</th>\n",
       "    </tr>\n",
       "  </thead>\n",
       "  <tbody>\n",
       "    <tr>\n",
       "      <th>0</th>\n",
       "      <td>暫不提供</td>\n",
       "      <td>台北市中正區忠孝東路一段9號地圖</td>\n",
       "      <td>http://www.giraffe.com.tw</td>\n",
       "      <td>120人</td>\n",
       "      <td>圖書出版及文化事業</td>\n",
       "      <td>其他教育服務業</td>\n",
       "      <td>長頸鹿網站｜企業簡介｜美語加盟｜GEO｜師訓課程｜更多商業司登記Google查公司名稱</td>\n",
       "      <td>人資部</td>\n",
       "      <td>9000萬元</td>\n",
       "      <td>暫不提供</td>\n",
       "    </tr>\n",
       "  </tbody>\n",
       "</table>\n",
       "</div>"
      ],
      "text/plain": [
       "     傳真              公司地址                       公司網址    員工       產業描述  \\\n",
       "0  暫不提供  台北市中正區忠孝東路一段9號地圖  http://www.giraffe.com.tw  120人  圖書出版及文化事業   \n",
       "\n",
       "      產業類別                                         相關連結  聯絡人     資本額    電話  \n",
       "0  其他教育服務業  長頸鹿網站｜企業簡介｜美語加盟｜GEO｜師訓課程｜更多商業司登記Google查公司名稱  人資部  9000萬元  暫不提供  "
      ]
     },
     "execution_count": 66,
     "metadata": {},
     "output_type": "execute_result"
    }
   ],
   "source": [
    "import pandas\n",
    "df = pandas.DataFrame([dict(zip(dt, dd))])\n",
    "df"
   ]
  },
  {
   "cell_type": "markdown",
   "metadata": {},
   "source": [
    "## Iterator"
   ]
  },
  {
   "cell_type": "code",
   "execution_count": 67,
   "metadata": {
    "collapsed": true
   },
   "outputs": [],
   "source": [
    "s = [1,2,3,4,5]\n",
    "s_iter = iter(s)"
   ]
  },
  {
   "cell_type": "code",
   "execution_count": 69,
   "metadata": {
    "collapsed": false
   },
   "outputs": [
    {
     "data": {
      "text/plain": [
       "2"
      ]
     },
     "execution_count": 69,
     "metadata": {},
     "output_type": "execute_result"
    }
   ],
   "source": [
    "next(s_iter)"
   ]
  },
  {
   "cell_type": "code",
   "execution_count": 70,
   "metadata": {
    "collapsed": false
   },
   "outputs": [
    {
     "data": {
      "text/plain": [
       "3"
      ]
     },
     "execution_count": 70,
     "metadata": {},
     "output_type": "execute_result"
    }
   ],
   "source": [
    "next(s_iter)"
   ]
  },
  {
   "cell_type": "markdown",
   "metadata": {},
   "source": [
    "## While Loop"
   ]
  },
  {
   "cell_type": "code",
   "execution_count": 71,
   "metadata": {
    "collapsed": false
   },
   "outputs": [
    {
     "name": "stdout",
     "output_type": "stream",
     "text": [
      "Current X is 0\n",
      "x is still less than 10, adding one to x\n",
      "Current X is 1\n",
      "x is still less than 10, adding one to x\n",
      "Current X is 2\n",
      "x is still less than 10, adding one to x\n",
      "Current X is 3\n",
      "x is still less than 10, adding one to x\n",
      "Current X is 4\n",
      "x is still less than 10, adding one to x\n",
      "Current X is 5\n",
      "x is still less than 10, adding one to x\n",
      "Current X is 6\n",
      "x is still less than 10, adding one to x\n",
      "Current X is 7\n",
      "x is still less than 10, adding one to x\n",
      "Current X is 8\n",
      "x is still less than 10, adding one to x\n",
      "Current X is 9\n",
      "x is still less than 10, adding one to x\n"
     ]
    }
   ],
   "source": [
    "x = 0 \n",
    "while x < 10:\n",
    "    print('Current X is', x)\n",
    "    print('x is still less than 10, adding one to x')\n",
    "    x += 1"
   ]
  },
  {
   "cell_type": "code",
   "execution_count": 72,
   "metadata": {
    "collapsed": false
   },
   "outputs": [
    {
     "name": "stdout",
     "output_type": "stream",
     "text": [
      "Current X is 0\n",
      "x is still less than 10, adding one to x\n",
      "Current X is 1\n",
      "x is still less than 10, adding one to x\n",
      "Current X is 2\n",
      "x is still less than 10, adding one to x\n",
      "Current X is 3\n",
      "x is still less than 10, adding one to x\n",
      "Current X is 4\n",
      "x is still less than 10, adding one to x\n",
      "Current X is 5\n",
      "x is still less than 10, adding one to x\n",
      "Current X is 6\n",
      "x is still less than 10, adding one to x\n",
      "Current X is 7\n",
      "x is still less than 10, adding one to x\n",
      "Current X is 8\n",
      "x is still less than 10, adding one to x\n",
      "Current X is 9\n",
      "x is still less than 10, adding one to x\n",
      "ALL DONE\n"
     ]
    }
   ],
   "source": [
    "x = 0 \n",
    "while x < 10:\n",
    "    print('Current X is', x)\n",
    "    print('x is still less than 10, adding one to x')\n",
    "    x += 1\n",
    "else:\n",
    "    print('ALL DONE')"
   ]
  },
  {
   "cell_type": "code",
   "execution_count": 73,
   "metadata": {
    "collapsed": false
   },
   "outputs": [
    {
     "name": "stdout",
     "output_type": "stream",
     "text": [
      "Current X is 0\n",
      "x is still less than 10, adding one to x\n",
      "x is not equal to 3\n",
      "Current X is 1\n",
      "x is still less than 10, adding one to x\n",
      "x is not equal to 3\n",
      "Current X is 2\n",
      "x is still less than 10, adding one to x\n",
      "x == 3\n"
     ]
    }
   ],
   "source": [
    "x = 0 \n",
    "while x < 10:\n",
    "    print('Current X is', x)\n",
    "    print('x is still less than 10, adding one to x')\n",
    "    x += 1\n",
    "    if x == 3:\n",
    "        print('x == 3')\n",
    "        break\n",
    "    else:\n",
    "        print('x is not equal to 3')\n",
    "        continue"
   ]
  },
  {
   "cell_type": "markdown",
   "metadata": {},
   "source": [
    "## 無窮迴圈"
   ]
  },
  {
   "cell_type": "code",
   "execution_count": 75,
   "metadata": {
    "collapsed": false
   },
   "outputs": [],
   "source": [
    "#while True:\n",
    "#    print('Infinity Loop')"
   ]
  },
  {
   "cell_type": "code",
   "execution_count": 1,
   "metadata": {
    "collapsed": false
   },
   "outputs": [
    {
     "name": "stdout",
     "output_type": "stream",
     "text": [
      "Collecting sqlparse\n",
      "  Downloading sqlparse-0.2.4-py2.py3-none-any.whl\n",
      "Installing collected packages: sqlparse\n",
      "Successfully installed sqlparse-0.2.4\n"
     ]
    }
   ],
   "source": [
    "! pip install sqlparse"
   ]
  },
  {
   "cell_type": "code",
   "execution_count": 76,
   "metadata": {
    "collapsed": false
   },
   "outputs": [
    {
     "name": "stdout",
     "output_type": "stream",
     "text": [
      "[<DML 'select' at 0x510CD08>, <Whitespace ' ' at 0x51336A8>, <Wildcard '*' at 0x5133648>, <Whitespace ' ' at 0x51333A8>, <Keyword 'from' at 0x5133228>, <Whitespace ' ' at 0x5133048>, <Identifier 'foo' at 0x508FB88>, <Punctuation ';' at 0x5133828>]\n"
     ]
    }
   ],
   "source": [
    "import sqlparse\n",
    "\n",
    "s = 'select * from foo;'\n",
    "stmts = sqlparse.parse(s)\n",
    "for ele in stmts:\n",
    "    print(ele.tokens)\n"
   ]
  },
  {
   "cell_type": "markdown",
   "metadata": {},
   "source": [
    "## 檔案讀寫"
   ]
  },
  {
   "cell_type": "code",
   "execution_count": 7,
   "metadata": {
    "collapsed": true
   },
   "outputs": [],
   "source": [
    "fid = open('test.txt', 'w')\n",
    "fid.write('Hello\\nWorld')\n",
    "fid.close()"
   ]
  },
  {
   "cell_type": "code",
   "execution_count": 9,
   "metadata": {
    "collapsed": true
   },
   "outputs": [],
   "source": [
    "# r: read, a: append, w: write, b: binary\n",
    "# ?open\n",
    "with open('test.txt', 'w') as f:\n",
    "    f.write('Hello\\nWorld')"
   ]
  },
  {
   "cell_type": "code",
   "execution_count": 15,
   "metadata": {
    "collapsed": false
   },
   "outputs": [
    {
     "name": "stdout",
     "output_type": "stream",
     "text": [
      "this          is  a line with \n",
      "\n",
      "\n",
      "\n",
      "\n",
      "\n",
      "\n",
      "                     this          is  a line with\n",
      "this          is  a line with\n"
     ]
    }
   ],
   "source": [
    "a = '                     this          is  a line with \\n\\n\\n\\n\\n\\n'\n",
    "print(a.lstrip())\n",
    "print(a.rstrip())\n",
    "print(a.strip())"
   ]
  },
  {
   "cell_type": "code",
   "execution_count": 16,
   "metadata": {
    "collapsed": false
   },
   "outputs": [
    {
     "name": "stdout",
     "output_type": "stream",
     "text": [
      "Hello\n",
      "World\n"
     ]
    }
   ],
   "source": [
    "with open('test.txt') as fid:\n",
    "    for line in fid:\n",
    "        print(line.strip())"
   ]
  },
  {
   "cell_type": "code",
   "execution_count": 18,
   "metadata": {
    "collapsed": false
   },
   "outputs": [
    {
     "name": "stdout",
     "output_type": "stream",
     "text": [
      "line Hello\n",
      "World\n"
     ]
    }
   ],
   "source": [
    "with open('test.txt') as fid:\n",
    "    s =  fid.read()\n",
    "print('line',s)\n",
    "        "
   ]
  },
  {
   "cell_type": "code",
   "execution_count": 19,
   "metadata": {
    "collapsed": false
   },
   "outputs": [
    {
     "data": {
      "text/plain": [
       "2"
      ]
     },
     "execution_count": 19,
     "metadata": {},
     "output_type": "execute_result"
    }
   ],
   "source": [
    "k = 0\n",
    "with open('test.txt') as fid:\n",
    "    for line in fid:\n",
    "        k = k + 1\n",
    "k"
   ]
  },
  {
   "cell_type": "code",
   "execution_count": 22,
   "metadata": {
    "collapsed": false
   },
   "outputs": [
    {
     "data": {
      "text/plain": [
       "2"
      ]
     },
     "execution_count": 22,
     "metadata": {},
     "output_type": "execute_result"
    }
   ],
   "source": [
    "ary = []\n",
    "with open('test.txt') as f:\n",
    "    for line in f:\n",
    "        ary.append(line)\n",
    "len(ary)"
   ]
  },
  {
   "cell_type": "code",
   "execution_count": 24,
   "metadata": {
    "collapsed": false
   },
   "outputs": [
    {
     "data": {
      "text/plain": [
       "2"
      ]
     },
     "execution_count": 24,
     "metadata": {},
     "output_type": "execute_result"
    }
   ],
   "source": [
    "len([line for line in open('test.txt')])"
   ]
  },
  {
   "cell_type": "markdown",
   "metadata": {},
   "source": [
    "## 計算詞頻"
   ]
  },
  {
   "cell_type": "markdown",
   "metadata": {},
   "source": [
    "### Method1"
   ]
  },
  {
   "cell_type": "code",
   "execution_count": 27,
   "metadata": {
    "collapsed": false
   },
   "outputs": [
    {
     "name": "stdout",
     "output_type": "stream",
     "text": [
      "['Chief', 'Justice', 'Roberts,', 'President', 'Carter,', 'President', 'Clinton,', 'President', 'Bush,', 'fellow', 'Americans', 'and', 'people', 'of', 'the', 'world', '–', 'thank', 'you.']\n"
     ]
    }
   ],
   "source": [
    "with open('data/trump.txt', 'r') as f:\n",
    "    for line in f:\n",
    "        print(line.strip().split())\n",
    "        break"
   ]
  },
  {
   "cell_type": "code",
   "execution_count": 29,
   "metadata": {
    "collapsed": false
   },
   "outputs": [],
   "source": [
    "with open('data/trump.txt', 'r') as f:\n",
    "    speech = f.read()\n",
    "\n",
    "words = speech.split()"
   ]
  },
  {
   "cell_type": "code",
   "execution_count": 52,
   "metadata": {
    "collapsed": false
   },
   "outputs": [],
   "source": [
    "dic = {}\n",
    "for w in words:\n",
    "    if w not in dic:\n",
    "        dic[w.lower().replace('.','')] = 1\n",
    "    else:\n",
    "        dic[w.lower().replace('.','')] = dic[w.lower().replace('.','')] + 1\n",
    "#dic"
   ]
  },
  {
   "cell_type": "code",
   "execution_count": 53,
   "metadata": {
    "collapsed": false
   },
   "outputs": [],
   "source": [
    "from operator import itemgetter\n",
    "swd = sorted(dic.items(), key = itemgetter(1), reverse=True)"
   ]
  },
  {
   "cell_type": "code",
   "execution_count": 54,
   "metadata": {
    "collapsed": false
   },
   "outputs": [
    {
     "name": "stdout",
     "output_type": "stream",
     "text": [
      "('of', 44)\n",
      "('will', 40)\n",
      "('to', 32)\n",
      "('our', 30)\n",
      "('is', 20)\n",
      "('the', 18)\n",
      "('–', 14)\n",
      "('all', 12)\n",
      "('on', 11)\n",
      "('are', 11)\n",
      "('in', 10)\n",
      "('be', 10)\n",
      "('have', 9)\n",
      "('not', 8)\n",
      "('from', 8)\n",
      "('by', 8)\n",
      "('this', 7)\n",
      "('that', 7)\n",
      "('new', 7)\n",
      "('we', 6)\n",
      "('great', 6)\n",
      "('their', 6)\n",
      "('has', 6)\n",
      "('back', 6)\n",
      "('never', 6)\n",
      "('with', 6)\n",
      "('same', 6)\n",
      "('people', 5)\n",
      "('for', 5)\n",
      "('been', 5)\n"
     ]
    }
   ],
   "source": [
    "for ele in swd[0:30]:\n",
    "    print(ele)"
   ]
  },
  {
   "cell_type": "code",
   "execution_count": 55,
   "metadata": {
    "collapsed": true
   },
   "outputs": [],
   "source": [
    "stopwords = [\"a\", \"about\", \"above\", \"above\", \"across\", \"after\", \"afterwards\", \"again\", \"against\", \"all\", \"almost\", \"alone\", \"along\", \"already\", \"also\",\"although\",\"always\",\"am\",\"among\", \"amongst\", \"amoungst\", \"amount\",  \"an\", \"and\", \"another\", \"any\",\"anyhow\",\"anyone\",\"anything\",\"anyway\", \"anywhere\", \"are\", \"around\", \"as\",  \"at\", \"back\",\"be\",\"became\", \"because\",\"become\",\"becomes\", \"becoming\", \"been\", \"before\", \"beforehand\", \"behind\", \"being\", \"below\", \"beside\", \"besides\", \"between\", \"beyond\", \"bill\", \"both\", \"bottom\",\"but\", \"by\", \"call\", \"can\", \"cannot\", \"cant\", \"co\", \"con\", \"could\", \"couldnt\", \"cry\", \"de\", \"describe\", \"detail\", \"do\", \"done\", \"down\", \"due\", \"during\", \"each\", \"eg\", \"eight\", \"either\", \"eleven\",\"else\", \"elsewhere\", \"empty\", \"enough\", \"etc\", \"even\", \"ever\", \"every\", \"everyone\", \"everything\", \"everywhere\", \"except\", \"few\", \"fifteen\", \"fify\", \"fill\", \"find\", \"fire\", \"first\", \"five\", \"for\", \"former\", \"formerly\", \"forty\", \"found\", \"four\", \"from\", \"front\", \"full\", \"further\", \"get\", \"give\", \"go\", \"had\", \"has\", \"hasnt\", \"have\", \"he\", \"hence\", \"her\", \"here\", \"hereafter\", \"hereby\", \"herein\", \"hereupon\", \"hers\", \"herself\", \"him\", \"himself\", \"his\", \"how\", \"however\", \"hundred\", \"ie\", \"if\", \"in\", \"inc\", \"indeed\", \"interest\", \"into\", \"is\", \"it\", \"its\", \"itself\", \"keep\", \"last\", \"latter\", \"latterly\", \"least\", \"less\", \"ltd\", \"made\", \"many\", \"may\", \"me\", \"meanwhile\", \"might\", \"mill\", \"mine\", \"more\", \"moreover\", \"most\", \"mostly\", \"move\", \"much\", \"must\", \"my\", \"myself\", \"name\", \"namely\", \"neither\", \"never\", \"nevertheless\", \"next\", \"nine\", \"no\", \"nobody\", \"none\", \"noone\", \"nor\", \"not\", \"nothing\", \"now\", \"nowhere\", \"of\", \"off\", \"often\", \"on\", \"once\", \"one\", \"only\", \"onto\", \"or\", \"other\", \"others\", \"otherwise\", \"our\", \"ours\", \"ourselves\", \"out\", \"over\", \"own\",\"part\", \"per\", \"perhaps\", \"please\", \"put\", \"rather\", \"re\", \"same\", \"see\", \"seem\", \"seemed\", \"seeming\", \"seems\", \"serious\", \"several\", \"she\", \"should\", \"show\", \"side\", \"since\", \"sincere\", \"six\", \"sixty\", \"so\", \"some\", \"somehow\", \"someone\", \"something\", \"sometime\", \"sometimes\", \"somewhere\", \"still\", \"such\", \"system\", \"take\", \"ten\", \"than\", \"that\", \"the\", \"their\", \"them\", \"themselves\", \"then\", \"thence\", \"there\", \"thereafter\", \"thereby\", \"therefore\", \"therein\", \"thereupon\", \"these\", \"they\", \"thickv\", \"thin\", \"third\", \"this\", \"those\", \"though\", \"three\", \"through\", \"throughout\", \"thru\", \"thus\", \"to\", \"together\", \"too\", \"top\", \"toward\", \"towards\", \"twelve\", \"twenty\", \"two\", \"un\", \"under\", \"until\", \"up\", \"upon\", \"us\", \"very\", \"via\", \"was\", \"we\", \"well\", \"were\", \"what\", \"whatever\", \"when\", \"whence\", \"whenever\", \"where\", \"whereafter\", \"whereas\", \"whereby\", \"wherein\", \"whereupon\", \"wherever\", \"whether\", \"which\", \"while\", \"whither\", \"who\", \"whoever\", \"whole\", \"whom\", \"whose\", \"why\", \"will\", \"with\", \"within\", \"without\", \"would\", \"yet\", \"you\", \"your\", \"yours\", \"yourself\", \"yourselves\", \"the\"]"
   ]
  },
  {
   "cell_type": "code",
   "execution_count": 57,
   "metadata": {
    "collapsed": false
   },
   "outputs": [
    {
     "name": "stdout",
     "output_type": "stream",
     "text": [
      "new 7\n",
      "great 6\n",
      "people 5\n"
     ]
    }
   ],
   "source": [
    "for key, val in swd[0:30]:\n",
    "    if key not in stopwords and len(key) >= 2:\n",
    "        print(key, val)"
   ]
  },
  {
   "cell_type": "markdown",
   "metadata": {},
   "source": [
    "### Method2 \n",
    "- https://docs.python.org/3.6/library/collections.html"
   ]
  },
  {
   "cell_type": "code",
   "execution_count": 63,
   "metadata": {
    "collapsed": false
   },
   "outputs": [
    {
     "data": {
      "text/plain": [
       "[('the', 73),\n",
       " ('and', 55),\n",
       " ('of', 44),\n",
       " ('will', 40),\n",
       " ('to', 32),\n",
       " ('our', 30),\n",
       " ('we', 26),\n",
       " ('is', 20),\n",
       " ('We', 16),\n",
       " ('–', 14)]"
      ]
     },
     "execution_count": 63,
     "metadata": {},
     "output_type": "execute_result"
    }
   ],
   "source": [
    "from collections import Counter\n",
    "c = Counter(' '.join([lines for lines in open('data/trump.txt')]).split())\n",
    "c.most_common(10)"
   ]
  },
  {
   "cell_type": "markdown",
   "metadata": {},
   "source": [
    "### Method3"
   ]
  },
  {
   "cell_type": "code",
   "execution_count": 69,
   "metadata": {
    "collapsed": false
   },
   "outputs": [
    {
     "data": {
      "text/plain": [
       "[('america', 14),\n",
       " ('president', 8),\n",
       " ('trump', 8),\n",
       " ('american', 8),\n",
       " ('people', 7),\n",
       " ('new', 7),\n",
       " ('great', 6),\n",
       " ('you.', 5),\n",
       " ('again.', 5),\n",
       " ('bring', 5)]"
      ]
     },
     "execution_count": 69,
     "metadata": {},
     "output_type": "execute_result"
    }
   ],
   "source": [
    "c = Counter([w for w in open('data/trump.txt').read().lower().split() if w not in stopwords and len(w) >= 2])\n",
    "c.most_common(10)"
   ]
  },
  {
   "cell_type": "code",
   "execution_count": 75,
   "metadata": {
    "collapsed": false
   },
   "outputs": [
    {
     "data": {
      "text/plain": [
       "[('america', 14),\n",
       " ('president', 8),\n",
       " ('trump', 8),\n",
       " ('american', 8),\n",
       " ('people', 7),\n",
       " ('new', 7),\n",
       " ('great', 6),\n",
       " ('you.', 5),\n",
       " ('again.', 5),\n",
       " ('bring', 5)]"
      ]
     },
     "execution_count": 75,
     "metadata": {},
     "output_type": "execute_result"
    }
   ],
   "source": [
    "with open('data/trump.txt', 'r') as f:\n",
    "    data = f.read()\n",
    "\n",
    "ary = []\n",
    "for word in data.split():\n",
    "    word = word.lower()\n",
    "    if word not in stopwords and len(word) >= 2:\n",
    "        ary.append(word)\n",
    "\n",
    "c = Counter(ary)\n",
    "c.most_common(10)"
   ]
  },
  {
   "cell_type": "markdown",
   "metadata": {},
   "source": [
    "## SQL Parser"
   ]
  },
  {
   "cell_type": "code",
   "execution_count": 78,
   "metadata": {
    "collapsed": false
   },
   "outputs": [
    {
     "name": "stdout",
     "output_type": "stream",
     "text": [
      "Requirement already up-to-date: sqlparse in c:\\programdata\\anaconda3\\lib\\site-packages\n"
     ]
    }
   ],
   "source": [
    "! pip install --upgrade sqlparse"
   ]
  },
  {
   "cell_type": "code",
   "execution_count": 84,
   "metadata": {
    "collapsed": false
   },
   "outputs": [
    {
     "name": "stdout",
     "output_type": "stream",
     "text": [
      "select *\n",
      "from foo\n"
     ]
    },
    {
     "data": {
      "text/plain": [
       "[<DML 'select' at 0x516BA68>,\n",
       " <Whitespace ' ' at 0x516BA08>,\n",
       " <Wildcard '*' at 0x516BD08>,\n",
       " <Whitespace ' ' at 0x516BD68>,\n",
       " <Keyword 'from' at 0x516BDC8>,\n",
       " <Whitespace ' ' at 0x516BE28>,\n",
       " <Identifier 'employ...' at 0x51805E8>,\n",
       " <Whitespace ' ' at 0x516BEE8>,\n",
       " <Where 'where ...' at 0x51804F8>]"
      ]
     },
     "execution_count": 84,
     "metadata": {},
     "output_type": "execute_result"
    }
   ],
   "source": [
    "import sqlparse\n",
    "print(sqlparse.format('select * from foo', reindent=True))\n",
    "parsed = sqlparse.parse('select * from employee where age >= 30')\n",
    "type(parsed)\n",
    "parsed[0]\n",
    "parsed[0].tokens"
   ]
  },
  {
   "cell_type": "code",
   "execution_count": 85,
   "metadata": {
    "collapsed": false
   },
   "outputs": [
    {
     "name": "stdout",
     "output_type": "stream",
     "text": [
      "Tables: A, B, C, D, E, F, G, H, I, J, K\n"
     ]
    },
    {
     "name": "stderr",
     "output_type": "stream",
     "text": [
      "C:\\ProgramData\\Anaconda3\\lib\\site-packages\\ipykernel\\__main__.py:31: DeprecationWarning: generator 'extract_from_part' raised StopIteration\n"
     ]
    }
   ],
   "source": [
    "import sqlparse\n",
    "from sqlparse.sql import IdentifierList, Identifier\n",
    "from sqlparse.tokens import Keyword, DML\n",
    "\n",
    "\n",
    "def is_subselect(parsed):\n",
    "    if not parsed.is_group:\n",
    "        return False\n",
    "    for item in parsed.tokens:\n",
    "        if item.ttype is DML and item.value.upper() == 'SELECT':\n",
    "            return True\n",
    "    return False\n",
    "\n",
    "\n",
    "def extract_from_part(parsed):\n",
    "    from_seen = False\n",
    "    for item in parsed.tokens:\n",
    "        if from_seen:\n",
    "            if is_subselect(item):\n",
    "                for x in extract_from_part(item):\n",
    "                    yield x\n",
    "            elif item.ttype is Keyword:\n",
    "                raise StopIteration\n",
    "            else:\n",
    "                yield item\n",
    "        elif item.ttype is Keyword and item.value.upper() == 'FROM':\n",
    "            from_seen = True\n",
    "\n",
    "\n",
    "def extract_table_identifiers(token_stream):\n",
    "    for item in token_stream:\n",
    "        if isinstance(item, IdentifierList):\n",
    "            for identifier in item.get_identifiers():\n",
    "                yield identifier.get_name()\n",
    "        elif isinstance(item, Identifier):\n",
    "            yield item.get_name()\n",
    "        # It's a bug to check for Keyword here, but in the example\n",
    "        # above some tables names are identified as keywords...\n",
    "        elif item.ttype is Keyword:\n",
    "            yield item.value\n",
    "\n",
    "\n",
    "def extract_tables(sql):\n",
    "    stream = extract_from_part(sqlparse.parse(sql)[0])\n",
    "    return list(extract_table_identifiers(stream))\n",
    "\n",
    "\n",
    "if __name__ == '__main__':\n",
    "    sql = \"\"\"\n",
    "    select K.a,K.b from (select H.b from (select G.c from (select F.d from\n",
    "    (select E.e from A, B, C, D, E), F), G), H), I, J, K order by 1,2;\n",
    "    \"\"\"\n",
    "\n",
    "    tables = ', '.join(extract_tables(sql))\n",
    "    print('Tables: {0}'.format(tables))"
   ]
  },
  {
   "cell_type": "markdown",
   "metadata": {},
   "source": [
    "## Jieba"
   ]
  },
  {
   "cell_type": "code",
   "execution_count": 86,
   "metadata": {
    "collapsed": false
   },
   "outputs": [
    {
     "name": "stdout",
     "output_type": "stream",
     "text": [
      "Requirement already satisfied: jieba in c:\\programdata\\anaconda3\\lib\\site-packages\n"
     ]
    }
   ],
   "source": [
    "! pip install jieba"
   ]
  },
  {
   "cell_type": "code",
   "execution_count": 88,
   "metadata": {
    "collapsed": false
   },
   "outputs": [],
   "source": [
    "with open('data/jobs.txt', 'r', encoding='utf-8') as f:\n",
    "    speech = f.read()"
   ]
  },
  {
   "cell_type": "code",
   "execution_count": 93,
   "metadata": {
    "collapsed": false
   },
   "outputs": [],
   "source": [
    "import jieba\n",
    "words = []\n",
    "for w in jieba.cut(speech):\n",
    "    words.append(w)"
   ]
  },
  {
   "cell_type": "code",
   "execution_count": 97,
   "metadata": {
    "collapsed": false
   },
   "outputs": [
    {
     "name": "stdout",
     "output_type": "stream",
     "text": [
      "自己 14\n",
      "如果 12\n",
      "賈伯斯 12\n",
      "相信 11\n",
      "公司 11\n",
      "必須 10\n",
      "生命 10\n",
      "蘋果 10\n",
      "時間 9\n",
      "因此 8\n",
      "不要 8\n",
      "一天 8\n",
      "別人 8\n",
      "真正 7\n",
      "工作 7\n",
      "什麼 6\n",
      "知道 6\n",
      "決定 6\n",
      "最好 6\n",
      "直覺 6\n",
      "每天 6\n",
      "決不 6\n",
      "never 6\n",
      "故事 5\n",
      "休學 5\n",
      "不會 5\n",
      "所有 5\n",
      "今天 5\n",
      "這些 5\n",
      "失去 5\n",
      "重要 5\n",
      "內心 5\n",
      "目標 5\n",
      "進入 4\n",
      "可以 4\n",
      "當時 4\n",
      "然而 4\n",
      "電腦 4\n",
      "我們 4\n",
      "擁有 4\n",
      "關聯 4\n",
      "之明 4\n",
      "未來 4\n",
      "解雇 4\n",
      "共同 4\n"
     ]
    }
   ],
   "source": [
    "from collections import Counter\n",
    "c = Counter(words)\n",
    "for w, cnt in c.most_common(100):\n",
    "    if len(w) >= 2:\n",
    "        print(w, cnt)"
   ]
  },
  {
   "cell_type": "code",
   "execution_count": 99,
   "metadata": {
    "collapsed": false
   },
   "outputs": [
    {
     "data": {
      "text/plain": [
       "[('自己', 14),\n",
       " ('如果', 12),\n",
       " ('賈伯斯', 12),\n",
       " ('相信', 11),\n",
       " ('公司', 11),\n",
       " ('必須', 10),\n",
       " ('生命', 10),\n",
       " ('蘋果', 10),\n",
       " ('時間', 9),\n",
       " ('因此', 8),\n",
       " ('不要', 8),\n",
       " ('一天', 8),\n",
       " ('別人', 8),\n",
       " ('真正', 7),\n",
       " ('工作', 7),\n",
       " ('什麼', 6),\n",
       " ('知道', 6),\n",
       " ('決定', 6),\n",
       " ('最好', 6),\n",
       " ('直覺', 6),\n",
       " ('每天', 6),\n",
       " ('決不', 6),\n",
       " ('never', 6),\n",
       " ('故事', 5),\n",
       " ('休學', 5),\n",
       " ('不會', 5),\n",
       " ('所有', 5),\n",
       " ('今天', 5),\n",
       " ('這些', 5),\n",
       " ('失去', 5),\n",
       " ('重要', 5),\n",
       " ('內心', 5),\n",
       " ('目標', 5),\n",
       " ('進入', 4),\n",
       " ('可以', 4),\n",
       " ('當時', 4),\n",
       " ('然而', 4),\n",
       " ('電腦', 4),\n",
       " ('我們', 4),\n",
       " ('擁有', 4),\n",
       " ('關聯', 4),\n",
       " ('之明', 4),\n",
       " ('未來', 4),\n",
       " ('解雇', 4),\n",
       " ('共同', 4)]"
      ]
     },
     "execution_count": 99,
     "metadata": {},
     "output_type": "execute_result"
    }
   ],
   "source": [
    "c = Counter(jieba.cut(open('data/jobs.txt', 'r', encoding='utf-8').read()))\n",
    "[rec for rec in c.most_common(100) if len(rec[0]) >= 2]"
   ]
  },
  {
   "cell_type": "code",
   "execution_count": null,
   "metadata": {
    "collapsed": true
   },
   "outputs": [],
   "source": []
  }
 ],
 "metadata": {
  "kernelspec": {
   "display_name": "Python 3",
   "language": "python",
   "name": "python3"
  },
  "language_info": {
   "codemirror_mode": {
    "name": "ipython",
    "version": 3
   },
   "file_extension": ".py",
   "mimetype": "text/x-python",
   "name": "python",
   "nbconvert_exporter": "python",
   "pygments_lexer": "ipython3",
   "version": "3.6.0"
  }
 },
 "nbformat": 4,
 "nbformat_minor": 2
}

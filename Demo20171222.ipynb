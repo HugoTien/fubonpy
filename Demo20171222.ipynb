{
 "cells": [
  {
   "cell_type": "markdown",
   "metadata": {},
   "source": [
    "## For 迴圈"
   ]
  },
  {
   "cell_type": "code",
   "execution_count": 1,
   "metadata": {
    "collapsed": false
   },
   "outputs": [
    {
     "name": "stdout",
     "output_type": "stream",
     "text": [
      "1\n",
      "2\n",
      "3\n",
      "4\n",
      "5\n",
      "6\n",
      "7\n",
      "8\n",
      "9\n",
      "10\n"
     ]
    }
   ],
   "source": [
    "l = [1,2,3,4,5,6,7,8,9,10]\n",
    "for num in l:\n",
    "    print(num)"
   ]
  },
  {
   "cell_type": "code",
   "execution_count": 2,
   "metadata": {
    "collapsed": false
   },
   "outputs": [
    {
     "name": "stdout",
     "output_type": "stream",
     "text": [
      "1\n",
      "2\n",
      "3\n",
      "4\n",
      "5\n",
      "6\n",
      "7\n",
      "8\n",
      "9\n",
      "10\n"
     ]
    }
   ],
   "source": [
    "l = [1,2,3,4,5,6,7,8,9,10]\n",
    "for qoo in l:\n",
    "    print(qoo)"
   ]
  },
  {
   "cell_type": "code",
   "execution_count": 3,
   "metadata": {
    "collapsed": false
   },
   "outputs": [
    {
     "name": "stdout",
     "output_type": "stream",
     "text": [
      "1\n",
      "4\n",
      "9\n",
      "16\n",
      "25\n",
      "36\n",
      "49\n",
      "64\n",
      "81\n",
      "100\n"
     ]
    }
   ],
   "source": [
    "l = [1,2,3,4,5,6,7,8,9,10]\n",
    "for qoo in l:\n",
    "    print(qoo * qoo)"
   ]
  },
  {
   "cell_type": "code",
   "execution_count": 4,
   "metadata": {
    "collapsed": false
   },
   "outputs": [
    {
     "name": "stdout",
     "output_type": "stream",
     "text": [
      "1\n",
      "2\n",
      "3\n",
      "4\n",
      "5\n",
      "6\n",
      "7\n",
      "8\n",
      "9\n",
      "10\n"
     ]
    }
   ],
   "source": [
    "# for(i =1; i< 11; i++)\n",
    "for i in range(1,11):\n",
    "    print(i)"
   ]
  },
  {
   "cell_type": "code",
   "execution_count": 5,
   "metadata": {
    "collapsed": false
   },
   "outputs": [
    {
     "data": {
      "text/plain": [
       "55"
      ]
     },
     "execution_count": 5,
     "metadata": {},
     "output_type": "execute_result"
    }
   ],
   "source": [
    "list_num = 0 \n",
    "for num in range(1,11):\n",
    "    list_num = list_num + num\n",
    "list_num"
   ]
  },
  {
   "cell_type": "code",
   "execution_count": 6,
   "metadata": {
    "collapsed": false
   },
   "outputs": [
    {
     "data": {
      "text/plain": [
       "5050"
      ]
     },
     "execution_count": 6,
     "metadata": {},
     "output_type": "execute_result"
    }
   ],
   "source": [
    "list_num = 0 \n",
    "for num in range(1,101):\n",
    "    list_num = list_num + num\n",
    "list_num"
   ]
  },
  {
   "cell_type": "code",
   "execution_count": 7,
   "metadata": {
    "collapsed": false
   },
   "outputs": [
    {
     "data": {
      "text/plain": [
       "5050"
      ]
     },
     "execution_count": 7,
     "metadata": {},
     "output_type": "execute_result"
    }
   ],
   "source": [
    "list_num = 0 \n",
    "for num in range(1,101):\n",
    "    #list_num = list_num + num\n",
    "    list_num += num\n",
    "list_num"
   ]
  },
  {
   "cell_type": "code",
   "execution_count": 8,
   "metadata": {
    "collapsed": false
   },
   "outputs": [
    {
     "name": "stdout",
     "output_type": "stream",
     "text": [
      "t\n",
      "h\n",
      "i\n",
      "s\n",
      " \n",
      "i\n",
      "s\n",
      " \n",
      "a\n",
      " \n",
      "s\n",
      "t\n",
      "r\n",
      "i\n",
      "n\n",
      "g\n"
     ]
    }
   ],
   "source": [
    "s = 'this is a string'\n",
    "for letter in s:\n",
    "    print(letter)"
   ]
  },
  {
   "cell_type": "code",
   "execution_count": 9,
   "metadata": {
    "collapsed": false
   },
   "outputs": [
    {
     "name": "stdout",
     "output_type": "stream",
     "text": [
      "1\n",
      "2\n",
      "3\n",
      "4\n",
      "5\n"
     ]
    }
   ],
   "source": [
    "tup = (1,2,3,4,5)\n",
    "for t in tup:\n",
    "    print(t)"
   ]
  },
  {
   "cell_type": "code",
   "execution_count": 10,
   "metadata": {
    "collapsed": false
   },
   "outputs": [
    {
     "name": "stdout",
     "output_type": "stream",
     "text": [
      "(2, 4)\n",
      "(6, 8)\n",
      "(10, 12)\n"
     ]
    }
   ],
   "source": [
    "l = [(2,4),(6,8),(10,12)]\n",
    "for tup in l:\n",
    "    print(tup)"
   ]
  },
  {
   "cell_type": "code",
   "execution_count": 11,
   "metadata": {
    "collapsed": false
   },
   "outputs": [
    {
     "name": "stdout",
     "output_type": "stream",
     "text": [
      "20 4\n",
      "60 8\n",
      "100 12\n"
     ]
    }
   ],
   "source": [
    "for t1, t2 in l:\n",
    "    print(t1 * 10 , t2)"
   ]
  },
  {
   "cell_type": "code",
   "execution_count": 12,
   "metadata": {
    "collapsed": false
   },
   "outputs": [
    {
     "name": "stdout",
     "output_type": "stream",
     "text": [
      "k1\n",
      "k2\n",
      "k3\n"
     ]
    }
   ],
   "source": [
    "d = {'k1':1,'k2':2,'k3':3}\n",
    "for item in d:\n",
    "    print(item)"
   ]
  },
  {
   "cell_type": "code",
   "execution_count": 13,
   "metadata": {
    "collapsed": false
   },
   "outputs": [
    {
     "name": "stdout",
     "output_type": "stream",
     "text": [
      "1\n",
      "2\n",
      "3\n"
     ]
    }
   ],
   "source": [
    "d = {'k1':1,'k2':2,'k3':3}\n",
    "for item in d:\n",
    "    print(d[item])"
   ]
  },
  {
   "cell_type": "code",
   "execution_count": 14,
   "metadata": {
    "collapsed": false
   },
   "outputs": [
    {
     "name": "stdout",
     "output_type": "stream",
     "text": [
      "1\n",
      "2\n",
      "3\n"
     ]
    }
   ],
   "source": [
    "d = {'k1':1,'k2':2,'k3':3}\n",
    "for item in d:\n",
    "    print(d.get(item))"
   ]
  },
  {
   "cell_type": "code",
   "execution_count": 15,
   "metadata": {
    "collapsed": false
   },
   "outputs": [
    {
     "data": {
      "text/plain": [
       "dict_keys(['k1', 'k2', 'k3'])"
      ]
     },
     "execution_count": 15,
     "metadata": {},
     "output_type": "execute_result"
    }
   ],
   "source": [
    "d.keys()"
   ]
  },
  {
   "cell_type": "code",
   "execution_count": 16,
   "metadata": {
    "collapsed": false
   },
   "outputs": [
    {
     "data": {
      "text/plain": [
       "dict_values([1, 2, 3])"
      ]
     },
     "execution_count": 16,
     "metadata": {},
     "output_type": "execute_result"
    }
   ],
   "source": [
    "d.values()"
   ]
  },
  {
   "cell_type": "code",
   "execution_count": 17,
   "metadata": {
    "collapsed": false
   },
   "outputs": [
    {
     "data": {
      "text/plain": [
       "dict_items([('k1', 1), ('k2', 2), ('k3', 3)])"
      ]
     },
     "execution_count": 17,
     "metadata": {},
     "output_type": "execute_result"
    }
   ],
   "source": [
    "d.items()"
   ]
  },
  {
   "cell_type": "code",
   "execution_count": 18,
   "metadata": {
    "collapsed": false
   },
   "outputs": [
    {
     "name": "stdout",
     "output_type": "stream",
     "text": [
      "k1 1\n",
      "k2 2\n",
      "k3 3\n"
     ]
    }
   ],
   "source": [
    "for k,v in d.items():\n",
    "    print(k,v)"
   ]
  },
  {
   "cell_type": "code",
   "execution_count": 19,
   "metadata": {
    "collapsed": false
   },
   "outputs": [
    {
     "data": {
      "text/plain": [
       "[1, 2, 3]"
      ]
     },
     "execution_count": 19,
     "metadata": {},
     "output_type": "execute_result"
    }
   ],
   "source": [
    "d   = {'k1':1,'k2':2,'k3':3}\n",
    "ary = []\n",
    "for item in d:\n",
    "    ary.append(d.get(item))\n",
    "ary"
   ]
  },
  {
   "cell_type": "code",
   "execution_count": 20,
   "metadata": {
    "collapsed": false
   },
   "outputs": [
    {
     "data": {
      "text/plain": [
       "[1, 2, 3]"
      ]
     },
     "execution_count": 20,
     "metadata": {},
     "output_type": "execute_result"
    }
   ],
   "source": [
    "[d.get(item) for item in d]"
   ]
  },
  {
   "cell_type": "code",
   "execution_count": 21,
   "metadata": {
    "collapsed": false
   },
   "outputs": [
    {
     "data": {
      "text/plain": [
       "[2, 3]"
      ]
     },
     "execution_count": 21,
     "metadata": {},
     "output_type": "execute_result"
    }
   ],
   "source": [
    "d   = {'k1':1,'k2':2,'k3':3}\n",
    "ary = []\n",
    "for item in d:\n",
    "    if d.get(item) >=2:\n",
    "        ary.append(d.get(item))\n",
    "ary"
   ]
  },
  {
   "cell_type": "code",
   "execution_count": 22,
   "metadata": {
    "collapsed": false
   },
   "outputs": [
    {
     "data": {
      "text/plain": [
       "[2, 3]"
      ]
     },
     "execution_count": 22,
     "metadata": {},
     "output_type": "execute_result"
    }
   ],
   "source": [
    "[d.get(item) for item in d if d.get(item) >= 2]"
   ]
  },
  {
   "cell_type": "code",
   "execution_count": 23,
   "metadata": {
    "collapsed": false
   },
   "outputs": [
    {
     "data": {
      "text/plain": [
       "['ORANGE', 'APPLE', 'BANNANA']"
      ]
     },
     "execution_count": 23,
     "metadata": {},
     "output_type": "execute_result"
    }
   ],
   "source": [
    "fruits= ['orange', 'apple', 'bannana']\n",
    "ary = []\n",
    "for ele in fruits:\n",
    "    ary.append(ele.upper())\n",
    "ary"
   ]
  },
  {
   "cell_type": "code",
   "execution_count": 24,
   "metadata": {
    "collapsed": false
   },
   "outputs": [
    {
     "data": {
      "text/plain": [
       "['ORANGE', 'APPLE']"
      ]
     },
     "execution_count": 24,
     "metadata": {},
     "output_type": "execute_result"
    }
   ],
   "source": [
    "[ele.upper() for ele in fruits if 'e' in ele]"
   ]
  },
  {
   "cell_type": "markdown",
   "metadata": {},
   "source": [
    "## 一個範例"
   ]
  },
  {
   "cell_type": "markdown",
   "metadata": {},
   "source": [
    "### 請忽略他"
   ]
  },
  {
   "cell_type": "code",
   "execution_count": 25,
   "metadata": {
    "collapsed": false
   },
   "outputs": [
    {
     "data": {
      "text/plain": [
       "['產業類別', '產業描述', '員工', '資本額', '聯絡人', '公司地址', '電話', '傳真', '公司網址', '相關連結']"
      ]
     },
     "execution_count": 25,
     "metadata": {},
     "output_type": "execute_result"
    }
   ],
   "source": [
    "import requests\n",
    "from bs4 import BeautifulSoup\n",
    "res = requests.get('https://www.104.com.tw/jobbank/custjob/index.php?r=cust&j=616f426a47453f55303139622f6336175435f416d4b353f2020202063373a2524290j49&jobsource=hotjob_chr')\n",
    "res.encoding = 'utf-8'\n",
    "soup = BeautifulSoup(res.text, 'html.parser')\n",
    "intro = soup.select_one('.intro')\n",
    "dd = intro.select('dd')\n",
    "dt = intro.select('dt')\n",
    "dd = [''.join(ele.text.split()) for ele in dd]\n",
    "dt = [''.join(ele.text.split()).rstrip('：') for ele in dt]\n",
    "dt"
   ]
  },
  {
   "cell_type": "code",
   "execution_count": 26,
   "metadata": {
    "collapsed": false
   },
   "outputs": [
    {
     "data": {
      "text/plain": [
       "'Marry XMas and Happy New Year'"
      ]
     },
     "execution_count": 26,
     "metadata": {},
     "output_type": "execute_result"
    }
   ],
   "source": [
    "a = '            Marry           XMas and Happy      New Year'\n",
    "a.split()\n",
    "' '.join(a.split())"
   ]
  },
  {
   "cell_type": "code",
   "execution_count": 27,
   "metadata": {
    "collapsed": false
   },
   "outputs": [
    {
     "data": {
      "text/plain": [
       "{'傳真': '暫不提供',\n",
       " '公司地址': '台北市中正區忠孝東路一段9號地圖',\n",
       " '公司網址': 'http://www.giraffe.com.tw',\n",
       " '員工': '120人',\n",
       " '產業描述': '圖書出版及文化事業',\n",
       " '產業類別': '其他教育服務業',\n",
       " '相關連結': '長頸鹿網站｜企業簡介｜美語加盟｜GEO｜師訓課程｜更多商業司登記Google查公司名稱',\n",
       " '聯絡人': '人資部',\n",
       " '資本額': '9000萬元',\n",
       " '電話': '暫不提供'}"
      ]
     },
     "execution_count": 27,
     "metadata": {},
     "output_type": "execute_result"
    }
   ],
   "source": [
    "## Method 1\n",
    "dic = {}\n",
    "for i in range(0,len(dd)):\n",
    "    dic[dt[i]] = dd[i]\n",
    "dic"
   ]
  },
  {
   "cell_type": "code",
   "execution_count": 28,
   "metadata": {
    "collapsed": false
   },
   "outputs": [
    {
     "data": {
      "text/plain": [
       "{'傳真': '暫不提供',\n",
       " '公司地址': '台北市中正區忠孝東路一段9號地圖',\n",
       " '公司網址': 'http://www.giraffe.com.tw',\n",
       " '員工': '120人',\n",
       " '產業描述': '圖書出版及文化事業',\n",
       " '產業類別': '其他教育服務業',\n",
       " '相關連結': '長頸鹿網站｜企業簡介｜美語加盟｜GEO｜師訓課程｜更多商業司登記Google查公司名稱',\n",
       " '聯絡人': '人資部',\n",
       " '資本額': '9000萬元',\n",
       " '電話': '暫不提供'}"
      ]
     },
     "execution_count": 28,
     "metadata": {},
     "output_type": "execute_result"
    }
   ],
   "source": [
    "## Method2 \n",
    "dic = {}\n",
    "for t, d in zip(dt, dd):\n",
    "    dic[t] = d\n",
    "dic"
   ]
  },
  {
   "cell_type": "code",
   "execution_count": 29,
   "metadata": {
    "collapsed": false
   },
   "outputs": [
    {
     "data": {
      "text/plain": [
       "{'傳真': '暫不提供',\n",
       " '公司地址': '台北市中正區忠孝東路一段9號地圖',\n",
       " '公司網址': 'http://www.giraffe.com.tw',\n",
       " '員工': '120人',\n",
       " '產業描述': '圖書出版及文化事業',\n",
       " '產業類別': '其他教育服務業',\n",
       " '相關連結': '長頸鹿網站｜企業簡介｜美語加盟｜GEO｜師訓課程｜更多商業司登記Google查公司名稱',\n",
       " '聯絡人': '人資部',\n",
       " '資本額': '9000萬元',\n",
       " '電話': '暫不提供'}"
      ]
     },
     "execution_count": 29,
     "metadata": {},
     "output_type": "execute_result"
    }
   ],
   "source": [
    "## Method3 \n",
    "dict(zip(dt, dd))"
   ]
  },
  {
   "cell_type": "code",
   "execution_count": 30,
   "metadata": {
    "collapsed": false
   },
   "outputs": [
    {
     "data": {
      "text/html": [
       "<div>\n",
       "<table border=\"1\" class=\"dataframe\">\n",
       "  <thead>\n",
       "    <tr style=\"text-align: right;\">\n",
       "      <th></th>\n",
       "      <th>傳真</th>\n",
       "      <th>公司地址</th>\n",
       "      <th>公司網址</th>\n",
       "      <th>員工</th>\n",
       "      <th>產業描述</th>\n",
       "      <th>產業類別</th>\n",
       "      <th>相關連結</th>\n",
       "      <th>聯絡人</th>\n",
       "      <th>資本額</th>\n",
       "      <th>電話</th>\n",
       "    </tr>\n",
       "  </thead>\n",
       "  <tbody>\n",
       "    <tr>\n",
       "      <th>0</th>\n",
       "      <td>暫不提供</td>\n",
       "      <td>台北市中正區忠孝東路一段9號地圖</td>\n",
       "      <td>http://www.giraffe.com.tw</td>\n",
       "      <td>120人</td>\n",
       "      <td>圖書出版及文化事業</td>\n",
       "      <td>其他教育服務業</td>\n",
       "      <td>長頸鹿網站｜企業簡介｜美語加盟｜GEO｜師訓課程｜更多商業司登記Google查公司名稱</td>\n",
       "      <td>人資部</td>\n",
       "      <td>9000萬元</td>\n",
       "      <td>暫不提供</td>\n",
       "    </tr>\n",
       "  </tbody>\n",
       "</table>\n",
       "</div>"
      ],
      "text/plain": [
       "     傳真              公司地址                       公司網址    員工       產業描述  \\\n",
       "0  暫不提供  台北市中正區忠孝東路一段9號地圖  http://www.giraffe.com.tw  120人  圖書出版及文化事業   \n",
       "\n",
       "      產業類別                                         相關連結  聯絡人     資本額    電話  \n",
       "0  其他教育服務業  長頸鹿網站｜企業簡介｜美語加盟｜GEO｜師訓課程｜更多商業司登記Google查公司名稱  人資部  9000萬元  暫不提供  "
      ]
     },
     "execution_count": 30,
     "metadata": {},
     "output_type": "execute_result"
    }
   ],
   "source": [
    "import pandas\n",
    "df = pandas.DataFrame([dict(zip(dt, dd))])\n",
    "df"
   ]
  },
  {
   "cell_type": "markdown",
   "metadata": {},
   "source": [
    "## Iterator"
   ]
  },
  {
   "cell_type": "code",
   "execution_count": 31,
   "metadata": {
    "collapsed": true
   },
   "outputs": [],
   "source": [
    "s = [1,2,3,4,5]\n",
    "s_iter = iter(s)"
   ]
  },
  {
   "cell_type": "code",
   "execution_count": 32,
   "metadata": {
    "collapsed": false
   },
   "outputs": [
    {
     "data": {
      "text/plain": [
       "1"
      ]
     },
     "execution_count": 32,
     "metadata": {},
     "output_type": "execute_result"
    }
   ],
   "source": [
    "next(s_iter)"
   ]
  },
  {
   "cell_type": "code",
   "execution_count": 33,
   "metadata": {
    "collapsed": false
   },
   "outputs": [
    {
     "data": {
      "text/plain": [
       "2"
      ]
     },
     "execution_count": 33,
     "metadata": {},
     "output_type": "execute_result"
    }
   ],
   "source": [
    "next(s_iter)"
   ]
  },
  {
   "cell_type": "markdown",
   "metadata": {},
   "source": [
    "## While Loop"
   ]
  },
  {
   "cell_type": "code",
   "execution_count": 34,
   "metadata": {
    "collapsed": false
   },
   "outputs": [
    {
     "name": "stdout",
     "output_type": "stream",
     "text": [
      "Current X is 0\n",
      "x is still less than 10, adding one to x\n",
      "Current X is 1\n",
      "x is still less than 10, adding one to x\n",
      "Current X is 2\n",
      "x is still less than 10, adding one to x\n",
      "Current X is 3\n",
      "x is still less than 10, adding one to x\n",
      "Current X is 4\n",
      "x is still less than 10, adding one to x\n",
      "Current X is 5\n",
      "x is still less than 10, adding one to x\n",
      "Current X is 6\n",
      "x is still less than 10, adding one to x\n",
      "Current X is 7\n",
      "x is still less than 10, adding one to x\n",
      "Current X is 8\n",
      "x is still less than 10, adding one to x\n",
      "Current X is 9\n",
      "x is still less than 10, adding one to x\n"
     ]
    }
   ],
   "source": [
    "x = 0 \n",
    "while x < 10:\n",
    "    print('Current X is', x)\n",
    "    print('x is still less than 10, adding one to x')\n",
    "    x += 1"
   ]
  },
  {
   "cell_type": "code",
   "execution_count": 35,
   "metadata": {
    "collapsed": false
   },
   "outputs": [
    {
     "name": "stdout",
     "output_type": "stream",
     "text": [
      "Current X is 0\n",
      "x is still less than 10, adding one to x\n",
      "Current X is 1\n",
      "x is still less than 10, adding one to x\n",
      "Current X is 2\n",
      "x is still less than 10, adding one to x\n",
      "Current X is 3\n",
      "x is still less than 10, adding one to x\n",
      "Current X is 4\n",
      "x is still less than 10, adding one to x\n",
      "Current X is 5\n",
      "x is still less than 10, adding one to x\n",
      "Current X is 6\n",
      "x is still less than 10, adding one to x\n",
      "Current X is 7\n",
      "x is still less than 10, adding one to x\n",
      "Current X is 8\n",
      "x is still less than 10, adding one to x\n",
      "Current X is 9\n",
      "x is still less than 10, adding one to x\n",
      "ALL DONE\n"
     ]
    }
   ],
   "source": [
    "x = 0 \n",
    "while x < 10:\n",
    "    print('Current X is', x)\n",
    "    print('x is still less than 10, adding one to x')\n",
    "    x += 1\n",
    "else:\n",
    "    print('ALL DONE')"
   ]
  },
  {
   "cell_type": "code",
   "execution_count": 36,
   "metadata": {
    "collapsed": false
   },
   "outputs": [
    {
     "name": "stdout",
     "output_type": "stream",
     "text": [
      "Current X is 0\n",
      "x is still less than 10, adding one to x\n",
      "x is not equal to 3\n",
      "Current X is 1\n",
      "x is still less than 10, adding one to x\n",
      "x is not equal to 3\n",
      "Current X is 2\n",
      "x is still less than 10, adding one to x\n",
      "x == 3\n"
     ]
    }
   ],
   "source": [
    "x = 0 \n",
    "while x < 10:\n",
    "    print('Current X is', x)\n",
    "    print('x is still less than 10, adding one to x')\n",
    "    x += 1\n",
    "    if x == 3:\n",
    "        print('x == 3')\n",
    "        break\n",
    "    else:\n",
    "        print('x is not equal to 3')\n",
    "        continue"
   ]
  },
  {
   "cell_type": "markdown",
   "metadata": {},
   "source": [
    "## 無窮迴圈"
   ]
  },
  {
   "cell_type": "code",
   "execution_count": 37,
   "metadata": {
    "collapsed": false
   },
   "outputs": [],
   "source": [
    "#while True:\n",
    "#    print('Infinity Loop')"
   ]
  },
  {
   "cell_type": "code",
   "execution_count": null,
   "metadata": {
    "collapsed": true
   },
   "outputs": [],
   "source": []
  }
 ],
 "metadata": {
  "kernelspec": {
   "display_name": "Python 3",
   "language": "python",
   "name": "python3"
  },
  "language_info": {
   "codemirror_mode": {
    "name": "ipython",
    "version": 3
   },
   "file_extension": ".py",
   "mimetype": "text/x-python",
   "name": "python",
   "nbconvert_exporter": "python",
   "pygments_lexer": "ipython3",
   "version": "3.6.0"
  }
 },
 "nbformat": 4,
 "nbformat_minor": 2
}

{
 "cells": [
  {
   "cell_type": "markdown",
   "metadata": {},
   "source": [
    "## 英文斷詞"
   ]
  },
  {
   "cell_type": "code",
   "execution_count": 1,
   "metadata": {
    "collapsed": false
   },
   "outputs": [
    {
     "data": {
      "text/plain": [
       "['this', 'is', 'a', 'book']"
      ]
     },
     "execution_count": 1,
     "metadata": {},
     "output_type": "execute_result"
    }
   ],
   "source": [
    "a = 'this is a book'\n",
    "a.split()"
   ]
  },
  {
   "cell_type": "markdown",
   "metadata": {},
   "source": [
    "## 中文斷詞 (Jieba)\n",
    "- ! pip install jieba\n",
    "- pip --trusted-host pypi.python.org install jieba"
   ]
  },
  {
   "cell_type": "code",
   "execution_count": 2,
   "metadata": {
    "collapsed": false
   },
   "outputs": [
    {
     "name": "stdout",
     "output_type": "stream",
     "text": [
      "Requirement already satisfied: jieba in c:\\programdata\\anaconda3\\lib\\site-packages\n"
     ]
    }
   ],
   "source": [
    "! pip install jieba"
   ]
  },
  {
   "cell_type": "code",
   "execution_count": 4,
   "metadata": {
    "collapsed": false
   },
   "outputs": [
    {
     "name": "stderr",
     "output_type": "stream",
     "text": [
      "Building prefix dict from the default dictionary ...\n",
      "Loading model from cache C:\\Users\\User\\AppData\\Local\\Temp\\jieba.cache\n",
      "Loading model cost 1.126 seconds.\n",
      "Prefix dict has been built succesfully.\n"
     ]
    },
    {
     "data": {
      "text/plain": [
       "['酸民婉君', '也', '可以', '報名', '嗎', '?']"
      ]
     },
     "execution_count": 4,
     "metadata": {},
     "output_type": "execute_result"
    }
   ],
   "source": [
    "import jieba\n",
    "a = '酸民婉君也可以報名嗎?'\n",
    "list(jieba.cut(a))"
   ]
  },
  {
   "cell_type": "code",
   "execution_count": 5,
   "metadata": {
    "collapsed": true
   },
   "outputs": [],
   "source": [
    "news = '''鹽水蜂炮今天上午8時在鹽水武廟舉行啟炮儀式，展開為期兩天兩夜的熱鬧慶典。在儀式結束後，三座炮城震撼出場，數萬發蜂炮傾巢而出，吸引不少民眾圍觀，搶著體驗今年元宵第一轟，其中有名6歲男童也著全副武裝來迎炮，「去年就看過了，不會怕！」。'''"
   ]
  },
  {
   "cell_type": "code",
   "execution_count": 7,
   "metadata": {
    "collapsed": false
   },
   "outputs": [
    {
     "data": {
      "text/plain": [
       "['鹽水蜂炮今天上午8時在鹽水武廟舉行啟炮儀式',\n",
       " '展開為期兩天兩夜的熱鬧慶典。在儀式結束後',\n",
       " '三座炮城震撼出場',\n",
       " '數萬發蜂炮傾巢而出',\n",
       " '吸引不少民眾圍觀',\n",
       " '搶著體驗今年元宵第一轟',\n",
       " '其中有名6歲男童也著全副武裝來迎炮',\n",
       " '「去年就看過了',\n",
       " '不會怕！」。']"
      ]
     },
     "execution_count": 7,
     "metadata": {},
     "output_type": "execute_result"
    }
   ],
   "source": [
    "news.split('，')"
   ]
  },
  {
   "cell_type": "code",
   "execution_count": 9,
   "metadata": {
    "collapsed": false
   },
   "outputs": [
    {
     "data": {
      "text/plain": [
       "['鹽水蜂炮今天上午8時在鹽水武廟舉行啟炮儀式',\n",
       " '展開為期兩天兩夜的熱鬧慶典',\n",
       " '在儀式結束後',\n",
       " '三座炮城震撼出場',\n",
       " '數萬發蜂炮傾巢而出',\n",
       " '吸引不少民眾圍觀',\n",
       " '搶著體驗今年元宵第一轟',\n",
       " '其中有名6歲男童也著全副武裝來迎炮',\n",
       " '',\n",
       " '去年就看過了',\n",
       " '不會怕',\n",
       " '',\n",
       " '',\n",
       " '']"
      ]
     },
     "execution_count": 9,
     "metadata": {},
     "output_type": "execute_result"
    }
   ],
   "source": [
    "import re\n",
    "re.split('，|。|「|」|！' , news)"
   ]
  },
  {
   "cell_type": "code",
   "execution_count": 10,
   "metadata": {
    "collapsed": false
   },
   "outputs": [
    {
     "data": {
      "text/plain": [
       "<generator object Tokenizer.cut at 0x000000000B3C0A98>"
      ]
     },
     "execution_count": 10,
     "metadata": {},
     "output_type": "execute_result"
    }
   ],
   "source": [
    "import jieba\n",
    "\n",
    "seg_list = jieba.cut(\"大巨蛋案對市府同仁下封口令？　柯P否認\", cut_all=True)\n",
    "seg_list"
   ]
  },
  {
   "cell_type": "code",
   "execution_count": 11,
   "metadata": {
    "collapsed": false
   },
   "outputs": [
    {
     "name": "stdout",
     "output_type": "stream",
     "text": [
      "大\n",
      "巨蛋\n",
      "案\n",
      "對\n",
      "市府\n",
      "同仁\n",
      "下\n",
      "封口\n",
      "封口令\n",
      "口令\n",
      "\n",
      "\n",
      "\n",
      "柯\n",
      "P\n",
      "否\n",
      "認\n"
     ]
    }
   ],
   "source": [
    "for w in seg_list:\n",
    "    print(w)"
   ]
  },
  {
   "cell_type": "code",
   "execution_count": 14,
   "metadata": {
    "collapsed": false
   },
   "outputs": [
    {
     "name": "stdout",
     "output_type": "stream",
     "text": [
      "['大', '巨蛋', '案', '對', '市府', '同仁', '下', '封口', '封口令', '口令', '', '', '', '柯', 'P', '否', '認']\n"
     ]
    }
   ],
   "source": [
    "import jieba\n",
    "\n",
    "seg_list = jieba.cut(\"大巨蛋案對市府同仁下封口令？　柯P否認\", cut_all=True)\n",
    "print(list(seg_list))"
   ]
  },
  {
   "cell_type": "code",
   "execution_count": 16,
   "metadata": {
    "collapsed": false
   },
   "outputs": [
    {
     "name": "stdout",
     "output_type": "stream",
     "text": [
      "大/ 巨蛋/ 案/ 對/ 市府/ 同仁/ 下/ 封口/ 封口令/ 口令/ / / / 柯/ P/ 否/ 認\n"
     ]
    }
   ],
   "source": [
    "seg_list = jieba.cut(\"大巨蛋案對市府同仁下封口令？　柯P否認\", cut_all=True)\n",
    "print(\"/ \".join(seg_list))"
   ]
  },
  {
   "cell_type": "code",
   "execution_count": 17,
   "metadata": {
    "collapsed": false
   },
   "outputs": [
    {
     "name": "stdout",
     "output_type": "stream",
     "text": [
      "大/ 巨蛋/ 案對/ 市府/ 同仁/ 下/ 封口令/ ？/ 　/ 柯/ P/ 否認\n"
     ]
    }
   ],
   "source": [
    "seg_list = jieba.cut(\"大巨蛋案對市府同仁下封口令？　柯P否認\", cut_all=False)\n",
    "print(\"/ \".join(seg_list))"
   ]
  },
  {
   "cell_type": "code",
   "execution_count": 18,
   "metadata": {
    "collapsed": false
   },
   "outputs": [
    {
     "name": "stdout",
     "output_type": "stream",
     "text": [
      "大/ 巨蛋/ 案對/ 市府/ 同仁/ 下/ 封口令/ ？/ 　/ 柯/ P/ 否認\n"
     ]
    }
   ],
   "source": [
    "seg_list = jieba.cut(\"大巨蛋案對市府同仁下封口令？　柯P否認\")\n",
    "print(\"/ \".join(seg_list))"
   ]
  },
  {
   "cell_type": "markdown",
   "metadata": {},
   "source": [
    "## 載入使用者自定義字典"
   ]
  },
  {
   "cell_type": "code",
   "execution_count": 23,
   "metadata": {
    "collapsed": false
   },
   "outputs": [],
   "source": [
    "jieba.load_userdict('userdict.txt')"
   ]
  },
  {
   "cell_type": "code",
   "execution_count": 24,
   "metadata": {
    "collapsed": false
   },
   "outputs": [
    {
     "name": "stdout",
     "output_type": "stream",
     "text": [
      "大巨蛋/ 案對/ 市府/ 同仁/ 下/ 封口令/ ？/ 　/ 柯P/ 否認\n"
     ]
    }
   ],
   "source": [
    "seg_list = jieba.cut(\"大巨蛋案對市府同仁下封口令？　柯P否認\")\n",
    "print(\"/ \".join(seg_list))"
   ]
  },
  {
   "cell_type": "code",
   "execution_count": 25,
   "metadata": {
    "collapsed": false
   },
   "outputs": [
    {
     "data": {
      "text/plain": [
       "[pair('大巨蛋', 'n'),\n",
       " pair('案', 'ng'),\n",
       " pair('對', 'p'),\n",
       " pair('市府', 'n'),\n",
       " pair('同仁', 'nr'),\n",
       " pair('下', 'f'),\n",
       " pair('封口令', 'n'),\n",
       " pair('？', 'x'),\n",
       " pair('\\u3000', 'x'),\n",
       " pair('柯P', 'n'),\n",
       " pair('否認', 'v')]"
      ]
     },
     "execution_count": 25,
     "metadata": {},
     "output_type": "execute_result"
    }
   ],
   "source": [
    "import jieba.posseg as pseg\n",
    "words = pseg.cut(\"大巨蛋案對市府同仁下封口令？　柯P否認\")\n",
    "list(words)"
   ]
  },
  {
   "cell_type": "code",
   "execution_count": 27,
   "metadata": {
    "collapsed": false
   },
   "outputs": [
    {
     "name": "stdout",
     "output_type": "stream",
     "text": [
      "大巨蛋 n\n",
      "案 ng\n",
      "對 p\n",
      "市府 n\n",
      "同仁 nr\n",
      "下 f\n",
      "封口令 n\n",
      "？ x\n",
      "　 x\n",
      "柯P n\n",
      "否認 v\n"
     ]
    }
   ],
   "source": [
    "import jieba.posseg as pseg\n",
    "words = pseg.cut(\"大巨蛋案對市府同仁下封口令？　柯P否認\")\n",
    "for w in words:\n",
    "    print(w.word, w.flag)"
   ]
  },
  {
   "cell_type": "code",
   "execution_count": 28,
   "metadata": {
    "collapsed": false
   },
   "outputs": [
    {
     "data": {
      "text/plain": [
       "['酸民婉君', '也', '可以', '報名', '嗎', '?']"
      ]
     },
     "execution_count": 28,
     "metadata": {},
     "output_type": "execute_result"
    }
   ],
   "source": [
    "import jieba\n",
    "a = '酸民婉君也可以報名嗎?'\n",
    "list(jieba.cut(a))"
   ]
  },
  {
   "cell_type": "code",
   "execution_count": 29,
   "metadata": {
    "collapsed": false
   },
   "outputs": [
    {
     "data": {
      "text/plain": [
       "['酸民', '婉君', '也', '可以', '報名', '嗎', '?']"
      ]
     },
     "execution_count": 29,
     "metadata": {},
     "output_type": "execute_result"
    }
   ],
   "source": [
    "jieba.add_word('酸民')\n",
    "jieba.add_word('婉君')\n",
    "list(jieba.cut(a))"
   ]
  },
  {
   "cell_type": "code",
   "execution_count": 30,
   "metadata": {
    "collapsed": false
   },
   "outputs": [
    {
     "name": "stdout",
     "output_type": "stream",
     "text": [
      "酸民 0 2\n",
      "婉君 2 4\n",
      "也 4 5\n",
      "可以 5 7\n",
      "報名 7 9\n",
      "嗎 9 10\n",
      "? 10 11\n"
     ]
    }
   ],
   "source": [
    "words = jieba.tokenize(a)\n",
    "\n",
    "for tw in words:\n",
    "    print(tw[0], tw[1], tw[2])\n"
   ]
  },
  {
   "cell_type": "markdown",
   "metadata": {},
   "source": [
    "## n-gram"
   ]
  },
  {
   "cell_type": "code",
   "execution_count": 32,
   "metadata": {
    "collapsed": false
   },
   "outputs": [],
   "source": [
    "s = '那我們酸民婉君也可以報名嗎?'"
   ]
  },
  {
   "cell_type": "code",
   "execution_count": 33,
   "metadata": {
    "collapsed": false
   },
   "outputs": [
    {
     "data": {
      "text/plain": [
       "'那我'"
      ]
     },
     "execution_count": 33,
     "metadata": {},
     "output_type": "execute_result"
    }
   ],
   "source": [
    "s[0:2]"
   ]
  },
  {
   "cell_type": "code",
   "execution_count": 34,
   "metadata": {
    "collapsed": false
   },
   "outputs": [
    {
     "data": {
      "text/plain": [
       "'我們'"
      ]
     },
     "execution_count": 34,
     "metadata": {},
     "output_type": "execute_result"
    }
   ],
   "source": [
    "s[1:3]"
   ]
  },
  {
   "cell_type": "code",
   "execution_count": 35,
   "metadata": {
    "collapsed": false
   },
   "outputs": [
    {
     "data": {
      "text/plain": [
       "14"
      ]
     },
     "execution_count": 35,
     "metadata": {},
     "output_type": "execute_result"
    }
   ],
   "source": [
    "len(s)"
   ]
  },
  {
   "cell_type": "code",
   "execution_count": 37,
   "metadata": {
    "collapsed": false
   },
   "outputs": [
    {
     "name": "stdout",
     "output_type": "stream",
     "text": [
      "那我\n",
      "我們\n",
      "們酸\n",
      "酸民\n",
      "民婉\n",
      "婉君\n",
      "君也\n",
      "也可\n",
      "可以\n",
      "以報\n",
      "報名\n",
      "名嗎\n",
      "嗎?\n"
     ]
    }
   ],
   "source": [
    "for i in range(0,len(s) - 2 + 1):\n",
    "    print(s[i:i+2])"
   ]
  },
  {
   "cell_type": "code",
   "execution_count": 38,
   "metadata": {
    "collapsed": false
   },
   "outputs": [
    {
     "name": "stdout",
     "output_type": "stream",
     "text": [
      "那我們\n",
      "我們酸\n",
      "們酸民\n",
      "酸民婉\n",
      "民婉君\n",
      "婉君也\n",
      "君也可\n",
      "也可以\n",
      "可以報\n",
      "以報名\n",
      "報名嗎\n",
      "名嗎?\n"
     ]
    }
   ],
   "source": [
    "for i in range(0,len(s) - 3 + 1):\n",
    "    print(s[i:i+3])"
   ]
  },
  {
   "cell_type": "code",
   "execution_count": 45,
   "metadata": {
    "collapsed": true
   },
   "outputs": [],
   "source": [
    "def ngram(input_sentence,n=2):\n",
    "    ret = []\n",
    "    for i in range(0,len(input_sentence) - n + 1):\n",
    "        ret.append(input_sentence[i:i+n])\n",
    "    return ret"
   ]
  },
  {
   "cell_type": "code",
   "execution_count": 41,
   "metadata": {
    "collapsed": false
   },
   "outputs": [
    {
     "data": {
      "text/plain": [
       "['那我們',\n",
       " '我們酸',\n",
       " '們酸民',\n",
       " '酸民婉',\n",
       " '民婉君',\n",
       " '婉君也',\n",
       " '君也可',\n",
       " '也可以',\n",
       " '可以報',\n",
       " '以報名',\n",
       " '報名嗎',\n",
       " '名嗎?']"
      ]
     },
     "execution_count": 41,
     "metadata": {},
     "output_type": "execute_result"
    }
   ],
   "source": [
    "ngram(s,n=3)"
   ]
  },
  {
   "cell_type": "code",
   "execution_count": 42,
   "metadata": {
    "collapsed": true
   },
   "outputs": [],
   "source": [
    "news = '''\n",
    "鹽水蜂炮今天上午8時在鹽水武廟舉行啟炮儀式，展開為期兩天兩夜的熱鬧慶典。在儀式結束後，三座炮城震撼出場，數萬發蜂炮傾巢而出，吸引不少民眾圍觀，搶著體驗今年元宵第一轟，其中有名6歲男童也著全副武裝來迎炮，「去年就看過了，不會怕！」。\n",
    " \n",
    "台南市代理市長李孟諺今天代表主持啟炮儀式，與議長賴美惠等多位議員、市府官員向關聖帝君上香，兩架直升機載著鞭炮升空，炮聲響徹雲霄，象徵鹽水蜂炮民俗正式展開。李孟諺說，北天燈、南蜂炮，不只是台灣著名民俗，更被評為全球十大慶典之一，保證讓人終身難忘的體驗，歡迎遊客到訪。\n",
    " \n",
    "儀式結束後，武廟神轎隊伍出動繞境，小小兵、機車等三座造型炮城盤據路口，三、四十名遊客戴上安全帽、穿厚外套等全副武裝，站在巨炮城1公尺遠，高空煙火燃放後，蜂炮咻咻聲不絕於耳，令遊客讚說:「很刺激！不虛此行，越炸越旺」。\n",
    " \n",
    "武廟指出，轎群今天主要繞行鹽水郊區一帶，大型炮城則集中在北門社區、土庫里一帶，從天亮炸到天黑，呼籲遊客一定要穿著完整防護裝備。（王志弘／台南報導）\n",
    "'''"
   ]
  },
  {
   "cell_type": "markdown",
   "metadata": {},
   "source": [
    "## 使用字典統計詞頻"
   ]
  },
  {
   "cell_type": "code",
   "execution_count": 48,
   "metadata": {
    "collapsed": false
   },
   "outputs": [],
   "source": [
    "words = ngram(news,2 )\n",
    "\n",
    "dic = {}\n",
    "for w in words:\n",
    "    if w not in dic:\n",
    "        dic[w] = 1\n",
    "    else:\n",
    "        dic[w] = dic[w] + 1\n",
    "#dic"
   ]
  },
  {
   "cell_type": "code",
   "execution_count": 55,
   "metadata": {
    "collapsed": false
   },
   "outputs": [
    {
     "name": "stdout",
     "output_type": "stream",
     "text": [
      "蜂炮 5\n",
      "鹽水 4\n",
      "儀式 4\n",
      "炮城 4\n",
      "遊客 4\n"
     ]
    }
   ],
   "source": [
    "import operator\n",
    "swd = sorted(dic.items(), key = operator.itemgetter(1), reverse = True)\n",
    "for word, cnt in swd:\n",
    "    if cnt >= 4:\n",
    "        print(word, cnt)"
   ]
  },
  {
   "cell_type": "markdown",
   "metadata": {},
   "source": [
    "## 使用Counter 統計詞頻"
   ]
  },
  {
   "cell_type": "code",
   "execution_count": 58,
   "metadata": {
    "collapsed": false
   },
   "outputs": [
    {
     "data": {
      "text/plain": [
       "[('蜂炮', 5), ('鹽水', 4), ('儀式', 4), ('炮城', 4), ('遊客', 4)]"
      ]
     },
     "execution_count": 58,
     "metadata": {},
     "output_type": "execute_result"
    }
   ],
   "source": [
    "from collections import Counter\n",
    "words = ngram(news,2)\n",
    "c = Counter(words)\n",
    "c.most_common(5)"
   ]
  },
  {
   "cell_type": "code",
   "execution_count": 59,
   "metadata": {
    "collapsed": false
   },
   "outputs": [
    {
     "data": {
      "text/plain": [
       "[('。\\n ', 3), ('\\n \\n', 3), ('鹽水蜂', 2), ('水蜂炮', 2), ('啟炮儀', 2)]"
      ]
     },
     "execution_count": 59,
     "metadata": {},
     "output_type": "execute_result"
    }
   ],
   "source": [
    "from collections import Counter\n",
    "words = ngram(news,3)\n",
    "c = Counter(words)\n",
    "c.most_common(5)"
   ]
  },
  {
   "cell_type": "code",
   "execution_count": 60,
   "metadata": {
    "collapsed": false
   },
   "outputs": [
    {
     "data": {
      "text/plain": [
       "[('。\\n \\n', 3), ('鹽水蜂炮', 2), ('啟炮儀式', 2), ('炮儀式，', 2), ('儀式結束', 2)]"
      ]
     },
     "execution_count": 60,
     "metadata": {},
     "output_type": "execute_result"
    }
   ],
   "source": [
    "from collections import Counter\n",
    "words = ngram(news,4)\n",
    "c = Counter(words)\n",
    "c.most_common(5)"
   ]
  },
  {
   "cell_type": "code",
   "execution_count": 65,
   "metadata": {
    "collapsed": false
   },
   "outputs": [
    {
     "name": "stdout",
     "output_type": "stream",
     "text": [
      "虛擬貨幣\n",
      "比特幣期貨\n",
      "要來了\n",
      "美國監管機構美國商品期貨交易委員會\n",
      "CFTC\n",
      "一日宣布將放行比特幣期貨\n",
      "允許芝加哥商品交易所\n",
      "CME\n",
      "和芝加哥選擇權交易所\n",
      "CBOE\n",
      "推出相關期貨合約\n",
      "因為兩交易所已證明擬推出的合約和交易安全符合必要的監管規定\n",
      "這成為推動主流投資人買賣此價格高度波動的數位貨幣的重大一步\n",
      "\n"
     ]
    }
   ],
   "source": [
    "import re\n",
    "delimiter = \"，|。|、|\\(|\\)|！|（|）|「|」|；\"  \n",
    "text = '虛擬貨幣「比特幣期貨」要來了！美國監管機構美國商品期貨交易委員會（CFTC）一日宣布將放行比特幣期貨，允許芝加哥商品交易所（CME）和芝加哥選擇權交易所（CBOE）推出相關期貨合約，因為兩交易所已證明擬推出的合約和交易安全符合必要的監管規定；這成為推動主流投資人買賣此價格高度波動的數位貨幣的重大一步。'\n",
    "for i in re.split(delimiter, text):\n",
    "    print(i)\n"
   ]
  },
  {
   "cell_type": "code",
   "execution_count": 67,
   "metadata": {
    "collapsed": false
   },
   "outputs": [
    {
     "data": {
      "text/plain": [
       "'比特幣 美上市'"
      ]
     },
     "execution_count": 67,
     "metadata": {},
     "output_type": "execute_result"
    }
   ],
   "source": [
    "a = '比特幣期貨 美核准上市'\n",
    "a = a.replace('期貨', '')\n",
    "a.replace('核准', '')\n",
    "\n",
    "\n",
    "#removeKey(a, ['期貨', '核准'])"
   ]
  },
  {
   "cell_type": "code",
   "execution_count": 98,
   "metadata": {
    "collapsed": true
   },
   "outputs": [],
   "source": [
    "def removeKey(text, keywords):\n",
    "    ret = text\n",
    "    for word in keywords:\n",
    "        ret = ret.replace(word, '')\n",
    "    return ret"
   ]
  },
  {
   "cell_type": "code",
   "execution_count": 99,
   "metadata": {
    "collapsed": false
   },
   "outputs": [
    {
     "data": {
      "text/plain": [
       "'比特幣 美上市'"
      ]
     },
     "execution_count": 99,
     "metadata": {},
     "output_type": "execute_result"
    }
   ],
   "source": [
    "removeKey(a, ['期貨', '核准'])"
   ]
  },
  {
   "cell_type": "code",
   "execution_count": 103,
   "metadata": {
    "collapsed": true
   },
   "outputs": [],
   "source": [
    "news = '''\n",
    "央行總裁對於國家幣制之控管應有其專業與堅持。\n",
    "\n",
    "通貨膨脹與貨幣貶值息息相關，經濟的穩定開展與物價之是否波動，亦有關連，因此，穩定物價是經濟部的重要職責。過去在李國鼎當經濟部長時期，曾設立「物價督導會報」小組，掌握民生物質之物價趨於穩定。其次，對於「品質標示法」的執行，保證「貨品」的信用保證，以免冒牌貨充斥，造成假貨，影響民間信譽，確立了台灣經濟繁榮的基礎。\n",
    "\n",
    "茲因過去在中國法幣政策、金元券政策，造成貨幣貶值，失去人民的信任，造成通貨膨脹，致財經失策，敗退到台灣來，而在38年初期，台幣貶值曾以舊台幣四萬元換新台幣一元之惡夢，為挽救國家財政之敗壞，曾發行愛國債券、管制匯率等措施，漸至穩定貨幣價值，發展經濟，使得我國財經上軌道，由加工出口區開展帶動中小企業的發展，由農業社會漸致工業社會的雛型，成為亞洲四小龍，當時財經專家的努力，功不可沒！\n",
    "\n",
    "我國幣值的「購買力」遠比亞洲其他國家，如新加坡、韓國、印尼等還高，因此，各國民間的薪資高低並不以數額表面的高低而定，應著重在「購買力」為要。有些國家通貨膨脹，往往以印製鈔票應付需要，誠如過去非洲辛巴威通貨膨脹率於2003年為6%，到2008年為2億3千1百萬%，當時曾發行「一百億元」面額的鈔票造成國家經濟破產，實屬可悲！\n",
    "\n",
    "央行總裁彭淮南長達二十年的任期，捍衛其政策的堅持與強勢，縱然外界有人認為太過保守，但不能否認央行是最獲社會信任的單位。在亞洲金融危機及全球金融海嘯時，平安渡過風暴，對於新台弊匯率的掌握穩定，擇善固執，他為國奉獻，不愧為世界級的14A 總裁，令人敬佩！\n",
    "'''"
   ]
  },
  {
   "cell_type": "code",
   "execution_count": 104,
   "metadata": {
    "collapsed": false
   },
   "outputs": [],
   "source": [
    "import re\n",
    "delimiter = \"，|。|、|\\(|\\)|！|（|）|「|」|；|－\"  \n",
    "#text = '虛擬貨幣「比特幣期貨」要來了！美國監管機構美國商品期貨交易委員會（CFTC）一日宣布將放行比特幣期貨，允許芝加哥商品交易所（CME）和芝加哥選擇權交易所（CBOE）推出相關期貨合約，因為兩交易所已證明擬推出的合約和交易安全符合必要的監管規定；這成為推動主流投資人買賣此價格高度波動的數位貨幣的重大一步。'\n",
    "sentenceAry = [sentence for sentence in re.split(delimiter, news)]"
   ]
  },
  {
   "cell_type": "code",
   "execution_count": 105,
   "metadata": {
    "collapsed": false
   },
   "outputs": [
    {
     "name": "stdout",
     "output_type": "stream",
     "text": [
      "4 []\n",
      "3 ['通貨膨脹']\n",
      "2 ['通貨膨脹', '幣貶值']\n"
     ]
    },
    {
     "data": {
      "text/plain": [
       "['通貨膨脹',\n",
       " '幣貶值',\n",
       " '央行',\n",
       " '總裁',\n",
       " '對於',\n",
       " '國家',\n",
       " '\\n\\n',\n",
       " '經濟',\n",
       " '穩定',\n",
       " '物價',\n",
       " '過去',\n",
       " '造成',\n",
       " '政策',\n",
       " '財經',\n",
       " '社會',\n",
       " '亞洲']"
      ]
     },
     "execution_count": 105,
     "metadata": {},
     "output_type": "execute_result"
    }
   ],
   "source": [
    "keywords = [] \n",
    "for n in range(4,1, -1):\n",
    "    print(n, keywords)\n",
    "    words = []\n",
    "    for sentence in sentenceAry:\n",
    "        text_list = removeKey(sentence, keywords)\n",
    "        words.extend(ngram(text_list, n))\n",
    "        \n",
    "    c = Counter(words)\n",
    "    for word, cnt in c.items():\n",
    "        if cnt >= 3:\n",
    "            #print(word)\n",
    "            keywords.append(word)\n",
    "keywords"
   ]
  },
  {
   "cell_type": "code",
   "execution_count": null,
   "metadata": {
    "collapsed": true
   },
   "outputs": [],
   "source": []
  }
 ],
 "metadata": {
  "kernelspec": {
   "display_name": "Python 3",
   "language": "python",
   "name": "python3"
  },
  "language_info": {
   "codemirror_mode": {
    "name": "ipython",
    "version": 3
   },
   "file_extension": ".py",
   "mimetype": "text/x-python",
   "name": "python",
   "nbconvert_exporter": "python",
   "pygments_lexer": "ipython3",
   "version": "3.6.0"
  }
 },
 "nbformat": 4,
 "nbformat_minor": 2
}

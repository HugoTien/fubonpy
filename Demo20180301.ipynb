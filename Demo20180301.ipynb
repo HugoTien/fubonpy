{
 "cells": [
  {
   "cell_type": "markdown",
   "metadata": {},
   "source": [
    "## 英文斷詞"
   ]
  },
  {
   "cell_type": "code",
   "execution_count": 1,
   "metadata": {
    "collapsed": false
   },
   "outputs": [
    {
     "data": {
      "text/plain": [
       "['this', 'is', 'a', 'book']"
      ]
     },
     "execution_count": 1,
     "metadata": {},
     "output_type": "execute_result"
    }
   ],
   "source": [
    "a = 'this is a book'\n",
    "a.split()"
   ]
  },
  {
   "cell_type": "markdown",
   "metadata": {},
   "source": [
    "## 中文斷詞 (Jieba)\n",
    "- ! pip install jieba\n",
    "- pip --trusted-host pypi.python.org install jieba"
   ]
  },
  {
   "cell_type": "code",
   "execution_count": 2,
   "metadata": {
    "collapsed": false
   },
   "outputs": [
    {
     "name": "stdout",
     "output_type": "stream",
     "text": [
      "Requirement already satisfied: jieba in c:\\programdata\\anaconda3\\lib\\site-packages\n"
     ]
    }
   ],
   "source": [
    "! pip install jieba"
   ]
  },
  {
   "cell_type": "code",
   "execution_count": 4,
   "metadata": {
    "collapsed": false
   },
   "outputs": [
    {
     "name": "stderr",
     "output_type": "stream",
     "text": [
      "Building prefix dict from the default dictionary ...\n",
      "Loading model from cache C:\\Users\\User\\AppData\\Local\\Temp\\jieba.cache\n",
      "Loading model cost 1.126 seconds.\n",
      "Prefix dict has been built succesfully.\n"
     ]
    },
    {
     "data": {
      "text/plain": [
       "['酸民婉君', '也', '可以', '報名', '嗎', '?']"
      ]
     },
     "execution_count": 4,
     "metadata": {},
     "output_type": "execute_result"
    }
   ],
   "source": [
    "import jieba\n",
    "a = '酸民婉君也可以報名嗎?'\n",
    "list(jieba.cut(a))"
   ]
  },
  {
   "cell_type": "code",
   "execution_count": 5,
   "metadata": {
    "collapsed": true
   },
   "outputs": [],
   "source": [
    "news = '''鹽水蜂炮今天上午8時在鹽水武廟舉行啟炮儀式，展開為期兩天兩夜的熱鬧慶典。在儀式結束後，三座炮城震撼出場，數萬發蜂炮傾巢而出，吸引不少民眾圍觀，搶著體驗今年元宵第一轟，其中有名6歲男童也著全副武裝來迎炮，「去年就看過了，不會怕！」。'''"
   ]
  },
  {
   "cell_type": "code",
   "execution_count": 7,
   "metadata": {
    "collapsed": false
   },
   "outputs": [
    {
     "data": {
      "text/plain": [
       "['鹽水蜂炮今天上午8時在鹽水武廟舉行啟炮儀式',\n",
       " '展開為期兩天兩夜的熱鬧慶典。在儀式結束後',\n",
       " '三座炮城震撼出場',\n",
       " '數萬發蜂炮傾巢而出',\n",
       " '吸引不少民眾圍觀',\n",
       " '搶著體驗今年元宵第一轟',\n",
       " '其中有名6歲男童也著全副武裝來迎炮',\n",
       " '「去年就看過了',\n",
       " '不會怕！」。']"
      ]
     },
     "execution_count": 7,
     "metadata": {},
     "output_type": "execute_result"
    }
   ],
   "source": [
    "news.split('，')"
   ]
  },
  {
   "cell_type": "code",
   "execution_count": 9,
   "metadata": {
    "collapsed": false
   },
   "outputs": [
    {
     "data": {
      "text/plain": [
       "['鹽水蜂炮今天上午8時在鹽水武廟舉行啟炮儀式',\n",
       " '展開為期兩天兩夜的熱鬧慶典',\n",
       " '在儀式結束後',\n",
       " '三座炮城震撼出場',\n",
       " '數萬發蜂炮傾巢而出',\n",
       " '吸引不少民眾圍觀',\n",
       " '搶著體驗今年元宵第一轟',\n",
       " '其中有名6歲男童也著全副武裝來迎炮',\n",
       " '',\n",
       " '去年就看過了',\n",
       " '不會怕',\n",
       " '',\n",
       " '',\n",
       " '']"
      ]
     },
     "execution_count": 9,
     "metadata": {},
     "output_type": "execute_result"
    }
   ],
   "source": [
    "import re\n",
    "re.split('，|。|「|」|！' , news)"
   ]
  },
  {
   "cell_type": "code",
   "execution_count": 10,
   "metadata": {
    "collapsed": false
   },
   "outputs": [
    {
     "data": {
      "text/plain": [
       "<generator object Tokenizer.cut at 0x000000000B3C0A98>"
      ]
     },
     "execution_count": 10,
     "metadata": {},
     "output_type": "execute_result"
    }
   ],
   "source": [
    "import jieba\n",
    "\n",
    "seg_list = jieba.cut(\"大巨蛋案對市府同仁下封口令？　柯P否認\", cut_all=True)\n",
    "seg_list"
   ]
  },
  {
   "cell_type": "code",
   "execution_count": 11,
   "metadata": {
    "collapsed": false
   },
   "outputs": [
    {
     "name": "stdout",
     "output_type": "stream",
     "text": [
      "大\n",
      "巨蛋\n",
      "案\n",
      "對\n",
      "市府\n",
      "同仁\n",
      "下\n",
      "封口\n",
      "封口令\n",
      "口令\n",
      "\n",
      "\n",
      "\n",
      "柯\n",
      "P\n",
      "否\n",
      "認\n"
     ]
    }
   ],
   "source": [
    "for w in seg_list:\n",
    "    print(w)"
   ]
  },
  {
   "cell_type": "code",
   "execution_count": 14,
   "metadata": {
    "collapsed": false
   },
   "outputs": [
    {
     "name": "stdout",
     "output_type": "stream",
     "text": [
      "['大', '巨蛋', '案', '對', '市府', '同仁', '下', '封口', '封口令', '口令', '', '', '', '柯', 'P', '否', '認']\n"
     ]
    }
   ],
   "source": [
    "import jieba\n",
    "\n",
    "seg_list = jieba.cut(\"大巨蛋案對市府同仁下封口令？　柯P否認\", cut_all=True)\n",
    "print(list(seg_list))"
   ]
  },
  {
   "cell_type": "code",
   "execution_count": 16,
   "metadata": {
    "collapsed": false
   },
   "outputs": [
    {
     "name": "stdout",
     "output_type": "stream",
     "text": [
      "大/ 巨蛋/ 案/ 對/ 市府/ 同仁/ 下/ 封口/ 封口令/ 口令/ / / / 柯/ P/ 否/ 認\n"
     ]
    }
   ],
   "source": [
    "seg_list = jieba.cut(\"大巨蛋案對市府同仁下封口令？　柯P否認\", cut_all=True)\n",
    "print(\"/ \".join(seg_list))"
   ]
  },
  {
   "cell_type": "code",
   "execution_count": 17,
   "metadata": {
    "collapsed": false
   },
   "outputs": [
    {
     "name": "stdout",
     "output_type": "stream",
     "text": [
      "大/ 巨蛋/ 案對/ 市府/ 同仁/ 下/ 封口令/ ？/ 　/ 柯/ P/ 否認\n"
     ]
    }
   ],
   "source": [
    "seg_list = jieba.cut(\"大巨蛋案對市府同仁下封口令？　柯P否認\", cut_all=False)\n",
    "print(\"/ \".join(seg_list))"
   ]
  },
  {
   "cell_type": "code",
   "execution_count": 18,
   "metadata": {
    "collapsed": false
   },
   "outputs": [
    {
     "name": "stdout",
     "output_type": "stream",
     "text": [
      "大/ 巨蛋/ 案對/ 市府/ 同仁/ 下/ 封口令/ ？/ 　/ 柯/ P/ 否認\n"
     ]
    }
   ],
   "source": [
    "seg_list = jieba.cut(\"大巨蛋案對市府同仁下封口令？　柯P否認\")\n",
    "print(\"/ \".join(seg_list))"
   ]
  },
  {
   "cell_type": "markdown",
   "metadata": {},
   "source": [
    "## 載入使用者自定義字典"
   ]
  },
  {
   "cell_type": "code",
   "execution_count": 23,
   "metadata": {
    "collapsed": false
   },
   "outputs": [],
   "source": [
    "jieba.load_userdict('userdict.txt')"
   ]
  },
  {
   "cell_type": "code",
   "execution_count": 24,
   "metadata": {
    "collapsed": false
   },
   "outputs": [
    {
     "name": "stdout",
     "output_type": "stream",
     "text": [
      "大巨蛋/ 案對/ 市府/ 同仁/ 下/ 封口令/ ？/ 　/ 柯P/ 否認\n"
     ]
    }
   ],
   "source": [
    "seg_list = jieba.cut(\"大巨蛋案對市府同仁下封口令？　柯P否認\")\n",
    "print(\"/ \".join(seg_list))"
   ]
  },
  {
   "cell_type": "code",
   "execution_count": 25,
   "metadata": {
    "collapsed": false
   },
   "outputs": [
    {
     "data": {
      "text/plain": [
       "[pair('大巨蛋', 'n'),\n",
       " pair('案', 'ng'),\n",
       " pair('對', 'p'),\n",
       " pair('市府', 'n'),\n",
       " pair('同仁', 'nr'),\n",
       " pair('下', 'f'),\n",
       " pair('封口令', 'n'),\n",
       " pair('？', 'x'),\n",
       " pair('\\u3000', 'x'),\n",
       " pair('柯P', 'n'),\n",
       " pair('否認', 'v')]"
      ]
     },
     "execution_count": 25,
     "metadata": {},
     "output_type": "execute_result"
    }
   ],
   "source": [
    "import jieba.posseg as pseg\n",
    "words = pseg.cut(\"大巨蛋案對市府同仁下封口令？　柯P否認\")\n",
    "list(words)"
   ]
  },
  {
   "cell_type": "code",
   "execution_count": 27,
   "metadata": {
    "collapsed": false
   },
   "outputs": [
    {
     "name": "stdout",
     "output_type": "stream",
     "text": [
      "大巨蛋 n\n",
      "案 ng\n",
      "對 p\n",
      "市府 n\n",
      "同仁 nr\n",
      "下 f\n",
      "封口令 n\n",
      "？ x\n",
      "　 x\n",
      "柯P n\n",
      "否認 v\n"
     ]
    }
   ],
   "source": [
    "import jieba.posseg as pseg\n",
    "words = pseg.cut(\"大巨蛋案對市府同仁下封口令？　柯P否認\")\n",
    "for w in words:\n",
    "    print(w.word, w.flag)"
   ]
  },
  {
   "cell_type": "code",
   "execution_count": 28,
   "metadata": {
    "collapsed": false
   },
   "outputs": [
    {
     "data": {
      "text/plain": [
       "['酸民婉君', '也', '可以', '報名', '嗎', '?']"
      ]
     },
     "execution_count": 28,
     "metadata": {},
     "output_type": "execute_result"
    }
   ],
   "source": [
    "import jieba\n",
    "a = '酸民婉君也可以報名嗎?'\n",
    "list(jieba.cut(a))"
   ]
  },
  {
   "cell_type": "code",
   "execution_count": 29,
   "metadata": {
    "collapsed": false
   },
   "outputs": [
    {
     "data": {
      "text/plain": [
       "['酸民', '婉君', '也', '可以', '報名', '嗎', '?']"
      ]
     },
     "execution_count": 29,
     "metadata": {},
     "output_type": "execute_result"
    }
   ],
   "source": [
    "jieba.add_word('酸民')\n",
    "jieba.add_word('婉君')\n",
    "list(jieba.cut(a))"
   ]
  },
  {
   "cell_type": "code",
   "execution_count": 30,
   "metadata": {
    "collapsed": false
   },
   "outputs": [
    {
     "name": "stdout",
     "output_type": "stream",
     "text": [
      "酸民 0 2\n",
      "婉君 2 4\n",
      "也 4 5\n",
      "可以 5 7\n",
      "報名 7 9\n",
      "嗎 9 10\n",
      "? 10 11\n"
     ]
    }
   ],
   "source": [
    "words = jieba.tokenize(a)\n",
    "\n",
    "for tw in words:\n",
    "    print(tw[0], tw[1], tw[2])\n"
   ]
  },
  {
   "cell_type": "markdown",
   "metadata": {},
   "source": [
    "## n-gram"
   ]
  },
  {
   "cell_type": "code",
   "execution_count": 32,
   "metadata": {
    "collapsed": false
   },
   "outputs": [],
   "source": [
    "s = '那我們酸民婉君也可以報名嗎?'"
   ]
  },
  {
   "cell_type": "code",
   "execution_count": 33,
   "metadata": {
    "collapsed": false
   },
   "outputs": [
    {
     "data": {
      "text/plain": [
       "'那我'"
      ]
     },
     "execution_count": 33,
     "metadata": {},
     "output_type": "execute_result"
    }
   ],
   "source": [
    "s[0:2]"
   ]
  },
  {
   "cell_type": "code",
   "execution_count": 34,
   "metadata": {
    "collapsed": false
   },
   "outputs": [
    {
     "data": {
      "text/plain": [
       "'我們'"
      ]
     },
     "execution_count": 34,
     "metadata": {},
     "output_type": "execute_result"
    }
   ],
   "source": [
    "s[1:3]"
   ]
  },
  {
   "cell_type": "code",
   "execution_count": 35,
   "metadata": {
    "collapsed": false
   },
   "outputs": [
    {
     "data": {
      "text/plain": [
       "14"
      ]
     },
     "execution_count": 35,
     "metadata": {},
     "output_type": "execute_result"
    }
   ],
   "source": [
    "len(s)"
   ]
  },
  {
   "cell_type": "code",
   "execution_count": 37,
   "metadata": {
    "collapsed": false
   },
   "outputs": [
    {
     "name": "stdout",
     "output_type": "stream",
     "text": [
      "那我\n",
      "我們\n",
      "們酸\n",
      "酸民\n",
      "民婉\n",
      "婉君\n",
      "君也\n",
      "也可\n",
      "可以\n",
      "以報\n",
      "報名\n",
      "名嗎\n",
      "嗎?\n"
     ]
    }
   ],
   "source": [
    "for i in range(0,len(s) - 2 + 1):\n",
    "    print(s[i:i+2])"
   ]
  },
  {
   "cell_type": "code",
   "execution_count": 38,
   "metadata": {
    "collapsed": false
   },
   "outputs": [
    {
     "name": "stdout",
     "output_type": "stream",
     "text": [
      "那我們\n",
      "我們酸\n",
      "們酸民\n",
      "酸民婉\n",
      "民婉君\n",
      "婉君也\n",
      "君也可\n",
      "也可以\n",
      "可以報\n",
      "以報名\n",
      "報名嗎\n",
      "名嗎?\n"
     ]
    }
   ],
   "source": [
    "for i in range(0,len(s) - 3 + 1):\n",
    "    print(s[i:i+3])"
   ]
  },
  {
   "cell_type": "code",
   "execution_count": 45,
   "metadata": {
    "collapsed": true
   },
   "outputs": [],
   "source": [
    "def ngram(input_sentence,n=2):\n",
    "    ret = []\n",
    "    for i in range(0,len(input_sentence) - n + 1):\n",
    "        ret.append(input_sentence[i:i+n])\n",
    "    return ret"
   ]
  },
  {
   "cell_type": "code",
   "execution_count": 41,
   "metadata": {
    "collapsed": false
   },
   "outputs": [
    {
     "data": {
      "text/plain": [
       "['那我們',\n",
       " '我們酸',\n",
       " '們酸民',\n",
       " '酸民婉',\n",
       " '民婉君',\n",
       " '婉君也',\n",
       " '君也可',\n",
       " '也可以',\n",
       " '可以報',\n",
       " '以報名',\n",
       " '報名嗎',\n",
       " '名嗎?']"
      ]
     },
     "execution_count": 41,
     "metadata": {},
     "output_type": "execute_result"
    }
   ],
   "source": [
    "ngram(s,n=3)"
   ]
  },
  {
   "cell_type": "code",
   "execution_count": 42,
   "metadata": {
    "collapsed": true
   },
   "outputs": [],
   "source": [
    "news = '''\n",
    "鹽水蜂炮今天上午8時在鹽水武廟舉行啟炮儀式，展開為期兩天兩夜的熱鬧慶典。在儀式結束後，三座炮城震撼出場，數萬發蜂炮傾巢而出，吸引不少民眾圍觀，搶著體驗今年元宵第一轟，其中有名6歲男童也著全副武裝來迎炮，「去年就看過了，不會怕！」。\n",
    " \n",
    "台南市代理市長李孟諺今天代表主持啟炮儀式，與議長賴美惠等多位議員、市府官員向關聖帝君上香，兩架直升機載著鞭炮升空，炮聲響徹雲霄，象徵鹽水蜂炮民俗正式展開。李孟諺說，北天燈、南蜂炮，不只是台灣著名民俗，更被評為全球十大慶典之一，保證讓人終身難忘的體驗，歡迎遊客到訪。\n",
    " \n",
    "儀式結束後，武廟神轎隊伍出動繞境，小小兵、機車等三座造型炮城盤據路口，三、四十名遊客戴上安全帽、穿厚外套等全副武裝，站在巨炮城1公尺遠，高空煙火燃放後，蜂炮咻咻聲不絕於耳，令遊客讚說:「很刺激！不虛此行，越炸越旺」。\n",
    " \n",
    "武廟指出，轎群今天主要繞行鹽水郊區一帶，大型炮城則集中在北門社區、土庫里一帶，從天亮炸到天黑，呼籲遊客一定要穿著完整防護裝備。（王志弘／台南報導）\n",
    "'''"
   ]
  },
  {
   "cell_type": "markdown",
   "metadata": {},
   "source": [
    "## 使用字典統計詞頻"
   ]
  },
  {
   "cell_type": "code",
   "execution_count": 48,
   "metadata": {
    "collapsed": false
   },
   "outputs": [],
   "source": [
    "words = ngram(news,2 )\n",
    "\n",
    "dic = {}\n",
    "for w in words:\n",
    "    if w not in dic:\n",
    "        dic[w] = 1\n",
    "    else:\n",
    "        dic[w] = dic[w] + 1\n",
    "#dic"
   ]
  },
  {
   "cell_type": "code",
   "execution_count": 55,
   "metadata": {
    "collapsed": false
   },
   "outputs": [
    {
     "name": "stdout",
     "output_type": "stream",
     "text": [
      "蜂炮 5\n",
      "鹽水 4\n",
      "儀式 4\n",
      "炮城 4\n",
      "遊客 4\n"
     ]
    }
   ],
   "source": [
    "import operator\n",
    "swd = sorted(dic.items(), key = operator.itemgetter(1), reverse = True)\n",
    "for word, cnt in swd:\n",
    "    if cnt >= 4:\n",
    "        print(word, cnt)"
   ]
  },
  {
   "cell_type": "markdown",
   "metadata": {},
   "source": [
    "## 使用Counter 統計詞頻"
   ]
  },
  {
   "cell_type": "code",
   "execution_count": 58,
   "metadata": {
    "collapsed": false
   },
   "outputs": [
    {
     "data": {
      "text/plain": [
       "[('蜂炮', 5), ('鹽水', 4), ('儀式', 4), ('炮城', 4), ('遊客', 4)]"
      ]
     },
     "execution_count": 58,
     "metadata": {},
     "output_type": "execute_result"
    }
   ],
   "source": [
    "from collections import Counter\n",
    "words = ngram(news,2)\n",
    "c = Counter(words)\n",
    "c.most_common(5)"
   ]
  },
  {
   "cell_type": "code",
   "execution_count": 59,
   "metadata": {
    "collapsed": false
   },
   "outputs": [
    {
     "data": {
      "text/plain": [
       "[('。\\n ', 3), ('\\n \\n', 3), ('鹽水蜂', 2), ('水蜂炮', 2), ('啟炮儀', 2)]"
      ]
     },
     "execution_count": 59,
     "metadata": {},
     "output_type": "execute_result"
    }
   ],
   "source": [
    "from collections import Counter\n",
    "words = ngram(news,3)\n",
    "c = Counter(words)\n",
    "c.most_common(5)"
   ]
  },
  {
   "cell_type": "code",
   "execution_count": 60,
   "metadata": {
    "collapsed": false
   },
   "outputs": [
    {
     "data": {
      "text/plain": [
       "[('。\\n \\n', 3), ('鹽水蜂炮', 2), ('啟炮儀式', 2), ('炮儀式，', 2), ('儀式結束', 2)]"
      ]
     },
     "execution_count": 60,
     "metadata": {},
     "output_type": "execute_result"
    }
   ],
   "source": [
    "from collections import Counter\n",
    "words = ngram(news,4)\n",
    "c = Counter(words)\n",
    "c.most_common(5)"
   ]
  },
  {
   "cell_type": "code",
   "execution_count": 65,
   "metadata": {
    "collapsed": false
   },
   "outputs": [
    {
     "name": "stdout",
     "output_type": "stream",
     "text": [
      "虛擬貨幣\n",
      "比特幣期貨\n",
      "要來了\n",
      "美國監管機構美國商品期貨交易委員會\n",
      "CFTC\n",
      "一日宣布將放行比特幣期貨\n",
      "允許芝加哥商品交易所\n",
      "CME\n",
      "和芝加哥選擇權交易所\n",
      "CBOE\n",
      "推出相關期貨合約\n",
      "因為兩交易所已證明擬推出的合約和交易安全符合必要的監管規定\n",
      "這成為推動主流投資人買賣此價格高度波動的數位貨幣的重大一步\n",
      "\n"
     ]
    }
   ],
   "source": [
    "import re\n",
    "delimiter = \"，|。|、|\\(|\\)|！|（|）|「|」|；\"  \n",
    "text = '虛擬貨幣「比特幣期貨」要來了！美國監管機構美國商品期貨交易委員會（CFTC）一日宣布將放行比特幣期貨，允許芝加哥商品交易所（CME）和芝加哥選擇權交易所（CBOE）推出相關期貨合約，因為兩交易所已證明擬推出的合約和交易安全符合必要的監管規定；這成為推動主流投資人買賣此價格高度波動的數位貨幣的重大一步。'\n",
    "for i in re.split(delimiter, text):\n",
    "    print(i)\n"
   ]
  },
  {
   "cell_type": "code",
   "execution_count": 67,
   "metadata": {
    "collapsed": false
   },
   "outputs": [
    {
     "data": {
      "text/plain": [
       "'比特幣 美上市'"
      ]
     },
     "execution_count": 67,
     "metadata": {},
     "output_type": "execute_result"
    }
   ],
   "source": [
    "a = '比特幣期貨 美核准上市'\n",
    "a = a.replace('期貨', '')\n",
    "a.replace('核准', '')\n",
    "\n",
    "\n",
    "#removeKey(a, ['期貨', '核准'])"
   ]
  },
  {
   "cell_type": "code",
   "execution_count": 98,
   "metadata": {
    "collapsed": true
   },
   "outputs": [],
   "source": [
    "def removeKey(text, keywords):\n",
    "    ret = text\n",
    "    for word in keywords:\n",
    "        ret = ret.replace(word, '')\n",
    "    return ret"
   ]
  },
  {
   "cell_type": "code",
   "execution_count": 99,
   "metadata": {
    "collapsed": false
   },
   "outputs": [
    {
     "data": {
      "text/plain": [
       "'比特幣 美上市'"
      ]
     },
     "execution_count": 99,
     "metadata": {},
     "output_type": "execute_result"
    }
   ],
   "source": [
    "removeKey(a, ['期貨', '核准'])"
   ]
  },
  {
   "cell_type": "code",
   "execution_count": 103,
   "metadata": {
    "collapsed": true
   },
   "outputs": [],
   "source": [
    "news = '''\n",
    "央行總裁對於國家幣制之控管應有其專業與堅持。\n",
    "\n",
    "通貨膨脹與貨幣貶值息息相關，經濟的穩定開展與物價之是否波動，亦有關連，因此，穩定物價是經濟部的重要職責。過去在李國鼎當經濟部長時期，曾設立「物價督導會報」小組，掌握民生物質之物價趨於穩定。其次，對於「品質標示法」的執行，保證「貨品」的信用保證，以免冒牌貨充斥，造成假貨，影響民間信譽，確立了台灣經濟繁榮的基礎。\n",
    "\n",
    "茲因過去在中國法幣政策、金元券政策，造成貨幣貶值，失去人民的信任，造成通貨膨脹，致財經失策，敗退到台灣來，而在38年初期，台幣貶值曾以舊台幣四萬元換新台幣一元之惡夢，為挽救國家財政之敗壞，曾發行愛國債券、管制匯率等措施，漸至穩定貨幣價值，發展經濟，使得我國財經上軌道，由加工出口區開展帶動中小企業的發展，由農業社會漸致工業社會的雛型，成為亞洲四小龍，當時財經專家的努力，功不可沒！\n",
    "\n",
    "我國幣值的「購買力」遠比亞洲其他國家，如新加坡、韓國、印尼等還高，因此，各國民間的薪資高低並不以數額表面的高低而定，應著重在「購買力」為要。有些國家通貨膨脹，往往以印製鈔票應付需要，誠如過去非洲辛巴威通貨膨脹率於2003年為6%，到2008年為2億3千1百萬%，當時曾發行「一百億元」面額的鈔票造成國家經濟破產，實屬可悲！\n",
    "\n",
    "央行總裁彭淮南長達二十年的任期，捍衛其政策的堅持與強勢，縱然外界有人認為太過保守，但不能否認央行是最獲社會信任的單位。在亞洲金融危機及全球金融海嘯時，平安渡過風暴，對於新台弊匯率的掌握穩定，擇善固執，他為國奉獻，不愧為世界級的14A 總裁，令人敬佩！\n",
    "'''"
   ]
  },
  {
   "cell_type": "code",
   "execution_count": 104,
   "metadata": {
    "collapsed": false
   },
   "outputs": [],
   "source": [
    "import re\n",
    "delimiter = \"，|。|、|\\(|\\)|！|（|）|「|」|；|－\"  \n",
    "#text = '虛擬貨幣「比特幣期貨」要來了！美國監管機構美國商品期貨交易委員會（CFTC）一日宣布將放行比特幣期貨，允許芝加哥商品交易所（CME）和芝加哥選擇權交易所（CBOE）推出相關期貨合約，因為兩交易所已證明擬推出的合約和交易安全符合必要的監管規定；這成為推動主流投資人買賣此價格高度波動的數位貨幣的重大一步。'\n",
    "sentenceAry = [sentence for sentence in re.split(delimiter, news)]"
   ]
  },
  {
   "cell_type": "code",
   "execution_count": 106,
   "metadata": {
    "collapsed": false
   },
   "outputs": [
    {
     "name": "stdout",
     "output_type": "stream",
     "text": [
      "4 []\n",
      "3 ['通貨膨脹']\n",
      "2 ['通貨膨脹', '幣貶值']\n"
     ]
    },
    {
     "data": {
      "text/plain": [
       "['通貨膨脹',\n",
       " '幣貶值',\n",
       " '央行',\n",
       " '總裁',\n",
       " '對於',\n",
       " '國家',\n",
       " '\\n\\n',\n",
       " '經濟',\n",
       " '穩定',\n",
       " '物價',\n",
       " '過去',\n",
       " '造成',\n",
       " '政策',\n",
       " '財經',\n",
       " '社會',\n",
       " '亞洲']"
      ]
     },
     "execution_count": 106,
     "metadata": {},
     "output_type": "execute_result"
    }
   ],
   "source": [
    "keywords = [] \n",
    "for n in range(4,1, -1):\n",
    "    print(n, keywords)\n",
    "    words = []\n",
    "    for sentence in sentenceAry:\n",
    "        text_list = removeKey(sentence, keywords)\n",
    "        words.extend(ngram(text_list, n))\n",
    "        \n",
    "    c = Counter(words)\n",
    "    for word, cnt in c.items():\n",
    "        if cnt >= 3:\n",
    "            #print(word)\n",
    "            keywords.append(word)\n",
    "keywords"
   ]
  },
  {
   "cell_type": "code",
   "execution_count": 114,
   "metadata": {
    "collapsed": false
   },
   "outputs": [],
   "source": [
    "with open('userdict.txt', 'a', encoding='utf-8') as f:\n",
    "    for word in keywords:\n",
    "        if len(word.strip()) >= 2:\n",
    "            f.write(word.strip()+'\\n')"
   ]
  },
  {
   "cell_type": "markdown",
   "metadata": {},
   "source": [
    "## 擴增Google 關鍵字"
   ]
  },
  {
   "cell_type": "code",
   "execution_count": 137,
   "metadata": {
    "collapsed": false
   },
   "outputs": [
    {
     "name": "stdout",
     "output_type": "stream",
     "text": [
      "梵印烘焙\n",
      "佐佐木希\n",
      "翻牆的記憶\n",
      "=======================\n",
      "紅雀\n",
      "228\n",
      "228紀念日\n",
      "趙岱新\n",
      "侯友宜\n",
      "Zenfone 5\n",
      "達美樂\n",
      "蔡依林\n",
      "228事件\n",
      "Gfriend\n",
      "紅雀 電影\n",
      "華春瑩\n",
      "吳品萱\n",
      "柯以柔\n",
      "安以軒\n",
      "周宜霈\n",
      "將星之演武\n",
      "蔣介石\n",
      "李登輝\n",
      "喜歡你\n",
      "=======================\n"
     ]
    }
   ],
   "source": [
    "import requests\n",
    "payload = {\n",
    "'ajax':'1',\n",
    "'pn':'p12',\n",
    "'htv':'l'   \n",
    "}\n",
    "\n",
    "res = requests.post('https://trends.google.com.tw/trends/hottrends/hotItems', data = payload)\n",
    "for jd in res.json()['trendsByDateList']:\n",
    "    for ele in jd.get('trendsList'):\n",
    "        print(ele.get('title'))\n",
    "    print('=======================')"
   ]
  },
  {
   "cell_type": "markdown",
   "metadata": {},
   "source": [
    "## 抓取新聞關鍵字"
   ]
  },
  {
   "cell_type": "code",
   "execution_count": 139,
   "metadata": {
    "collapsed": false
   },
   "outputs": [],
   "source": [
    "import requests\n",
    "from bs4 import BeautifulSoup\n",
    "res = requests.get('http://news.ltn.com.tw/news/politics/breakingnews/2352557')\n",
    "soup = BeautifulSoup(res.text,'lxml')"
   ]
  },
  {
   "cell_type": "code",
   "execution_count": 141,
   "metadata": {
    "collapsed": false
   },
   "outputs": [
    {
     "data": {
      "text/plain": [
       "['照服員', '薪資', '長照', '長照支付新制']"
      ]
     },
     "execution_count": 141,
     "metadata": {},
     "output_type": "execute_result"
    }
   ],
   "source": [
    "[w.text for w in soup.select('.keyword a')]"
   ]
  },
  {
   "cell_type": "markdown",
   "metadata": {},
   "source": [
    "## 計算詞頻"
   ]
  },
  {
   "cell_type": "code",
   "execution_count": 154,
   "metadata": {
    "collapsed": true
   },
   "outputs": [],
   "source": [
    "news = '''\n",
    "\n",
    "近年當紅的電動機車GOGORO銷量頗佳，今台北市議員王威中舉行記者會，控訴去年才發行的GOGORO 2（plus）二代車款疑設計不良，包括發動後龍頭鎖死意外摔車、淋雨過後車輛無法發動及許多按鈕無故開開關關等問題，去年花7萬9800元買GOGORO二代車的林先生今也現身說法，原本很期待買這款車，未料下雨後常發生問題，甚至在騎乘途中按鈕出現異常，不時喇叭猛響或拼命閃燈，讓他很傻眼。\n",
    " \n",
    "王威中說，去年發售的GOGORO二代銷量至少2萬台以上，但許多車主不久就發現有龍頭鎖死問題，儘管製造商睿能公司有召回特定期間生產的車輛，更換成新版龍頭鎖後，新版的車主依舊有龍頭解鎖異常情形，另許多網友也反映，除龍頭解鎖異常，甚至車燈亮度、車輛防水及散熱設計不良情形，足以影響行車安全，業者不能把這些問題當成個案，置車主生命安危而不顧，要求對消費者有補償措施。\n",
    " \n",
    "車者林先生也指，GOGORO二代理應比一代更好，但買車後發現除了龍頭鎖死及其他問題，還有其他車主發現競速按鈕會突然打開，形成暴衝，對騎乘者實在很危險。對此，北市主任消保官何修蘭說，自105年接獲2件申訴、去年至今接獲13件消費爭議，若是車輛設計瑕疵恐影響安全，可依消保法進行行政調查，將會請業者到府說明，並交結果送交車輛主責機關交通部認定。倘若是車輛確實為設計不良，交通部可要求改善，若業者不願配合將面臨3萬以上、30萬以下罰鍰。另若認定車輛設計瑕疵導致民眾損害，廠商也要負損害賠償責任。\n",
    "\n",
    "GOGORO行銷總監陳彥揚回應，該廠車輛都符合交通部審核，符合安全規定，二代龍頭鎖召回目前進度已9成，並向車主宣導騎車前先進行龍頭四步驟檢查，此外，車子出廠前都有防水測試，車主若發現有任何問題，都可回原廠檢查，另會配合消保官調查。（林媛玲／台北報導）\n",
    "'''"
   ]
  },
  {
   "cell_type": "code",
   "execution_count": 155,
   "metadata": {
    "collapsed": false
   },
   "outputs": [],
   "source": [
    "import jieba\n",
    "from collections import Counter\n",
    "words = list(jieba.cut(news))\n",
    "c = Counter(words)"
   ]
  },
  {
   "cell_type": "code",
   "execution_count": 156,
   "metadata": {
    "collapsed": false
   },
   "outputs": [
    {
     "data": {
      "text/plain": [
       "2"
      ]
     },
     "execution_count": 156,
     "metadata": {},
     "output_type": "execute_result"
    }
   ],
   "source": [
    "a,b = (1,2)\n",
    "b"
   ]
  },
  {
   "cell_type": "code",
   "execution_count": 160,
   "metadata": {
    "collapsed": false
   },
   "outputs": [
    {
     "name": "stdout",
     "output_type": "stream",
     "text": [
      "車輛 7\n",
      "問題 6\n",
      "設計 5\n",
      "去年 4\n",
      "二代 4\n",
      "車主 4\n",
      "龍頭鎖 4\n",
      "不良 3\n",
      "異常 3\n",
      "發現 3\n",
      "安全 3\n",
      "交通部 3\n",
      "銷量 2\n",
      "王威 2\n",
      "許多 2\n",
      "林先生 2\n",
      "甚至 2\n",
      "以上 2\n",
      "召回 2\n",
      "新版 2\n",
      "解鎖 2\n",
      "情形 2\n",
      "防水 2\n",
      "要求 2\n",
      "接獲 2\n",
      "瑕疵 2\n",
      "進行 2\n",
      "調查 2\n",
      "認定 2\n",
      "配合 2\n",
      "符合 2\n"
     ]
    }
   ],
   "source": [
    "for word, cnt in c.most_common(100):\n",
    "    if len(word) >= 2 and cnt >= 2 and re.match('^[\\u4e00-\\u9fa5]+$', word):\n",
    "        print(word, cnt)"
   ]
  },
  {
   "cell_type": "markdown",
   "metadata": {},
   "source": [
    "## 計算tf-idf"
   ]
  },
  {
   "cell_type": "code",
   "execution_count": 161,
   "metadata": {
    "collapsed": true
   },
   "outputs": [],
   "source": [
    "a, abb, abc = ['a'], ['a', 'b', 'b'], ['a', 'b', 'c']\n",
    "D = [a, abb, abc]"
   ]
  },
  {
   "cell_type": "code",
   "execution_count": 166,
   "metadata": {
    "collapsed": false
   },
   "outputs": [
    {
     "name": "stdout",
     "output_type": "stream",
     "text": [
      "tfidf('a', a, D) : 0.0\n",
      "tfidf('a', abb, D) : 0.0\n",
      "tfidf('a', abc, D) : 0.0\n"
     ]
    }
   ],
   "source": [
    "import scipy as sp\n",
    "\n",
    "#tfidf('a', a, D):\n",
    "tf  = 1/1\n",
    "idf = sp.log(3 / 3)\n",
    "print(\"tfidf('a', a, D) :\",tf * idf)\n",
    "\n",
    "#tfidf('a', abb, D):\n",
    "tf  = 1/3\n",
    "idf = sp.log(3 / 3)\n",
    "print(\"tfidf('a', abb, D) :\",tf * idf)\n",
    "\n",
    "#tfidf('a', abc, D):\n",
    "tf  = 1/3\n",
    "idf = sp.log(3 / 3)\n",
    "print(\"tfidf('a', abc, D) :\",tf * idf)"
   ]
  },
  {
   "cell_type": "code",
   "execution_count": 168,
   "metadata": {
    "collapsed": false
   },
   "outputs": [
    {
     "name": "stdout",
     "output_type": "stream",
     "text": [
      "tfidf('b', abb, D) : 0.270310072072\n",
      "tfidf('b', abc, D) : 0.135155036036\n"
     ]
    }
   ],
   "source": [
    "#tfidf('b', abb, D):\n",
    "tf  = 2/3\n",
    "idf = sp.log(3 / 2)\n",
    "print(\"tfidf('b', abb, D) :\",tf * idf)\n",
    "\n",
    "#tfidf('b', abc, D):\n",
    "tf  = 1/3\n",
    "idf = sp.log(3 / 2)\n",
    "print(\"tfidf('b', abc, D) :\",tf * idf)"
   ]
  },
  {
   "cell_type": "code",
   "execution_count": 169,
   "metadata": {
    "collapsed": false
   },
   "outputs": [
    {
     "name": "stdout",
     "output_type": "stream",
     "text": [
      "tfidf('c', abc, D) : 0.366204096223\n"
     ]
    }
   ],
   "source": [
    "#tfidf('c', abc, D):\n",
    "tf  = 1/3\n",
    "idf = sp.log(3 / 1)\n",
    "print(\"tfidf('c', abc, D) :\",tf * idf)"
   ]
  },
  {
   "cell_type": "code",
   "execution_count": 170,
   "metadata": {
    "collapsed": true
   },
   "outputs": [],
   "source": [
    "def tfidf(t, d, D):\n",
    "    tf  = d.count(t) / len(d)\n",
    "    idf = sp.log(len(D) / len([doc for doc in D if t in doc]) ) \n",
    "    return tf * idf"
   ]
  },
  {
   "cell_type": "code",
   "execution_count": 171,
   "metadata": {
    "collapsed": false
   },
   "outputs": [
    {
     "name": "stdout",
     "output_type": "stream",
     "text": [
      "0.0\n",
      "0.0\n",
      "0.0\n"
     ]
    }
   ],
   "source": [
    "print(tfidf('a', a, D))\n",
    "print(tfidf('a', abb, D))\n",
    "print(tfidf('a', abc, D))"
   ]
  },
  {
   "cell_type": "code",
   "execution_count": 172,
   "metadata": {
    "collapsed": false
   },
   "outputs": [
    {
     "name": "stdout",
     "output_type": "stream",
     "text": [
      "0.270310072072\n",
      "0.135155036036\n"
     ]
    }
   ],
   "source": [
    "print(tfidf('b', abb, D))\n",
    "print(tfidf('b', abc, D))"
   ]
  },
  {
   "cell_type": "code",
   "execution_count": 173,
   "metadata": {
    "collapsed": false
   },
   "outputs": [
    {
     "name": "stdout",
     "output_type": "stream",
     "text": [
      "0.366204096223\n"
     ]
    }
   ],
   "source": [
    "print(tfidf('c', abc, D))"
   ]
  },
  {
   "cell_type": "code",
   "execution_count": 175,
   "metadata": {
    "collapsed": false
   },
   "outputs": [
    {
     "name": "stdout",
     "output_type": "stream",
     "text": [
      "['酸民']\n"
     ]
    }
   ],
   "source": [
    "from jieba import analyse\n",
    "tags = analyse.extract_tags('酸民婉君也可以報名嗎?', 1)\n",
    "print(list(tags))"
   ]
  },
  {
   "cell_type": "markdown",
   "metadata": {},
   "source": [
    "## 詞頻矩陣"
   ]
  },
  {
   "cell_type": "code",
   "execution_count": null,
   "metadata": {
    "collapsed": true
   },
   "outputs": [],
   "source": [
    "import jieba\n",
    "ary = ['富邦人壽首創保費1萬就能刷卡',\n",
    "       '富邦人壽不老勇士Go來盃3對3籃賽南北開打',\n",
    "       '富邦人壽不老勇士Go來盃開打']\n",
    "\n",
    "#   富邦 人壽 首創 保費\n",
    "#0   1    1    1   1\n",
    "#1   1    1    0   0\n",
    "#2   1    1    0   0"
   ]
  },
  {
   "cell_type": "code",
   "execution_count": 179,
   "metadata": {
    "collapsed": false
   },
   "outputs": [
    {
     "name": "stdout",
     "output_type": "stream",
     "text": [
      "['book', 'car', 'is', 'my', 'this']\n"
     ]
    },
    {
     "data": {
      "text/plain": [
       "array([[1, 0, 1, 0, 1],\n",
       "       [0, 1, 1, 1, 1]], dtype=int64)"
      ]
     },
     "execution_count": 179,
     "metadata": {},
     "output_type": "execute_result"
    }
   ],
   "source": [
    "from sklearn.feature_extraction.text import CountVectorizer\n",
    "\n",
    "a = 'this is a book'\n",
    "b = 'this is my car'\n",
    "\n",
    "vectorizer = CountVectorizer()\n",
    "x = vectorizer.fit_transform([a, b])\n",
    "print(vectorizer.get_feature_names())\n",
    "x.toarray()"
   ]
  },
  {
   "cell_type": "code",
   "execution_count": 190,
   "metadata": {
    "collapsed": true
   },
   "outputs": [],
   "source": [
    "jieba.load_userdict('userdict.txt')\n",
    "\n",
    "ary = ['富邦人壽首創保費1萬就能刷卡',\n",
    "       '富邦人壽不老勇士Go來盃3對3籃賽南北開打',\n",
    "       '富邦人壽不老勇士Go來盃開打']\n",
    "\n",
    "corpus = []\n",
    "for title in ary:\n",
    "    corpus.append(' '.join(jieba.cut(title)))"
   ]
  },
  {
   "cell_type": "code",
   "execution_count": 191,
   "metadata": {
    "collapsed": false
   },
   "outputs": [
    {
     "data": {
      "text/plain": [
       "['富邦 人壽 首創 保費 1 萬 就 能 刷卡',\n",
       " '富邦 人壽 不老 勇士 Go來盃 3 對 3 籃賽 南北 開打',\n",
       " '富邦 人壽 不老 勇士 Go來盃 開打']"
      ]
     },
     "execution_count": 191,
     "metadata": {},
     "output_type": "execute_result"
    }
   ],
   "source": [
    "corpus"
   ]
  },
  {
   "cell_type": "code",
   "execution_count": 192,
   "metadata": {
    "collapsed": false
   },
   "outputs": [
    {
     "name": "stdout",
     "output_type": "stream",
     "text": [
      "['go來盃', '不老', '人壽', '保費', '刷卡', '勇士', '南北', '富邦', '籃賽', '開打', '首創']\n"
     ]
    },
    {
     "data": {
      "text/plain": [
       "array([[0, 0, 1, 1, 1, 0, 0, 1, 0, 0, 1],\n",
       "       [1, 1, 1, 0, 0, 1, 1, 1, 1, 1, 0],\n",
       "       [1, 1, 1, 0, 0, 1, 0, 1, 0, 1, 0]], dtype=int64)"
      ]
     },
     "execution_count": 192,
     "metadata": {},
     "output_type": "execute_result"
    }
   ],
   "source": [
    "vectorizer = CountVectorizer()\n",
    "x = vectorizer.fit_transform(corpus)\n",
    "print(vectorizer.get_feature_names())\n",
    "x.toarray()"
   ]
  },
  {
   "cell_type": "code",
   "execution_count": 194,
   "metadata": {
    "collapsed": false
   },
   "outputs": [
    {
     "name": "stdout",
     "output_type": "stream",
     "text": [
      "['go來盃', '不老', '人壽', '保費', '刷卡', '勇士', '南北', '富邦', '籃賽', '開打', '首創']\n"
     ]
    },
    {
     "data": {
      "text/plain": [
       "array([[ 0.        ,  0.        ,  0.30714405,  0.52004008,  0.52004008,\n",
       "         0.        ,  0.        ,  0.30714405,  0.        ,  0.        ,\n",
       "         0.52004008],\n",
       "       [ 0.33973539,  0.33973539,  0.26383484,  0.        ,  0.        ,\n",
       "         0.33973539,  0.44671121,  0.26383484,  0.44671121,  0.33973539,\n",
       "         0.        ],\n",
       "       [ 0.43826859,  0.43826859,  0.34035465,  0.        ,  0.        ,\n",
       "         0.43826859,  0.        ,  0.34035465,  0.        ,  0.43826859,\n",
       "         0.        ]])"
      ]
     },
     "execution_count": 194,
     "metadata": {},
     "output_type": "execute_result"
    }
   ],
   "source": [
    "from sklearn.feature_extraction.text import TfidfVectorizer\n",
    "vectorizer = TfidfVectorizer()\n",
    "x = vectorizer.fit_transform(corpus)\n",
    "print(vectorizer.get_feature_names())\n",
    "x.toarray()"
   ]
  },
  {
   "cell_type": "code",
   "execution_count": 197,
   "metadata": {
    "collapsed": true
   },
   "outputs": [],
   "source": [
    "ary = ['柯文哲因為遠雄一事找趙藤雄算帳',\n",
    "      '柯文哲因為大巨蛋工安問題槓上趙藤雄',\n",
    "      '根據報導, 柯文哲長期不滿巨蛋工安一事, 因此一狀告上法院, 為了該問題槓上趙藤雄']\n",
    "\n",
    "# 柯文哲 遠雄 趙藤雄 算帳\n",
    "# 柯文哲 大巨蛋 工安 槓上 趙藤雄\n",
    "# 柯文哲 報導 大巨蛋 工安 槓上 法院 趙藤雄"
   ]
  },
  {
   "cell_type": "code",
   "execution_count": 204,
   "metadata": {
    "collapsed": true
   },
   "outputs": [],
   "source": [
    "jieba.add_word('柯文哲')\n",
    "jieba.add_word('趙藤雄')\n",
    "jieba.add_word('大巨蛋')\n",
    "jieba.add_word('長期')\n",
    "jieba.add_word('一狀')\n",
    "corpus = []\n",
    "for title in ary:\n",
    "    corpus.append(' '.join(jieba.cut(title)))"
   ]
  },
  {
   "cell_type": "code",
   "execution_count": 205,
   "metadata": {
    "collapsed": false
   },
   "outputs": [
    {
     "name": "stdout",
     "output_type": "stream",
     "text": [
      "['一事', '一狀', '不滿', '告上', '問題', '因此', '因為', '報導', '大巨蛋', '工安', '工案', '巨蛋', '柯文哲', '根據', '槓上', '法院', '算帳', '趙藤雄', '遠雄', '長期']\n"
     ]
    },
    {
     "data": {
      "text/plain": [
       "array([[1, 0, 0, 0, 0, 0, 1, 0, 0, 0, 0, 0, 1, 0, 0, 0, 1, 1, 1, 0],\n",
       "       [0, 0, 0, 0, 1, 0, 1, 0, 1, 1, 0, 0, 1, 0, 1, 0, 0, 1, 0, 0],\n",
       "       [1, 1, 1, 1, 1, 1, 0, 1, 0, 0, 1, 1, 1, 1, 1, 1, 0, 1, 0, 1]], dtype=int64)"
      ]
     },
     "execution_count": 205,
     "metadata": {},
     "output_type": "execute_result"
    }
   ],
   "source": [
    "vectorizer = CountVectorizer()\n",
    "x = vectorizer.fit_transform(corpus)\n",
    "print(vectorizer.get_feature_names())\n",
    "x.toarray()"
   ]
  },
  {
   "cell_type": "code",
   "execution_count": 215,
   "metadata": {
    "collapsed": false
   },
   "outputs": [
    {
     "data": {
      "text/plain": [
       "2.6457513110645907"
      ]
     },
     "execution_count": 215,
     "metadata": {},
     "output_type": "execute_result"
    }
   ],
   "source": [
    "# 句子 1 與 2\n",
    "y = (x[0].toarray() - x[1].toarray()).flatten()\n",
    "sum(y ** 2) ** (1/2)"
   ]
  },
  {
   "cell_type": "code",
   "execution_count": 217,
   "metadata": {
    "collapsed": false
   },
   "outputs": [
    {
     "data": {
      "text/plain": [
       "3.7416573867739413"
      ]
     },
     "execution_count": 217,
     "metadata": {},
     "output_type": "execute_result"
    }
   ],
   "source": [
    "# 句子 2 與 3\n",
    "y = (x[1].toarray() - x[2].toarray()).flatten()\n",
    "sum(y ** 2) ** (1/2)"
   ]
  },
  {
   "cell_type": "code",
   "execution_count": 219,
   "metadata": {
    "collapsed": false
   },
   "outputs": [
    {
     "data": {
      "text/plain": [
       "array([[ 1.        ,  0.46291005,  0.31622777],\n",
       "       [ 0.46291005,  1.        ,  0.39036003],\n",
       "       [ 0.31622777,  0.39036003,  1.        ]])"
      ]
     },
     "execution_count": 219,
     "metadata": {},
     "output_type": "execute_result"
    }
   ],
   "source": [
    "from sklearn.metrics.pairwise import cosine_similarity\n",
    "cs = cosine_similarity(x.toarray())\n",
    "cs"
   ]
  },
  {
   "cell_type": "code",
   "execution_count": 221,
   "metadata": {
    "collapsed": false
   },
   "outputs": [
    {
     "data": {
      "text/plain": [
       "array([[ 1.        ,  0.30870669,  0.18433267],\n",
       "       [ 0.30870669,  1.        ,  0.24979798],\n",
       "       [ 0.18433267,  0.24979798,  1.        ]])"
      ]
     },
     "execution_count": 221,
     "metadata": {},
     "output_type": "execute_result"
    }
   ],
   "source": [
    "vectorizer = TfidfVectorizer()\n",
    "x = vectorizer.fit_transform(corpus)\n",
    "x.toarray()\n",
    "\n",
    "cs = cosine_similarity(x.toarray())\n",
    "cs"
   ]
  },
  {
   "cell_type": "markdown",
   "metadata": {},
   "source": [
    "## 新聞相似度分析"
   ]
  },
  {
   "cell_type": "code",
   "execution_count": 222,
   "metadata": {
    "collapsed": true
   },
   "outputs": [],
   "source": [
    "import pandas\n",
    "news = pandas.read_excel('https://raw.githubusercontent.com/ywchiu/fubonpy/master/data/news.xlsx')"
   ]
  },
  {
   "cell_type": "code",
   "execution_count": 271,
   "metadata": {
    "collapsed": false
   },
   "outputs": [],
   "source": [
    "jieba.add_word('寒流')\n",
    "titles = []\n",
    "corpus = []\n",
    "for rec in news.iterrows():\n",
    "    titles.append(rec[1]['title'])\n",
    "    corpus.append(' '.join(jieba.cut(rec[1]['title'])))"
   ]
  },
  {
   "cell_type": "code",
   "execution_count": 272,
   "metadata": {
    "collapsed": false
   },
   "outputs": [
    {
     "data": {
      "text/plain": [
       "<270x1591 sparse matrix of type '<class 'numpy.float64'>'\n",
       "\twith 1904 stored elements in Compressed Sparse Row format>"
      ]
     },
     "execution_count": 272,
     "metadata": {},
     "output_type": "execute_result"
    }
   ],
   "source": [
    "from sklearn.feature_extraction.text import TfidfVectorizer, CountVectorizer\n",
    "vectorizer = TfidfVectorizer()\n",
    "x = vectorizer.fit_transform(corpus)\n",
    "x"
   ]
  },
  {
   "cell_type": "code",
   "execution_count": 273,
   "metadata": {
    "collapsed": false
   },
   "outputs": [
    {
     "data": {
      "text/plain": [
       "array([[ 1.,  0.,  0., ...,  0.,  0.,  0.],\n",
       "       [ 0.,  1.,  0., ...,  0.,  0.,  0.],\n",
       "       [ 0.,  0.,  1., ...,  0.,  0.,  0.],\n",
       "       ..., \n",
       "       [ 0.,  0.,  0., ...,  1.,  0.,  0.],\n",
       "       [ 0.,  0.,  0., ...,  0.,  1.,  0.],\n",
       "       [ 0.,  0.,  0., ...,  0.,  0.,  1.]])"
      ]
     },
     "execution_count": 273,
     "metadata": {},
     "output_type": "execute_result"
    }
   ],
   "source": [
    "from sklearn.metrics.pairwise import cosine_similarity\n",
    "cs = cosine_similarity(x)\n",
    "cs"
   ]
  },
  {
   "cell_type": "code",
   "execution_count": 274,
   "metadata": {
    "collapsed": false
   },
   "outputs": [
    {
     "data": {
      "text/plain": [
       "'\\u200b寒流侵襲\\u3000瑞芳公所贈獨居老人毛毯外套'"
      ]
     },
     "execution_count": 274,
     "metadata": {},
     "output_type": "execute_result"
    }
   ],
   "source": [
    "titles[8]"
   ]
  },
  {
   "cell_type": "code",
   "execution_count": 279,
   "metadata": {
    "collapsed": false
   },
   "outputs": [],
   "source": [
    "def getSimiliarArticle(idx):\n",
    "    print('查詢文章: ', titles[idx])\n",
    "    pos = cs[idx,].argsort()[::-1]\n",
    "    for ele in pos[1:]:\n",
    "        if cs[idx, ele] >= 0.05:\n",
    "            print('相關文章: ', titles[ele], cs[idx,ele])"
   ]
  },
  {
   "cell_type": "code",
   "execution_count": 282,
   "metadata": {
    "collapsed": false
   },
   "outputs": [
    {
     "name": "stdout",
     "output_type": "stream",
     "text": [
      "查詢文章:  宏碁電競跨界推65吋顯示器\n",
      "相關文章:  宏碁華碩推AMD Ryzen電競筆電 0.313316380133\n",
      "相關文章:  【宏碁大漲】董座陳俊聖8度買股　獲利已逾58% 0.141435347165\n",
      "相關文章:  【宏碁大漲】董座陳俊聖8度買股　獲利已逾58% 0.141435347165\n",
      "相關文章:  宏碁飆漲8%創波段新高　CES發表3筆電 0.129756630574\n"
     ]
    }
   ],
   "source": [
    "getSimiliarArticle(5)"
   ]
  },
  {
   "cell_type": "code",
   "execution_count": 239,
   "metadata": {
    "collapsed": false
   },
   "outputs": [
    {
     "data": {
      "text/plain": [
       "array([3, 2, 5, 4, 0, 1], dtype=int64)"
      ]
     },
     "execution_count": 239,
     "metadata": {},
     "output_type": "execute_result"
    }
   ],
   "source": [
    "import numpy\n",
    "na = numpy.array([2,1,5,7,3,4])\n",
    "#na.sort()\n",
    "#na\n",
    "na.argsort()[::-1]"
   ]
  },
  {
   "cell_type": "markdown",
   "metadata": {},
   "source": [
    "## 自動問答機器人"
   ]
  },
  {
   "cell_type": "code",
   "execution_count": 283,
   "metadata": {
    "collapsed": true
   },
   "outputs": [],
   "source": [
    "import requests\n",
    "from bs4 import BeautifulSoup\n",
    "res = requests.get('https://www.fubon.com/banking/FAQ_Data//faq/index_data/faqData1.xml')\n",
    "soup = BeautifulSoup(res.text, 'lxml')"
   ]
  },
  {
   "cell_type": "code",
   "execution_count": 295,
   "metadata": {
    "collapsed": false
   },
   "outputs": [],
   "source": [
    "qa_ary = []\n",
    "for item in soup.select('item'):\n",
    "    qa = {}\n",
    "    qa['question'] = item.select_one('title').text\n",
    "    desc  = item.select_one('description').text\n",
    "    soup2 = BeautifulSoup(desc, 'lxml')\n",
    "    qa['answer'] = soup2.text\n",
    "    qa_ary.append(qa)\n",
    "    "
   ]
  },
  {
   "cell_type": "code",
   "execution_count": 297,
   "metadata": {
    "collapsed": false
   },
   "outputs": [],
   "source": [
    "qa_df = pandas.DataFrame(qa_ary)\n",
    "qa_df.to_excel('fubon_qa.xlsx')\n",
    "#qa_df"
   ]
  },
  {
   "cell_type": "code",
   "execution_count": 298,
   "metadata": {
    "collapsed": true
   },
   "outputs": [],
   "source": [
    "import pandas\n",
    "fubonqa = pandas.read_excel('fubon_qa.xlsx')"
   ]
  },
  {
   "cell_type": "code",
   "execution_count": 321,
   "metadata": {
    "collapsed": true
   },
   "outputs": [],
   "source": [
    "q = '請問手機掉了, 該怎麼辦'"
   ]
  },
  {
   "cell_type": "code",
   "execution_count": 322,
   "metadata": {
    "collapsed": false
   },
   "outputs": [],
   "source": [
    "corpus  = [' '.join(jieba.cut(q))]\n",
    "questions = [q]\n",
    "answers = ['DUMMY']\n",
    "for rec in fubonqa.iterrows():\n",
    "    corpus.append(' '.join(jieba.cut(rec[1]['question'])))\n",
    "    answers.append(rec[1]['answer'])\n",
    "    questions.append(rec[1]['question'])"
   ]
  },
  {
   "cell_type": "code",
   "execution_count": 323,
   "metadata": {
    "collapsed": false
   },
   "outputs": [
    {
     "data": {
      "text/plain": [
       "<226x629 sparse matrix of type '<class 'numpy.float64'>'\n",
       "\twith 1855 stored elements in Compressed Sparse Row format>"
      ]
     },
     "execution_count": 323,
     "metadata": {},
     "output_type": "execute_result"
    }
   ],
   "source": [
    "from sklearn.feature_extraction.text import TfidfVectorizer, CountVectorizer\n",
    "vectorizer = TfidfVectorizer()\n",
    "x = vectorizer.fit_transform(corpus)\n",
    "x"
   ]
  },
  {
   "cell_type": "code",
   "execution_count": 324,
   "metadata": {
    "collapsed": false
   },
   "outputs": [],
   "source": [
    "#print(vectorizer.get_feature_names())"
   ]
  },
  {
   "cell_type": "code",
   "execution_count": 327,
   "metadata": {
    "collapsed": false
   },
   "outputs": [
    {
     "data": {
      "text/plain": [
       "'請您立即致電本行進行卡片掛失，以保障您的卡片安全。'"
      ]
     },
     "execution_count": 327,
     "metadata": {},
     "output_type": "execute_result"
    }
   ],
   "source": [
    "from sklearn.metrics.pairwise import cosine_similarity\n",
    "cs = cosine_similarity(x[0],x)\n",
    "pos = cs[0].argsort()[::-1][1:]\n",
    "pos[0]\n",
    "answers[pos[0]]\n",
    "#questions[pos[0]]"
   ]
  },
  {
   "cell_type": "code",
   "execution_count": 336,
   "metadata": {
    "collapsed": false
   },
   "outputs": [
    {
     "data": {
      "text/plain": [
       "'我不明白您的問題, 我將幫您轉接客服人員'"
      ]
     },
     "execution_count": 336,
     "metadata": {},
     "output_type": "execute_result"
    }
   ],
   "source": [
    "def getPosibleAnswer(q):\n",
    "    corpus  = [' '.join(jieba.cut(q))]\n",
    "    questions = [q]\n",
    "    answers = ['DUMMY']\n",
    "    for rec in fubonqa.iterrows():\n",
    "        corpus.append(' '.join(jieba.cut(rec[1]['question'])))\n",
    "        answers.append(rec[1]['answer'])\n",
    "        questions.append(rec[1]['question'])\n",
    "\n",
    "    vectorizer = TfidfVectorizer()\n",
    "    x = vectorizer.fit_transform(corpus)\n",
    "    cs = cosine_similarity(x[0],x)\n",
    "    pos = cs[0].argsort()[::-1][1:]\n",
    "    if cs[0][pos[0]] > 0.5:\n",
    "        return questions[pos[0]], answers[pos[0]], cs[0][pos[0]]\n",
    "    return '我不明白您的問題, 我將幫您轉接客服人員'\n",
    "\n",
    "getPosibleAnswer('我覺得您今天很帥')"
   ]
  },
  {
   "cell_type": "code",
   "execution_count": null,
   "metadata": {
    "collapsed": true
   },
   "outputs": [],
   "source": []
  }
 ],
 "metadata": {
  "kernelspec": {
   "display_name": "Python 3",
   "language": "python",
   "name": "python3"
  },
  "language_info": {
   "codemirror_mode": {
    "name": "ipython",
    "version": 3
   },
   "file_extension": ".py",
   "mimetype": "text/x-python",
   "name": "python",
   "nbconvert_exporter": "python",
   "pygments_lexer": "ipython3",
   "version": "3.6.0"
  }
 },
 "nbformat": 4,
 "nbformat_minor": 2
}

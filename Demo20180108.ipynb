{
 "cells": [
  {
   "cell_type": "markdown",
   "metadata": {},
   "source": [
    "## GET"
   ]
  },
  {
   "cell_type": "code",
   "execution_count": 1,
   "metadata": {
    "collapsed": true
   },
   "outputs": [],
   "source": [
    "import requests\n",
    "res = requests.get('https://tw.appledaily.com/new/realtime')"
   ]
  },
  {
   "cell_type": "code",
   "execution_count": 2,
   "metadata": {
    "collapsed": false
   },
   "outputs": [
    {
     "data": {
      "text/plain": [
       "<Response [200]>"
      ]
     },
     "execution_count": 2,
     "metadata": {},
     "output_type": "execute_result"
    }
   ],
   "source": [
    "res"
   ]
  },
  {
   "cell_type": "code",
   "execution_count": 3,
   "metadata": {
    "collapsed": false
   },
   "outputs": [
    {
     "name": "stdout",
     "output_type": "stream",
     "text": [
      "['__attrs__', '__bool__', '__class__', '__delattr__', '__dict__', '__dir__', '__doc__', '__enter__', '__eq__', '__exit__', '__format__', '__ge__', '__getattribute__', '__getstate__', '__gt__', '__hash__', '__init__', '__init_subclass__', '__iter__', '__le__', '__lt__', '__module__', '__ne__', '__new__', '__nonzero__', '__reduce__', '__reduce_ex__', '__repr__', '__setattr__', '__setstate__', '__sizeof__', '__str__', '__subclasshook__', '__weakref__', '_content', '_content_consumed', '_next', 'apparent_encoding', 'close', 'connection', 'content', 'cookies', 'elapsed', 'encoding', 'headers', 'history', 'is_permanent_redirect', 'is_redirect', 'iter_content', 'iter_lines', 'json', 'links', 'next', 'ok', 'raise_for_status', 'raw', 'reason', 'request', 'status_code', 'text', 'url']\n"
     ]
    }
   ],
   "source": [
    "print(dir(res))"
   ]
  },
  {
   "cell_type": "code",
   "execution_count": 5,
   "metadata": {
    "collapsed": false
   },
   "outputs": [],
   "source": [
    "#res.text"
   ]
  },
  {
   "cell_type": "markdown",
   "metadata": {},
   "source": [
    "## HTTP 狀態碼\n",
    "- https://zh.wikipedia.org/zh-tw/HTTP%E7%8A%B6%E6%80%81%E7%A0%81"
   ]
  },
  {
   "cell_type": "markdown",
   "metadata": {},
   "source": [
    "## POST"
   ]
  },
  {
   "cell_type": "code",
   "execution_count": 8,
   "metadata": {
    "collapsed": false
   },
   "outputs": [
    {
     "data": {
      "text/plain": [
       "<Response [200]>"
      ]
     },
     "execution_count": 8,
     "metadata": {},
     "output_type": "execute_result"
    }
   ],
   "source": [
    "import requests\n",
    "url = 'https://www.thsrc.com.tw/tw/TimeTable/SearchResult'\n",
    "payload = {\n",
    "'StartStation':'977abb69-413a-4ccf-a109-0272c24fd490',\n",
    "'EndStation':'a7a04c89-900b-4798-95a3-c01c455622f4',\n",
    "'SearchDate':'2018/01/08',\n",
    "'SearchTime':'10:30',\n",
    "'SearchWay':'DepartureInMandarin'\n",
    "    \n",
    "}\n",
    "res = requests.post(url, data = payload)\n",
    "res"
   ]
  },
  {
   "cell_type": "code",
   "execution_count": 16,
   "metadata": {
    "collapsed": false
   },
   "outputs": [
    {
     "name": "stdout",
     "output_type": "stream",
     "text": [
      "<class 'requests.models.Response'>\n"
     ]
    }
   ],
   "source": [
    "print(type(res))\n",
    "#res.text"
   ]
  },
  {
   "cell_type": "markdown",
   "metadata": {},
   "source": [
    "## 台銀匯率\n",
    "- http://rate.bot.com.tw/xrt?Lang=zh-TW"
   ]
  },
  {
   "cell_type": "code",
   "execution_count": 12,
   "metadata": {
    "collapsed": false
   },
   "outputs": [],
   "source": [
    "import requests\n",
    "res = requests.get('http://rate.bot.com.tw/xrt?Lang=zh-TW')\n",
    "#res.text"
   ]
  },
  {
   "cell_type": "markdown",
   "metadata": {},
   "source": [
    "## 使用BeautifulSoup4"
   ]
  },
  {
   "cell_type": "code",
   "execution_count": 14,
   "metadata": {
    "collapsed": true
   },
   "outputs": [],
   "source": [
    "from bs4 import BeautifulSoup \n",
    "html_sample = ''' \n",
    "<html> \n",
    " <body> \n",
    " <h1 id=\"title\">Hello World</h1> \n",
    " <a href=\"#\" class=\"link\">This is link1</a> \n",
    " <a href=\"# link2\" class=\"link\">This is link2</a> \n",
    " </body> \n",
    "</html>\n",
    "'''\n",
    "\n",
    "soup = BeautifulSoup(html_sample, 'html.parser')"
   ]
  },
  {
   "cell_type": "code",
   "execution_count": 15,
   "metadata": {
    "collapsed": false
   },
   "outputs": [
    {
     "data": {
      "text/plain": [
       "'\\n\\n\\nHello World\\nThis is link1\\nThis is link2\\n\\n\\n'"
      ]
     },
     "execution_count": 15,
     "metadata": {},
     "output_type": "execute_result"
    }
   ],
   "source": [
    "soup.text"
   ]
  },
  {
   "cell_type": "code",
   "execution_count": 17,
   "metadata": {
    "collapsed": false
   },
   "outputs": [
    {
     "name": "stdout",
     "output_type": "stream",
     "text": [
      "<class 'bs4.BeautifulSoup'>\n"
     ]
    }
   ],
   "source": [
    "print(type(soup))"
   ]
  },
  {
   "cell_type": "code",
   "execution_count": 19,
   "metadata": {
    "collapsed": false
   },
   "outputs": [
    {
     "data": {
      "text/plain": [
       "<h1 id=\"title\">Hello World</h1>"
      ]
     },
     "execution_count": 19,
     "metadata": {},
     "output_type": "execute_result"
    }
   ],
   "source": [
    "soup.select_one('h1')"
   ]
  },
  {
   "cell_type": "code",
   "execution_count": 21,
   "metadata": {
    "collapsed": false
   },
   "outputs": [
    {
     "data": {
      "text/plain": [
       "bs4.element.Tag"
      ]
     },
     "execution_count": 21,
     "metadata": {},
     "output_type": "execute_result"
    }
   ],
   "source": [
    "type(soup.select_one('h1'))"
   ]
  },
  {
   "cell_type": "code",
   "execution_count": 23,
   "metadata": {
    "collapsed": false
   },
   "outputs": [
    {
     "data": {
      "text/plain": [
       "'Hello World'"
      ]
     },
     "execution_count": 23,
     "metadata": {},
     "output_type": "execute_result"
    }
   ],
   "source": [
    "soup.select_one('h1').text"
   ]
  },
  {
   "cell_type": "code",
   "execution_count": 25,
   "metadata": {
    "collapsed": false
   },
   "outputs": [
    {
     "data": {
      "text/plain": [
       "<a class=\"link\" href=\"#\">This is link1</a>"
      ]
     },
     "execution_count": 25,
     "metadata": {},
     "output_type": "execute_result"
    }
   ],
   "source": [
    "soup.select_one('a')"
   ]
  },
  {
   "cell_type": "code",
   "execution_count": 27,
   "metadata": {
    "collapsed": false
   },
   "outputs": [
    {
     "data": {
      "text/plain": [
       "'This is link1'"
      ]
     },
     "execution_count": 27,
     "metadata": {},
     "output_type": "execute_result"
    }
   ],
   "source": [
    "soup.select_one('a').text"
   ]
  },
  {
   "cell_type": "code",
   "execution_count": 29,
   "metadata": {
    "collapsed": false
   },
   "outputs": [
    {
     "data": {
      "text/plain": [
       "[<a class=\"link\" href=\"#\">This is link1</a>,\n",
       " <a class=\"link\" href=\"# link2\">This is link2</a>]"
      ]
     },
     "execution_count": 29,
     "metadata": {},
     "output_type": "execute_result"
    }
   ],
   "source": [
    "soup.select('a')"
   ]
  },
  {
   "cell_type": "code",
   "execution_count": 31,
   "metadata": {
    "collapsed": false
   },
   "outputs": [
    {
     "name": "stdout",
     "output_type": "stream",
     "text": [
      "This is link1\n",
      "This is link2\n"
     ]
    }
   ],
   "source": [
    "for a in soup.select('a'):\n",
    "    print(a.text)"
   ]
  },
  {
   "cell_type": "code",
   "execution_count": 33,
   "metadata": {
    "collapsed": false
   },
   "outputs": [
    {
     "data": {
      "text/plain": [
       "[<h1 id=\"title\">Hello World</h1>]"
      ]
     },
     "execution_count": 33,
     "metadata": {},
     "output_type": "execute_result"
    }
   ],
   "source": [
    "soup.select('h1')"
   ]
  },
  {
   "cell_type": "code",
   "execution_count": 34,
   "metadata": {
    "collapsed": false
   },
   "outputs": [
    {
     "data": {
      "text/plain": [
       "<h1 id=\"title\">Hello World</h1>"
      ]
     },
     "execution_count": 34,
     "metadata": {},
     "output_type": "execute_result"
    }
   ],
   "source": [
    "soup.select('h1')[0]"
   ]
  },
  {
   "cell_type": "code",
   "execution_count": 35,
   "metadata": {
    "collapsed": false
   },
   "outputs": [
    {
     "data": {
      "text/plain": [
       "'Hello World'"
      ]
     },
     "execution_count": 35,
     "metadata": {},
     "output_type": "execute_result"
    }
   ],
   "source": [
    "soup.select('h1')[0].text"
   ]
  },
  {
   "cell_type": "code",
   "execution_count": 37,
   "metadata": {
    "collapsed": false
   },
   "outputs": [
    {
     "data": {
      "text/plain": [
       "'Hello World'"
      ]
     },
     "execution_count": 37,
     "metadata": {},
     "output_type": "execute_result"
    }
   ],
   "source": [
    "# id => #\n",
    "soup.select_one('#title')\n",
    "soup.select_one('#title').text"
   ]
  },
  {
   "cell_type": "code",
   "execution_count": 39,
   "metadata": {
    "collapsed": false
   },
   "outputs": [
    {
     "data": {
      "text/plain": [
       "[<a class=\"link\" href=\"#\">This is link1</a>,\n",
       " <a class=\"link\" href=\"# link2\">This is link2</a>]"
      ]
     },
     "execution_count": 39,
     "metadata": {},
     "output_type": "execute_result"
    }
   ],
   "source": [
    "# class => .\n",
    "soup.select('.link')"
   ]
  },
  {
   "cell_type": "code",
   "execution_count": 42,
   "metadata": {
    "collapsed": false
   },
   "outputs": [
    {
     "name": "stdout",
     "output_type": "stream",
     "text": [
      "#\n",
      "# link2\n"
     ]
    }
   ],
   "source": [
    "for ele in soup.select('.link'):\n",
    "    #print(ele)\n",
    "    #print(ele.text)\n",
    "    print(ele.get('href'))\n",
    "    "
   ]
  },
  {
   "cell_type": "code",
   "execution_count": 47,
   "metadata": {
    "collapsed": false
   },
   "outputs": [
    {
     "data": {
      "text/plain": [
       "'123'"
      ]
     },
     "execution_count": 47,
     "metadata": {},
     "output_type": "execute_result"
    }
   ],
   "source": [
    "s = '<a href=\"http://www.largitdata.com\" qoo=123 abc=qwe>An Example </a>'\n",
    "soup2 = BeautifulSoup(s, 'html.parser')\n",
    "soup2.select_one('a').get('qoo')"
   ]
  },
  {
   "cell_type": "code",
   "execution_count": 48,
   "metadata": {
    "collapsed": false
   },
   "outputs": [
    {
     "name": "stdout",
     "output_type": "stream",
     "text": [
      " \n",
      "<html> \n",
      " <body> \n",
      " <h1 id=\"title\">Hello World</h1> \n",
      " <a href=\"#\" class=\"link\">This is link1</a> \n",
      " <a href=\"# link2\" class=\"link\">This is link2</a> \n",
      " </body> \n",
      "</html>\n",
      "\n"
     ]
    }
   ],
   "source": [
    "print(html_sample)"
   ]
  },
  {
   "cell_type": "code",
   "execution_count": 50,
   "metadata": {
    "collapsed": false
   },
   "outputs": [
    {
     "data": {
      "text/plain": [
       "<h1 id=\"title\">Hello World</h1>"
      ]
     },
     "execution_count": 50,
     "metadata": {},
     "output_type": "execute_result"
    }
   ],
   "source": [
    "soup.select_one('h1')"
   ]
  },
  {
   "cell_type": "code",
   "execution_count": 52,
   "metadata": {
    "collapsed": false
   },
   "outputs": [
    {
     "data": {
      "text/plain": [
       "<h1 id=\"title\">Hello World</h1>"
      ]
     },
     "execution_count": 52,
     "metadata": {},
     "output_type": "execute_result"
    }
   ],
   "source": [
    "soup.select_one('body h1')"
   ]
  },
  {
   "cell_type": "code",
   "execution_count": 53,
   "metadata": {
    "collapsed": false
   },
   "outputs": [
    {
     "data": {
      "text/plain": [
       "<h1 id=\"title\">Hello World</h1>"
      ]
     },
     "execution_count": 53,
     "metadata": {},
     "output_type": "execute_result"
    }
   ],
   "source": [
    "soup.select_one('body > h1')"
   ]
  },
  {
   "cell_type": "code",
   "execution_count": 55,
   "metadata": {
    "collapsed": false
   },
   "outputs": [
    {
     "data": {
      "text/plain": [
       "<h1 id=\"title\">Hello World</h1>"
      ]
     },
     "execution_count": 55,
     "metadata": {},
     "output_type": "execute_result"
    }
   ],
   "source": [
    "soup.select_one('body #title')"
   ]
  },
  {
   "cell_type": "code",
   "execution_count": 56,
   "metadata": {
    "collapsed": false
   },
   "outputs": [
    {
     "data": {
      "text/plain": [
       "<h1 id=\"title\">Hello World</h1>"
      ]
     },
     "execution_count": 56,
     "metadata": {},
     "output_type": "execute_result"
    }
   ],
   "source": [
    "soup.select_one('body h1#title')"
   ]
  },
  {
   "cell_type": "code",
   "execution_count": 58,
   "metadata": {
    "collapsed": false
   },
   "outputs": [
    {
     "data": {
      "text/plain": [
       "[<a class=\"link\" href=\"#\">This is link1</a>,\n",
       " <a class=\"link\" href=\"# link2\">This is link2</a>]"
      ]
     },
     "execution_count": 58,
     "metadata": {},
     "output_type": "execute_result"
    }
   ],
   "source": [
    "soup.select('a')"
   ]
  },
  {
   "cell_type": "code",
   "execution_count": 60,
   "metadata": {
    "collapsed": false
   },
   "outputs": [
    {
     "data": {
      "text/plain": [
       "[<a class=\"link\" href=\"#\">This is link1</a>,\n",
       " <a class=\"link\" href=\"# link2\">This is link2</a>]"
      ]
     },
     "execution_count": 60,
     "metadata": {},
     "output_type": "execute_result"
    }
   ],
   "source": [
    "soup.select('body a')"
   ]
  },
  {
   "cell_type": "code",
   "execution_count": 61,
   "metadata": {
    "collapsed": false
   },
   "outputs": [
    {
     "data": {
      "text/plain": [
       "[<a class=\"link\" href=\"#\">This is link1</a>,\n",
       " <a class=\"link\" href=\"# link2\">This is link2</a>]"
      ]
     },
     "execution_count": 61,
     "metadata": {},
     "output_type": "execute_result"
    }
   ],
   "source": [
    "soup.select('body a.link')"
   ]
  },
  {
   "cell_type": "code",
   "execution_count": 62,
   "metadata": {
    "collapsed": false
   },
   "outputs": [
    {
     "data": {
      "text/plain": [
       "[<a class=\"link\" href=\"#\">This is link1</a>,\n",
       " <a class=\"link\" href=\"# link2\">This is link2</a>]"
      ]
     },
     "execution_count": 62,
     "metadata": {},
     "output_type": "execute_result"
    }
   ],
   "source": [
    "soup.select('body .link')"
   ]
  },
  {
   "cell_type": "markdown",
   "metadata": {},
   "source": [
    "## 資料搜集實務"
   ]
  },
  {
   "cell_type": "code",
   "execution_count": 63,
   "metadata": {
    "collapsed": true
   },
   "outputs": [],
   "source": [
    "import requests\n",
    "res = requests.get('https://tw.appledaily.com/new/realtime')"
   ]
  },
  {
   "cell_type": "code",
   "execution_count": 65,
   "metadata": {
    "collapsed": false
   },
   "outputs": [],
   "source": [
    "from bs4 import BeautifulSoup\n",
    "soup = BeautifulSoup(res.text, 'html.parser')"
   ]
  },
  {
   "cell_type": "code",
   "execution_count": 80,
   "metadata": {
    "collapsed": false
   },
   "outputs": [
    {
     "name": "stdout",
     "output_type": "stream",
     "text": [
      "【金球獎】《淑女鳥》23歲瑟夏羅南首封音... 娛樂 11:36 https://tw.entertainment.appledaily.com/realtime/20180108/1273502/\n",
      "======================================\n",
      "明德水庫蓄水創全國最低　1期稻作恐休耕 生活 11:35 https://tw.news.appledaily.com/life/realtime/20180108/1274128/\n",
      "======================================\n",
      "8槍逮毒販　起獲特種部隊用M4A1步槍 社會 11:35 https://tw.news.appledaily.com/local/realtime/20180108/1274149/\n",
      "======================================\n",
      "溪湖鐵皮屋火警　幸無人傷亡 社會 11:31 https://tw.news.appledaily.com/local/realtime/20180108/1274142/\n",
      "======================================\n",
      "【一起讀判決】從陳喬恩酒駕案　了解具保6... 社會 11:31 https://tw.news.appledaily.com/local/realtime/20180108/1274115/\n",
      "======================================\n",
      "宏普12月營收衝　華友聯2017營收增7... 地產 11:31 https://tw.finance.appledaily.com/realtime/20180108/1274138/\n",
      "======================================\n",
      "寒流要來了　圓仔、國王企鵝爽過冬 動物 11:30 https://tw.lifestyle.appledaily.com/animal/realtime/20180108/1274133/\n",
      "======================================\n",
      "【金球得主不斷更新】《水底情深》奪2獎　...(16343) 娛樂 11:27 https://tw.entertainment.appledaily.com/realtime/20180108/1273509/\n",
      "======================================\n",
      "【有片】陳偉殷因傷表現不如預期　馬林魚近...(10047) 體育 11:27 https://tw.sports.appledaily.com/realtime/20180108/1274026/\n",
      "======================================\n",
      "【W命案】「死前還被餵毒」　他竟辯小模自... 社會 11:27 https://tw.news.appledaily.com/local/realtime/20180108/1274139/\n",
      "======================================\n",
      "立院遭拒馬包圍　早餐店老闆娘怒罵：小老百... 政治 11:26 https://tw.news.appledaily.com/politics/realtime/20180108/1274113/\n",
      "======================================\n",
      "馬克宏今起訪問中國　首站到西安看兵馬俑 國際 11:26 https://tw.news.appledaily.com/international/realtime/20180108/1274116/\n",
      "======================================\n",
      "​一例一休讓台成進步社會　勞動部前次長：... 生活 11:25 https://tw.news.appledaily.com/life/realtime/20180108/1274148/\n",
      "======================================\n",
      "【蘋果LIVE】勞團高喊「退回惡法」　與...(13115) 生活 11:24 https://tw.news.appledaily.com/life/realtime/20180108/1273900/\n",
      "======================================\n",
      "【不斷更新】藍綠為《勞基法》搶占主席台　...(9052) 政治 11:20 https://tw.news.appledaily.com/politics/realtime/20180108/1274056/\n",
      "======================================\n",
      "轎車疑閃動物失控　撞機車夜遊大學生釀6傷(212) 社會 11:18 https://tw.news.appledaily.com/local/realtime/20180108/1274140/\n",
      "======================================\n",
      "​【不斷更新】大雨中抗議勞基法　勞團繞立...(6899) 社會 11:15 https://tw.news.appledaily.com/local/realtime/20180108/1274071/\n",
      "======================================\n",
      "台灣手工鞋打紅牌　踩Sweet Vill...(374) 時尚 11:13 https://tw.entertainment.appledaily.com/realtime/20180108/1273994/\n",
      "======================================\n",
      "台幣超強！彭博調查：首季有望挑戰29元大...(678) 財經 11:06 https://tw.finance.appledaily.com/realtime/20180108/1274134/\n",
      "======================================\n",
      "【好攝片】攝影女碩士　視拍照為情感標本(1138) 副刊 11:05 https://tw.lifestyle.appledaily.com/lifestyle/realtime/20180108/1274124/\n",
      "======================================\n",
      "圍繞立院封鎖區淋雨遊行　勞團大喊：拒絕過... 社會 11:03 https://tw.news.appledaily.com/local/realtime/20180108/1274136/\n",
      "======================================\n",
      "雙城最愛逢低買進　最近看上投手提爾曼(523) 體育 11:02 https://tw.sports.appledaily.com/realtime/20180108/1274122/\n",
      "======================================\n",
      "讓勞基法修正回歸議事殿堂吧(459) 論壇 11:02 https://tw.news.appledaily.com/forum/realtime/20180108/1274130/\n",
      "======================================\n",
      "【台股盤中】外資匯入　大盤驚驚漲創新高(433) 財經 10:55 https://tw.finance.appledaily.com/realtime/20180108/1274123/\n",
      "======================================\n",
      "【金球獎】伊旺麥奎格《冰血暴》登基視帝　...(2028) 娛樂 10:54 https://tw.entertainment.appledaily.com/realtime/20180108/1274086/\n",
      "======================================\n",
      "安妮斯頓沒走紅毯　避開前情敵裘莉(1657) 娛樂 10:52 https://tw.entertainment.appledaily.com/realtime/20180108/1274109/\n",
      "======================================\n",
      "【急凍片】抗寒家電銷量增2倍　這種最熱賣(7714) 3C 10:51 https://tw.lifestyle.appledaily.com/gadget/realtime/20180108/1272779/\n",
      "======================================\n",
      "PGA冠軍高球賽　球王強森開年奪冠(238) 體育 10:51 https://tw.sports.appledaily.com/realtime/20180108/1274051/\n",
      "======================================\n",
      "夾娃娃正夯　不肖業者放置仿冒品遭警逮(1069) 社會 10:49 https://tw.news.appledaily.com/local/realtime/20180108/1274119/\n",
      "======================================\n",
      "遠東新綠色債券掛牌　超額認購近3倍(222) 財經 10:49 https://tw.finance.appledaily.com/realtime/20180108/1274121/\n",
      "======================================\n"
     ]
    }
   ],
   "source": [
    "for news in soup.select('.rtddt a'):\n",
    "    # print(news)\n",
    "    title    = news.select_one('h1').text\n",
    "    #title    = news.select('h1')[0].text\n",
    "    #print(title)\n",
    "    category = news.select_one('h2').text\n",
    "    dt       = news.select_one('time').text\n",
    "    url      = news.get('href')\n",
    "    print(title, category, dt, url)\n",
    "    print('======================================')"
   ]
  },
  {
   "cell_type": "markdown",
   "metadata": {
    "collapsed": true
   },
   "source": [
    "## 抓取圖片"
   ]
  },
  {
   "cell_type": "code",
   "execution_count": 81,
   "metadata": {
    "collapsed": true
   },
   "outputs": [],
   "source": [
    "import requests\n",
    "res = requests.get('https://img.appledaily.com.tw/images/thumbnail/other/4c96dd254111d4ffd78a255eca1262f6.jpg')\n",
    "with open('1.jpg', 'wb') as f:\n",
    "    f.write(res.content)"
   ]
  },
  {
   "cell_type": "markdown",
   "metadata": {},
   "source": [
    "## 回顧爬蟲流程"
   ]
  },
  {
   "cell_type": "code",
   "execution_count": 82,
   "metadata": {
    "collapsed": true
   },
   "outputs": [],
   "source": [
    "import requests\n",
    "res = requests.get('https://tw.appledaily.com/new/realtime')"
   ]
  },
  {
   "cell_type": "code",
   "execution_count": 85,
   "metadata": {
    "collapsed": false
   },
   "outputs": [],
   "source": [
    "from bs4 import BeautifulSoup\n",
    "soup = BeautifulSoup(res.text, 'html.parser')"
   ]
  },
  {
   "cell_type": "code",
   "execution_count": 90,
   "metadata": {
    "collapsed": false
   },
   "outputs": [
    {
     "name": "stdout",
     "output_type": "stream",
     "text": [
      "挨罵變麻吉　小嫻白住艾力克斯新居 娛樂 13:41\n",
      "高齡92歲　馬哈迪再拚馬來西亞總理大位 國際 13:41\n",
      "房市盤整威力超猛　這些社區打回原形 地產 13:39\n",
      "【全紀錄】NBA今日5場賽事　湖人終止9... 體育 13:36\n",
      "台股驚驚漲突破10900點關卡　創逾27... 財經 13:34\n",
      "為了吃零食汪汪狂秀才藝　網友：快給他吃啦(4) 動物 13:33\n",
      "比特幣挖礦需求　美桀去年營收改寫新高(11) 財經 13:33\n",
      "【倒楣片】「絕命終結站」是真的　騎士遇怪...(19003) 社會 13:32\n",
      "不滿政黨法針對統促黨　張安樂要提公投：5...(5240) 社會 13:31\n",
      "【更新】上空搖下去！直播「送二粒」　粉專...(75503) 生活 13:30\n",
      "照飛M503的航空業者　民航局：處置做法...(6983) 生活 13:30\n",
      "趙又廷寵妻無極限　賣DR.WU婚戒來搶鏡(33) 時尚 13:30\n",
      "【有片】知名高雄烤黑輪老店　沾醬驚見蟲蟲...(91) 生活 13:29\n",
      "槍擊莿桐公所的是玻璃彈珠？　送刑事局鑑定(106) 社會 13:26\n",
      "【W命案】「死前還被餵毒」　他竟辯小模自...(19853) 社會 13:22\n",
      "【護照出包檢討】李大維怒斥同仁：以菁英自...(1444) 政治 13:22\n",
      "​【不斷更新】勞團搭棚抗議勞基法　600...(13612) 社會 13:20\n",
      "時力立委凌晨遭趕　因柯Ｐ指示7時前要維持...(384) 生活 13:20\n",
      "600警護立院　勞團搭起棚架欲長期抗戰 社會 13:20\n",
      "川普成民主反教材　陸媒：中國人最好遠離此...(490) 國際 13:19\n",
      "國道奪命夾擊　百萬名車瞬成廢鐵(86952) 社會 13:17\n",
      "​因應蘋果而生　勁永CES展推無線充電產...(327) 財經 13:16\n",
      "醉漢尋仇搞烏龍　誤認通訊行踹錯門(198) 社會 13:16\n",
      "曾國城一杯威士忌上路罰數萬　緩頰陳喬恩「...(1539) 娛樂 13:16\n",
      "【比台幣升更多！】韓元太強　韓揚言「嚴厲...(1115) 財經 13:14\n",
      "與蔡英文協商《勞基法》破局　黃國昌：無法...(4087) 政治 13:13\n",
      "7旬翁吃幼齒　竟辯少女胸大誤認已成年(3195) 社會 13:12\n",
      "宮主的「黃野馬」擋門口　理髮店前爆全武行(6365) 社會 13:10\n",
      "直指集集攔河堰揚塵元凶　環團怒喊速拆(513) 生活 13:10\n",
      "【金球獎】超模肯黛兒紅毯處女秀　滿臉豆花...(1564) 娛樂 13:10\n"
     ]
    }
   ],
   "source": [
    "for news in soup.select('.rtddt a'):\n",
    "    title    = news.select_one('h1').text\n",
    "    category = news.select_one('h2').text\n",
    "    dt       = news.select_one('time').text\n",
    "    print(title, category, dt)"
   ]
  },
  {
   "cell_type": "markdown",
   "metadata": {},
   "source": [
    "## 抓取PCHOME\n"
   ]
  },
  {
   "cell_type": "code",
   "execution_count": 92,
   "metadata": {
    "collapsed": false
   },
   "outputs": [
    {
     "data": {
      "text/plain": [
       "'try{jsonp_prod({\"DSAM00-A9008L3IR-000\":{\"Seq\":19151171,\"Id\":\"DSAM00-A9008L3IR-000\",\"Name\":\"(\\\\u5546\\\\u7528)Acer VM4640G(i5-6500\\\\/8G\\\\/1TB+128G\\\\/W10P+O2016P)\",\"Nick\":\"<font color=#FF00CC><b>\\\\u25bc\\\\u6bcf\\\\u65e5\\\\u5f37\\\\u6a94\\\\u2027\\\\u760b\\\\u6bba\\\\u7279\\\\u8ce3\\\\u25bc<\\\\/font><\\\\/b><BR><font color=\\\\\"red\\\\\">\\\\u642d\\\\u8f09office2016\\\\u4e2d\\\\u5c0f\\\\u4f01\\\\u696d\\\\u7248<\\\\/font><BR>Acer VM4640G 6\\\\u4ee3i5\\\\u56db\\\\u6838Win10Pro\\\\u5546\\\\u7528\\\\u96fb\\\\u8166\",\"Store\":\"DSAM00\",\"PreOrdDate\":\"\",\"SpeOrdDate\":\"\",\"Price\":{\"M\":0,\"P\":19999},\"Discount\":0,\"Pic\":{\"B\":\"\\\\/items\\\\/DSAM00A9008L3IR\\\\/000001_1515143797.jpg\",\"S\":\"\\\\/items\\\\/DSAM00A9008L3IR\\\\/000002_1512008871.jpg\"},\"Weight\":10.8,\"ISBN\":\"\",\"Qty\":20,\"Bonus\":0,\"isBig\":0,\"isSpec\":0,\"isCombine\":0,\"isDiy\":0,\"isRecyclable\":0,\"isCarrier\":0,\"isMedical\":0,\"isBigCart\":1,\"isSnapUp\":0,\"isDescAndIntroSync\":0,\"isFoodContents\":0,\"isHuge\":0,\"isEnergySubsidy\":0}});}catch(e){if(window.console){console.log(e);}}'"
      ]
     },
     "execution_count": 92,
     "metadata": {},
     "output_type": "execute_result"
    }
   ],
   "source": [
    "import requests\n",
    "res = requests.get('http://ecapi.pchome.com.tw/ecshop/prodapi/v2/prod/DSAM00-A9008L3IR-000&fields=Seq,Id,Name,Nick,Store,PreOrdDate,SpeOrdDate,Price,Discount,Pic,Weight,ISBN,Qty,Bonus,isBig,isSpec,isCombine,isDiy,isRecyclable,isCarrier,isMedical,isBigCart,isSnapUp,isDescAndIntroSync,isFoodContents,isHuge,isEnergySubsidy&_callback=jsonp_prod&1515391200?_callback=jsonp_prod')\n",
    "res.text"
   ]
  },
  {
   "cell_type": "markdown",
   "metadata": {},
   "source": [
    "## 抓取內容頁"
   ]
  },
  {
   "cell_type": "code",
   "execution_count": 94,
   "metadata": {
    "collapsed": false
   },
   "outputs": [],
   "source": [
    "import requests\n",
    "res = requests.get('https://tw.entertainment.appledaily.com/realtime/20180108/1274244/')\n",
    "#res.text"
   ]
  },
  {
   "cell_type": "code",
   "execution_count": 95,
   "metadata": {
    "collapsed": true
   },
   "outputs": [],
   "source": [
    "from bs4 import BeautifulSoup\n",
    "soup = BeautifulSoup(res.text, 'html.parser')"
   ]
  },
  {
   "cell_type": "code",
   "execution_count": 97,
   "metadata": {
    "collapsed": false
   },
   "outputs": [
    {
     "data": {
      "text/plain": [
       "'挨罵變麻吉\\u3000小嫻白住艾力克斯新居'"
      ]
     },
     "execution_count": 97,
     "metadata": {},
     "output_type": "execute_result"
    }
   ],
   "source": [
    "soup.select_one('h1').text"
   ]
  },
  {
   "cell_type": "code",
   "execution_count": 100,
   "metadata": {
    "collapsed": false
   },
   "outputs": [
    {
     "data": {
      "text/plain": [
       "'小嫻日前錄衛視中文台《一袋女王》，由於當初製作單位安排她跟好友艾力克斯同台，她才破例上談話節目。現場談到小嫻婚變，艾力克斯認為小嫻要多點自信，因為她個性很被動，看不下去的他事後才介紹律師幫她處理離婚事宜。小嫻現場加碼透露從小就喜歡艾力克斯，覺得以後要嫁這種男生，沒想到艾力克斯卻回「她喜歡打籃球的」，小嫻則解釋：「不是，我喜歡有自信的啦。」\\xa0說到2人認識過程，艾力克斯表示小嫻「超耐罵」，當初艾力克斯主持電玩節目，到了第4季，製作人希望增加女主持人，自信破表的他覺得為何要有女生加入，所以故意又罵又欺負女搭檔，前後共罵跑4、5個女生，也對小嫻如法炮製，沒想到小嫻像打不死的蟑螂一直出現，2人也因此變成好朋友。\\xa0小嫻6、7年前買房時因為要裝潢，曾暫住艾力克斯買來收租的新房子，而且一住就超過半年，艾力克斯一毛錢也沒跟她討，讓小嫻好感動。主持人曾國城問小嫻與艾力克斯感情這麼好，李詠嫻難道沒懷疑過？艾力克斯斬釘截鐵否認，讓小嫻忍不住開玩笑說：「可惡！應該要吃一點醋的啊！」（蔡維歆／台北報導）看了這則新聞的人，也看了……曾國城一杯威士忌上路罰數萬\\u3000緩頰陳喬恩「認錯就好」誰也攔不住！大S火速瘦10公斤8個8如何得1千\\u3000人帥聰明！賭王兒只花20秒'"
      ]
     },
     "execution_count": 100,
     "metadata": {},
     "output_type": "execute_result"
    }
   ],
   "source": [
    "soup.select_one('.ndArticle_margin p').text"
   ]
  },
  {
   "cell_type": "code",
   "execution_count": 104,
   "metadata": {
    "collapsed": false
   },
   "outputs": [
    {
     "data": {
      "text/plain": [
       "'出版時間：2018/01/08 13:41'"
      ]
     },
     "execution_count": 104,
     "metadata": {},
     "output_type": "execute_result"
    }
   ],
   "source": [
    "soup.select_one('.ndArticle_creat').text"
   ]
  },
  {
   "cell_type": "code",
   "execution_count": 105,
   "metadata": {
    "collapsed": true
   },
   "outputs": [],
   "source": [
    "from datetime import datetime"
   ]
  },
  {
   "cell_type": "code",
   "execution_count": 108,
   "metadata": {
    "collapsed": false
   },
   "outputs": [],
   "source": [
    "current_time = datetime.now()"
   ]
  },
  {
   "cell_type": "code",
   "execution_count": 109,
   "metadata": {
    "collapsed": false
   },
   "outputs": [
    {
     "data": {
      "text/plain": [
       "datetime.datetime(2018, 1, 8, 14, 10, 38, 160887)"
      ]
     },
     "execution_count": 109,
     "metadata": {},
     "output_type": "execute_result"
    }
   ],
   "source": [
    "current_time"
   ]
  },
  {
   "cell_type": "code",
   "execution_count": 110,
   "metadata": {
    "collapsed": false
   },
   "outputs": [
    {
     "data": {
      "text/plain": [
       "'2018-01-08'"
      ]
     },
     "execution_count": 110,
     "metadata": {},
     "output_type": "execute_result"
    }
   ],
   "source": [
    "current_time.strftime('%Y-%m-%d')"
   ]
  },
  {
   "cell_type": "code",
   "execution_count": 111,
   "metadata": {
    "collapsed": false
   },
   "outputs": [
    {
     "data": {
      "text/plain": [
       "'2018/01/08'"
      ]
     },
     "execution_count": 111,
     "metadata": {},
     "output_type": "execute_result"
    }
   ],
   "source": [
    "current_time.strftime('%Y/%m/%d')"
   ]
  },
  {
   "cell_type": "code",
   "execution_count": 114,
   "metadata": {
    "collapsed": false
   },
   "outputs": [],
   "source": [
    "a = '2018-01-18 14:00:20'\n",
    "adt = datetime.strptime(a, '%Y-%m-%d %H:%M:%S')"
   ]
  },
  {
   "cell_type": "code",
   "execution_count": 115,
   "metadata": {
    "collapsed": false
   },
   "outputs": [
    {
     "data": {
      "text/plain": [
       "datetime.timedelta(9, 85781, 839113)"
      ]
     },
     "execution_count": 115,
     "metadata": {},
     "output_type": "execute_result"
    }
   ],
   "source": [
    "adt - current_time"
   ]
  },
  {
   "cell_type": "code",
   "execution_count": 116,
   "metadata": {
    "collapsed": true
   },
   "outputs": [],
   "source": [
    "from datetime import timedelta"
   ]
  },
  {
   "cell_type": "code",
   "execution_count": 119,
   "metadata": {
    "collapsed": false
   },
   "outputs": [
    {
     "data": {
      "text/plain": [
       "datetime.datetime(2018, 1, 9, 14, 10, 38, 160887)"
      ]
     },
     "execution_count": 119,
     "metadata": {},
     "output_type": "execute_result"
    }
   ],
   "source": [
    "current_time + timedelta(days = 1)"
   ]
  },
  {
   "cell_type": "code",
   "execution_count": 120,
   "metadata": {
    "collapsed": false
   },
   "outputs": [
    {
     "data": {
      "text/plain": [
       "'2018/01/09'"
      ]
     },
     "execution_count": 120,
     "metadata": {},
     "output_type": "execute_result"
    }
   ],
   "source": [
    "(current_time + timedelta(days = 1)).strftime('%Y/%m/%d')"
   ]
  },
  {
   "cell_type": "code",
   "execution_count": 123,
   "metadata": {
    "collapsed": false
   },
   "outputs": [
    {
     "name": "stdout",
     "output_type": "stream",
     "text": [
      "2018/01/07\n",
      "2018/01/06\n",
      "2018/01/05\n",
      "2018/01/04\n",
      "2018/01/03\n",
      "2018/01/02\n",
      "2018/01/01\n",
      "2017/12/31\n",
      "2017/12/30\n"
     ]
    }
   ],
   "source": [
    "for day in range(1,10):\n",
    "    a = (current_time - timedelta(days = day)).strftime('%Y/%m/%d')\n",
    "    print(a)"
   ]
  },
  {
   "cell_type": "code",
   "execution_count": 125,
   "metadata": {
    "collapsed": false
   },
   "outputs": [],
   "source": [
    "create_dt = soup.select_one('.ndArticle_creat').text"
   ]
  },
  {
   "cell_type": "markdown",
   "metadata": {},
   "source": [
    "## Python Stftime & Strptime Reference\n",
    "- https://docs.python.org/3/library/datetime.html#strftime-and-strptime-behavior"
   ]
  },
  {
   "cell_type": "code",
   "execution_count": 127,
   "metadata": {
    "collapsed": false
   },
   "outputs": [
    {
     "data": {
      "text/plain": [
       "datetime.datetime(2018, 1, 8, 13, 41)"
      ]
     },
     "execution_count": 127,
     "metadata": {},
     "output_type": "execute_result"
    }
   ],
   "source": [
    "datetime.strptime(create_dt,'出版時間：%Y/%m/%d %H:%M')"
   ]
  },
  {
   "cell_type": "code",
   "execution_count": 131,
   "metadata": {
    "collapsed": false
   },
   "outputs": [
    {
     "data": {
      "text/plain": [
       "'2018/01/08 13:41'"
      ]
     },
     "execution_count": 131,
     "metadata": {},
     "output_type": "execute_result"
    }
   ],
   "source": [
    "create_dt.split('：')[1]"
   ]
  },
  {
   "cell_type": "code",
   "execution_count": 132,
   "metadata": {
    "collapsed": false
   },
   "outputs": [
    {
     "data": {
      "text/plain": [
       "datetime.datetime(2018, 1, 8, 13, 41)"
      ]
     },
     "execution_count": 132,
     "metadata": {},
     "output_type": "execute_result"
    }
   ],
   "source": [
    "datetime.strptime(create_dt.split('：')[1],'%Y/%m/%d %H:%M')"
   ]
  },
  {
   "cell_type": "code",
   "execution_count": 136,
   "metadata": {
    "collapsed": false
   },
   "outputs": [],
   "source": [
    "view_cnt = 0\n",
    "if soup.select_one('.ndArticle_view'):\n",
    "    viwe_cnt = int(soup.select_one('.ndArticle_view').text)"
   ]
  },
  {
   "cell_type": "code",
   "execution_count": 138,
   "metadata": {
    "collapsed": false
   },
   "outputs": [],
   "source": [
    "view_cnt = int(soup.select_one('.ndArticle_view').text) if soup.select_one('.ndArticle_view') else 0"
   ]
  },
  {
   "cell_type": "code",
   "execution_count": 139,
   "metadata": {
    "collapsed": false
   },
   "outputs": [
    {
     "data": {
      "text/plain": [
       "195"
      ]
     },
     "execution_count": 139,
     "metadata": {},
     "output_type": "execute_result"
    }
   ],
   "source": [
    "view_cnt"
   ]
  },
  {
   "cell_type": "code",
   "execution_count": 141,
   "metadata": {
    "collapsed": false
   },
   "outputs": [
    {
     "data": {
      "text/plain": [
       "'娛樂'"
      ]
     },
     "execution_count": 141,
     "metadata": {},
     "output_type": "execute_result"
    }
   ],
   "source": [
    "soup.select_one('.ndgTag .current').text"
   ]
  },
  {
   "cell_type": "markdown",
   "metadata": {},
   "source": [
    "## 將內容頁爬取整理程函式"
   ]
  },
  {
   "cell_type": "code",
   "execution_count": 142,
   "metadata": {
    "collapsed": true
   },
   "outputs": [],
   "source": [
    "def parseDetail(detail_url):\n",
    "    res = requests.get(detail_url)\n",
    "    soup = BeautifulSoup(res.text, 'html.parser')\n",
    "    \n",
    "    # 標題\n",
    "    title = soup.select_one('h1').text\n",
    "    \n",
    "    # 內文\n",
    "    summary = soup.select_one('.ndArticle_margin p').text\n",
    "    \n",
    "    # 出版時間\n",
    "    create_dt = soup.select_one('.ndArticle_creat').text\n",
    "    dt = datetime.strptime(create_dt,'出版時間：%Y/%m/%d %H:%M')\n",
    "    \n",
    "    # 點閱數\n",
    "    clicked = int(soup.select_one('.ndArticle_view').text) if soup.select_one('.ndArticle_view') else 0\n",
    "    \n",
    "    # 類別\n",
    "    category = soup.select_one('.ndgTag .current').text\n",
    "    \n",
    "    return {'title':title, 'summary':summary, 'dt':dt, 'clicked':clicked, 'category':category}"
   ]
  },
  {
   "cell_type": "code",
   "execution_count": 143,
   "metadata": {
    "collapsed": false
   },
   "outputs": [
    {
     "data": {
      "text/plain": [
       "{'category': '國際',\n",
       " 'clicked': 559,\n",
       " 'dt': datetime.datetime(2018, 1, 8, 14, 18),\n",
       " 'summary': '美國東部最近遭暴風雪侵襲，部分地區溫度甚至比北極還冷。波士頓昨日發生火警，消防人員灑水救火後，全身上下裝備被凍成冰柱，宛如「急凍俠」。\\xa0波士頓於當地時間周六晚間發生一起民宅火警，消防人員趕到後立刻救出14名住戶，並朝著起火的3層樓民宅澆水滅火。由於當時氣溫僅攝氏零下18度，起火房屋在火勢熄滅後，立刻凍成「冰屋」。全身沾滿水的消防員也瞬間急凍，還好過程中除一名消防員需就醫診療外，無其他人員受傷。（桂家齊／綜合外電報導）\\xa0跟上國際脈動，快來蘋果國際按讚\\xa0\\xa0',\n",
       " 'title': '零下18°C救火\\u3000消防員全成了「急凍俠」'}"
      ]
     },
     "execution_count": 143,
     "metadata": {},
     "output_type": "execute_result"
    }
   ],
   "source": [
    "parseDetail('https://tw.news.appledaily.com/international/realtime/20180108/1274283/')"
   ]
  },
  {
   "cell_type": "code",
   "execution_count": 144,
   "metadata": {
    "collapsed": false
   },
   "outputs": [
    {
     "data": {
      "text/plain": [
       "{'category': '財經地產',\n",
       " 'clicked': 902,\n",
       " 'dt': datetime.datetime(2018, 1, 8, 13, 47),\n",
       " 'summary': '國際研究暨顧問機構Gartner（顧能）初步統計結果顯示，2017年全球半導體總營收為4,197億美元，較2016年成長22.2%。記憶體供不應求帶動整體記憶體市場營收成長64%，佔2017半導體總營收31%，值得一提的是，拜記憶體之賜，三星電子超越英特爾，成為全球最大半導體廠，不過此霸主地位恐無法維持太久。\\xa0Gartner研究副總裁Andrew Norwood表示，全球最大記憶體供應商三星電子順勢拿下最大市佔，成功取代英特爾成為全球半導體龍頭，而這也是1992\\xa0年以來英特爾首次讓出冠軍寶座。2017\\xa0年記憶體佔所有半導體營收成長逾三分之二，躍身成為半導體的最大產品類別。\\xa0不過，Andrew Norwood認為，這個排名可能不會持續太長時間，三星主要依靠記憶體的領先優勢並不穩固。隨著中國大陸記憶體產能的逐漸擴大，記憶體的價格將在2018年走弱，從NAND flash開始，然後DRAM價格也將在2019年下滑。預計三星屆時將會損失大量利潤。\\xa0其餘記憶體大廠包括SK海力士(SK Hynix)與美光科技(Micron Technology)，在去年營運亦繳出亮麗成績單，排名皆同步向上攀升。\\xa0Gartner指出，供應短缺導致價格走高，是記憶體營收提升的主要原因。NAND flash價格首次出現年成長，幅度達\\xa017%；而DRAM價格更大漲\\xa044%。\\xa0另一方面，消費性電子產品廠商不再自行吸收記憶體價格上漲的成本，選擇轉嫁到消費者身上，導致從PC到智慧型手機等產品在2017年價格都變得更加昂貴。\\xa0退居第二的英特爾(Intel)在2017年營收增長了6.7%，主要受惠於雲端和通訊服務提供商(CSP)的強勁需求，資料中心處理器營收增長6%；而英特爾PC處理器營收則緩步增長1.9%，但隨著PC市場從傳統桌機轉向二合一及ultramobile裝置的趨勢，PC平均價格有望在經過多年下滑後再次成長。\\xa0\\xa0Gartner指出，2017年半導體產業的併購交易狀況相對平靜許多。高通收購恩智浦案未能如預期於2017年完成，加上博通嘗試要收購高通，讓高通在2018年收購恩智浦的計畫變得更為複雜。\\xa0Andrew Norwood指出，博通、高通、恩智浦在2017年的總營收為412億美元，僅落後於三星和英特爾，若博通最終能夠敲定這兩筆收購交易，加上三星的記憶體收入如預期下滑，那麼三星可能會在2019年隨著下一波記憶體的下滑跌至第三位。（楊喻斐／台北報導）\\xa0',\n",
       " 'title': '三星超越英特爾成半導體霸主\\u3000顧能：不會延續太久'}"
      ]
     },
     "execution_count": 144,
     "metadata": {},
     "output_type": "execute_result"
    }
   ],
   "source": [
    "parseDetail('https://tw.finance.appledaily.com/realtime/20180108/1274272/')"
   ]
  },
  {
   "cell_type": "markdown",
   "metadata": {},
   "source": [
    "## 從列表頁到內容頁"
   ]
  },
  {
   "cell_type": "code",
   "execution_count": 148,
   "metadata": {
    "collapsed": false
   },
   "outputs": [],
   "source": [
    "import requests\n",
    "from bs4 import BeautifulSoup\n",
    "res = requests.get('https://tw.appledaily.com/new/realtime')\n",
    "soup = BeautifulSoup(res.text, 'html.parser')\n",
    "news_ary = []\n",
    "for news in soup.select('.rtddt a'):\n",
    "    res = parseDetail(news.get('href'))\n",
    "    news_ary.append(res)"
   ]
  },
  {
   "cell_type": "code",
   "execution_count": 149,
   "metadata": {
    "collapsed": false
   },
   "outputs": [
    {
     "data": {
      "text/plain": [
       "30"
      ]
     },
     "execution_count": 149,
     "metadata": {},
     "output_type": "execute_result"
    }
   ],
   "source": [
    "len(news_ary)"
   ]
  },
  {
   "cell_type": "code",
   "execution_count": 152,
   "metadata": {
    "collapsed": false
   },
   "outputs": [
    {
     "data": {
      "text/plain": [
       "{'category': '娛樂',\n",
       " 'clicked': 0,\n",
       " 'dt': datetime.datetime(2018, 1, 8, 14, 47),\n",
       " 'summary': '不講還以為是瑪莎，當時石頭的頭髮還長過他，阿信也沒留招牌的鬢角。金曲天團五月天的「人生無限公司」昨天結束桃園11場的戶外演唱會，昨主唱阿信在風雨中撐傘開唱，笑說：「下雨我不怕，風我怕，因鬢角會亂。」公視節目「青春發言人」昨晚上傳一段五月天剛出道的影片，音樂是未拍MV的「八月愛人」，片中的團員模樣青澀，阿信還沒留鬢角，瑪莎的頭髮長度頂多遮耳，還沒像現在的飄逸感，最令人驚呼是石頭，頭髮長度幾乎及肩，不時跟著音樂甩髮，有別於現在清爽短髮。（即時新聞中心／綜合報導）',\n",
       " 'title': '五月天沒拍MV的單曲\\u3000驚見石頭長髮及肩'}"
      ]
     },
     "execution_count": 152,
     "metadata": {},
     "output_type": "execute_result"
    }
   ],
   "source": [
    "news_ary[10]"
   ]
  },
  {
   "cell_type": "code",
   "execution_count": 154,
   "metadata": {
    "collapsed": true
   },
   "outputs": [],
   "source": [
    "newsdf = pandas.DataFrame(news_ary)"
   ]
  },
  {
   "cell_type": "code",
   "execution_count": 158,
   "metadata": {
    "collapsed": false
   },
   "outputs": [
    {
     "data": {
      "text/html": [
       "<div>\n",
       "<table border=\"1\" class=\"dataframe\">\n",
       "  <thead>\n",
       "    <tr style=\"text-align: right;\">\n",
       "      <th></th>\n",
       "      <th>category</th>\n",
       "      <th>clicked</th>\n",
       "      <th>dt</th>\n",
       "      <th>summary</th>\n",
       "      <th>title</th>\n",
       "    </tr>\n",
       "  </thead>\n",
       "  <tbody>\n",
       "    <tr>\n",
       "      <th>0</th>\n",
       "      <td>社會</td>\n",
       "      <td>0</td>\n",
       "      <td>2018-01-08 14:57:00</td>\n",
       "      <td>有鑑於本周低溫將下探8-10度，瑞芳區公所揪民間企業一起做愛心，獲得企業捐贈30套毛毯、防寒...</td>\n",
       "      <td>​寒流侵襲　瑞芳公所贈獨居老人毛毯外套</td>\n",
       "    </tr>\n",
       "    <tr>\n",
       "      <th>1</th>\n",
       "      <td>生活</td>\n",
       "      <td>0</td>\n",
       "      <td>2018-01-08 14:56:00</td>\n",
       "      <td>寒流來襲，溫泉區湧入泡湯客，花蓮慈濟醫院家庭醫學科主任葉日弌提醒，泡湯時間不宜超過30分鐘，...</td>\n",
       "      <td>天冷民眾瘋泡湯　醫師提醒泡15分鐘就夠了</td>\n",
       "    </tr>\n",
       "    <tr>\n",
       "      <th>2</th>\n",
       "      <td>社會</td>\n",
       "      <td>27182</td>\n",
       "      <td>2018-01-08 13:32:00</td>\n",
       "      <td>(更新：新增影片)真是飛來橫禍！新北市一名機車騎士日前騎車行經三峽區佳興路上一處工地，當時工...</td>\n",
       "      <td>【倒楣片】「絕命終結站」是真的　騎士遇怪風遭鐵門擊落</td>\n",
       "    </tr>\n",
       "    <tr>\n",
       "      <th>3</th>\n",
       "      <td>社會</td>\n",
       "      <td>9407</td>\n",
       "      <td>2018-01-08 14:55:00</td>\n",
       "      <td>（更新：新增就醫影片）彰化縣溪湖鎮知名的KTV「小莓視聽館」今天凌晨驚傳槍擊命案，李姓男子(...</td>\n",
       "      <td>彰化「溪湖金錢豹」暗夜槍響　1人中槍不治</td>\n",
       "    </tr>\n",
       "    <tr>\n",
       "      <th>4</th>\n",
       "      <td>生活</td>\n",
       "      <td>0</td>\n",
       "      <td>2018-01-08 14:54:00</td>\n",
       "      <td>今天下午2:29苗栗泰安鄉發生規模3.8的地震，地震深度5公里，苗栗、台中、宜蘭震度為2級；...</td>\n",
       "      <td>14:29苗栗發生規模3.8地震　北市震度1級</td>\n",
       "    </tr>\n",
       "  </tbody>\n",
       "</table>\n",
       "</div>"
      ],
      "text/plain": [
       "  category  clicked                  dt  \\\n",
       "0       社會        0 2018-01-08 14:57:00   \n",
       "1       生活        0 2018-01-08 14:56:00   \n",
       "2       社會    27182 2018-01-08 13:32:00   \n",
       "3       社會     9407 2018-01-08 14:55:00   \n",
       "4       生活        0 2018-01-08 14:54:00   \n",
       "\n",
       "                                             summary  \\\n",
       "0  有鑑於本周低溫將下探8-10度，瑞芳區公所揪民間企業一起做愛心，獲得企業捐贈30套毛毯、防寒...   \n",
       "1  寒流來襲，溫泉區湧入泡湯客，花蓮慈濟醫院家庭醫學科主任葉日弌提醒，泡湯時間不宜超過30分鐘，...   \n",
       "2  (更新：新增影片)真是飛來橫禍！新北市一名機車騎士日前騎車行經三峽區佳興路上一處工地，當時工...   \n",
       "3  （更新：新增就醫影片）彰化縣溪湖鎮知名的KTV「小莓視聽館」今天凌晨驚傳槍擊命案，李姓男子(...   \n",
       "4  今天下午2:29苗栗泰安鄉發生規模3.8的地震，地震深度5公里，苗栗、台中、宜蘭震度為2級；...   \n",
       "\n",
       "                        title  \n",
       "0         ​寒流侵襲　瑞芳公所贈獨居老人毛毯外套  \n",
       "1        天冷民眾瘋泡湯　醫師提醒泡15分鐘就夠了  \n",
       "2  【倒楣片】「絕命終結站」是真的　騎士遇怪風遭鐵門擊落  \n",
       "3        彰化「溪湖金錢豹」暗夜槍響　1人中槍不治  \n",
       "4     14:29苗栗發生規模3.8地震　北市震度1級  "
      ]
     },
     "execution_count": 158,
     "metadata": {},
     "output_type": "execute_result"
    }
   ],
   "source": [
    "newsdf.head()"
   ]
  },
  {
   "cell_type": "markdown",
   "metadata": {},
   "source": [
    "## 完成爬蟲流程"
   ]
  },
  {
   "cell_type": "code",
   "execution_count": 161,
   "metadata": {
    "collapsed": false
   },
   "outputs": [
    {
     "name": "stdout",
     "output_type": "stream",
     "text": [
      "https://tw.appledaily.com/new/realtime/1\n",
      "https://tw.appledaily.com/new/realtime/2\n"
     ]
    }
   ],
   "source": [
    "newsurl = 'https://tw.appledaily.com/new/realtime/'\n",
    "for page in range(1,3):\n",
    "    print(newsurl + str(page))"
   ]
  },
  {
   "cell_type": "code",
   "execution_count": 162,
   "metadata": {
    "collapsed": false
   },
   "outputs": [
    {
     "name": "stdout",
     "output_type": "stream",
     "text": [
      "https://tw.appledaily.com/new/realtime/1\n",
      "https://tw.appledaily.com/new/realtime/2\n"
     ]
    }
   ],
   "source": [
    "newsurl = 'https://tw.appledaily.com/new/realtime/{}'\n",
    "for page in range(1,3):\n",
    "    print(newsurl.format(page))"
   ]
  },
  {
   "cell_type": "code",
   "execution_count": 163,
   "metadata": {
    "collapsed": true
   },
   "outputs": [],
   "source": [
    "newsurl = 'https://tw.appledaily.com/new/realtime/{}'\n",
    "\n",
    "news_ary = []\n",
    "for page in range(1,10):\n",
    "    res = requests.get(newsurl.format(page))\n",
    "    soup = BeautifulSoup(res.text, 'html.parser')\n",
    "    for news in soup.select('.rtddt a'):\n",
    "        res = parseDetail(news.get('href'))\n",
    "        news_ary.append(res)    "
   ]
  },
  {
   "cell_type": "code",
   "execution_count": 164,
   "metadata": {
    "collapsed": true
   },
   "outputs": [],
   "source": [
    "newsdf = pandas.DataFrame(news_ary)"
   ]
  },
  {
   "cell_type": "code",
   "execution_count": 165,
   "metadata": {
    "collapsed": false
   },
   "outputs": [
    {
     "data": {
      "text/html": [
       "<div>\n",
       "<table border=\"1\" class=\"dataframe\">\n",
       "  <thead>\n",
       "    <tr style=\"text-align: right;\">\n",
       "      <th></th>\n",
       "      <th>category</th>\n",
       "      <th>clicked</th>\n",
       "      <th>dt</th>\n",
       "      <th>summary</th>\n",
       "      <th>title</th>\n",
       "    </tr>\n",
       "  </thead>\n",
       "  <tbody>\n",
       "    <tr>\n",
       "      <th>0</th>\n",
       "      <td>生活</td>\n",
       "      <td>0</td>\n",
       "      <td>2018-01-08 15:06:00</td>\n",
       "      <td>依據中央氣象局天氣預報，直到12日全台幾乎壟罩在寒流的低溫中，彰化縣農業處表示10度以下低溫...</td>\n",
       "      <td>蛋雞防寒　飼料加沙拉油</td>\n",
       "    </tr>\n",
       "    <tr>\n",
       "      <th>1</th>\n",
       "      <td>國際</td>\n",
       "      <td>0</td>\n",
       "      <td>2018-01-08 15:06:00</td>\n",
       "      <td>英國每年丟棄25億個拋棄式咖啡紙杯，對環境的衝擊不容小覷。英國國會環境稽查委員會上周提案，應...</td>\n",
       "      <td>年棄25億個咖啡紙杯　英國會提案收費10元</td>\n",
       "    </tr>\n",
       "    <tr>\n",
       "      <th>2</th>\n",
       "      <td>財經地產</td>\n",
       "      <td>6</td>\n",
       "      <td>2018-01-08 15:00:00</td>\n",
       "      <td>根據TrendForce旗下拓墣產業研究院數據顯示，2017年全球VR裝置出貨達到370萬台...</td>\n",
       "      <td>微軟MR頭盔今年估賣40萬台　增3成</td>\n",
       "    </tr>\n",
       "    <tr>\n",
       "      <th>3</th>\n",
       "      <td>社會</td>\n",
       "      <td>12208</td>\n",
       "      <td>2018-01-08 14:59:00</td>\n",
       "      <td>（新增：動新聞）台九線蘇花公路今晨發生對撞事故，一輛轎車行經128.3公里處南澳路段時，疑似...</td>\n",
       "      <td>【驚魂片】轎車對撞曳引車　蘇花公路128.3公里單線雙向通行</td>\n",
       "    </tr>\n",
       "    <tr>\n",
       "      <th>4</th>\n",
       "      <td>社會</td>\n",
       "      <td>29968</td>\n",
       "      <td>2018-01-08 14:58:00</td>\n",
       "      <td>（更新：新增動新聞）台北市W飯店前年12月爆發郭姓小模命案，主辦毒品派對的「土豪哥」朱家龍、...</td>\n",
       "      <td>【W命案】「死前還被餵毒」　他竟辯小模自備毒品害命</td>\n",
       "    </tr>\n",
       "  </tbody>\n",
       "</table>\n",
       "</div>"
      ],
      "text/plain": [
       "  category  clicked                  dt  \\\n",
       "0       生活        0 2018-01-08 15:06:00   \n",
       "1       國際        0 2018-01-08 15:06:00   \n",
       "2     財經地產        6 2018-01-08 15:00:00   \n",
       "3       社會    12208 2018-01-08 14:59:00   \n",
       "4       社會    29968 2018-01-08 14:58:00   \n",
       "\n",
       "                                             summary  \\\n",
       "0  依據中央氣象局天氣預報，直到12日全台幾乎壟罩在寒流的低溫中，彰化縣農業處表示10度以下低溫...   \n",
       "1  英國每年丟棄25億個拋棄式咖啡紙杯，對環境的衝擊不容小覷。英國國會環境稽查委員會上周提案，應...   \n",
       "2  根據TrendForce旗下拓墣產業研究院數據顯示，2017年全球VR裝置出貨達到370萬台...   \n",
       "3  （新增：動新聞）台九線蘇花公路今晨發生對撞事故，一輛轎車行經128.3公里處南澳路段時，疑似...   \n",
       "4  （更新：新增動新聞）台北市W飯店前年12月爆發郭姓小模命案，主辦毒品派對的「土豪哥」朱家龍、...   \n",
       "\n",
       "                            title  \n",
       "0                     蛋雞防寒　飼料加沙拉油  \n",
       "1           年棄25億個咖啡紙杯　英國會提案收費10元  \n",
       "2              微軟MR頭盔今年估賣40萬台　增3成  \n",
       "3  【驚魂片】轎車對撞曳引車　蘇花公路128.3公里單線雙向通行  \n",
       "4       【W命案】「死前還被餵毒」　他竟辯小模自備毒品害命  "
      ]
     },
     "execution_count": 165,
     "metadata": {},
     "output_type": "execute_result"
    }
   ],
   "source": [
    "newsdf.head()"
   ]
  },
  {
   "cell_type": "code",
   "execution_count": 167,
   "metadata": {
    "collapsed": false
   },
   "outputs": [
    {
     "data": {
      "text/html": [
       "<div>\n",
       "<table border=\"1\" class=\"dataframe\">\n",
       "  <thead>\n",
       "    <tr style=\"text-align: right;\">\n",
       "      <th></th>\n",
       "      <th>category</th>\n",
       "      <th>clicked</th>\n",
       "      <th>dt</th>\n",
       "      <th>summary</th>\n",
       "      <th>title</th>\n",
       "    </tr>\n",
       "  </thead>\n",
       "  <tbody>\n",
       "    <tr>\n",
       "      <th>205</th>\n",
       "      <td>社會</td>\n",
       "      <td>245713</td>\n",
       "      <td>2018-01-08 10:23:00</td>\n",
       "      <td>(更新影片)該不該讓？一名重機騎士昨天行經高雄旗山旗甲公路與華中街交叉口附近，一輛轎車竟然逆...</td>\n",
       "      <td>重機摃逆向車反被酸　「大家讓我知道要禮讓逆向」</td>\n",
       "    </tr>\n",
       "    <tr>\n",
       "      <th>252</th>\n",
       "      <td>娛樂</td>\n",
       "      <td>198241</td>\n",
       "      <td>2018-01-08 08:10:00</td>\n",
       "      <td>（新增：照片）Makiyo因2012年發生醉毆運將風波，演藝事業重挫的她去年初變賣Ma媽媽生...</td>\n",
       "      <td>【獨家】Makiyo法國白吃白住2周　「很久沒買包」掃打折貨</td>\n",
       "    </tr>\n",
       "    <tr>\n",
       "      <th>66</th>\n",
       "      <td>社會</td>\n",
       "      <td>193725</td>\n",
       "      <td>2018-01-08 13:51:00</td>\n",
       "      <td>(更新：新增影片)國道奪命車禍！國道10號鼎金路段（西向約3.7公里處）今上午11點30分發...</td>\n",
       "      <td>國道大貨車奪命夾擊1死　百萬名車瞬成廢鐵</td>\n",
       "    </tr>\n",
       "    <tr>\n",
       "      <th>259</th>\n",
       "      <td>社會</td>\n",
       "      <td>119716</td>\n",
       "      <td>2018-01-08 07:28:00</td>\n",
       "      <td>在外租屋的女生要小心，門鎖掉了當心有狼入侵，1名19歲女學生因此遭性侵，被奪初夜。今日出版的...</td>\n",
       "      <td>他撿到鑰匙一間一間開　強奪19歲女初夜</td>\n",
       "    </tr>\n",
       "    <tr>\n",
       "      <th>78</th>\n",
       "      <td>生活</td>\n",
       "      <td>102976</td>\n",
       "      <td>2018-01-08 13:30:00</td>\n",
       "      <td>（更新：新增影片）不少人利用臉書直播販售商品，有人祭出「重鹹」，穿泳裝上陣，還解放雙乳跟著音...</td>\n",
       "      <td>【更新】上空搖下去！直播「送二粒」　粉專賺讚玩很大</td>\n",
       "    </tr>\n",
       "  </tbody>\n",
       "</table>\n",
       "</div>"
      ],
      "text/plain": [
       "    category  clicked                  dt  \\\n",
       "205       社會   245713 2018-01-08 10:23:00   \n",
       "252       娛樂   198241 2018-01-08 08:10:00   \n",
       "66        社會   193725 2018-01-08 13:51:00   \n",
       "259       社會   119716 2018-01-08 07:28:00   \n",
       "78        生活   102976 2018-01-08 13:30:00   \n",
       "\n",
       "                                               summary  \\\n",
       "205  (更新影片)該不該讓？一名重機騎士昨天行經高雄旗山旗甲公路與華中街交叉口附近，一輛轎車竟然逆...   \n",
       "252  （新增：照片）Makiyo因2012年發生醉毆運將風波，演藝事業重挫的她去年初變賣Ma媽媽生...   \n",
       "66   (更新：新增影片)國道奪命車禍！國道10號鼎金路段（西向約3.7公里處）今上午11點30分發...   \n",
       "259  在外租屋的女生要小心，門鎖掉了當心有狼入侵，1名19歲女學生因此遭性侵，被奪初夜。今日出版的...   \n",
       "78   （更新：新增影片）不少人利用臉書直播販售商品，有人祭出「重鹹」，穿泳裝上陣，還解放雙乳跟著音...   \n",
       "\n",
       "                              title  \n",
       "205         重機摃逆向車反被酸　「大家讓我知道要禮讓逆向」  \n",
       "252  【獨家】Makiyo法國白吃白住2周　「很久沒買包」掃打折貨  \n",
       "66             國道大貨車奪命夾擊1死　百萬名車瞬成廢鐵  \n",
       "259             他撿到鑰匙一間一間開　強奪19歲女初夜  \n",
       "78        【更新】上空搖下去！直播「送二粒」　粉專賺讚玩很大  "
      ]
     },
     "execution_count": 167,
     "metadata": {},
     "output_type": "execute_result"
    }
   ],
   "source": [
    "newsdf.sort_values('clicked', ascending=False).head()"
   ]
  },
  {
   "cell_type": "code",
   "execution_count": 172,
   "metadata": {
    "collapsed": false
   },
   "outputs": [
    {
     "data": {
      "text/plain": [
       "category\n",
       "社會      245713\n",
       "娛樂      198241\n",
       "生活      102976\n",
       "國際      100309\n",
       "財經地產     66687\n",
       "體育       27541\n",
       "政治       22989\n",
       "3C       13174\n",
       "副刊        7169\n",
       "論壇        5822\n",
       "動物        3562\n",
       "壹週刊       1588\n",
       "Name: clicked, dtype: int64"
      ]
     },
     "execution_count": 172,
     "metadata": {},
     "output_type": "execute_result"
    }
   ],
   "source": [
    "df1= newsdf.groupby('category')['clicked'].max().sort_values(ascending=False)\n",
    "df1"
   ]
  },
  {
   "cell_type": "code",
   "execution_count": 180,
   "metadata": {
    "collapsed": false
   },
   "outputs": [
    {
     "data": {
      "text/html": [
       "<div>\n",
       "<table border=\"1\" class=\"dataframe\">\n",
       "  <thead>\n",
       "    <tr style=\"text-align: right;\">\n",
       "      <th></th>\n",
       "      <th>category</th>\n",
       "      <th>clicked</th>\n",
       "      <th>dt</th>\n",
       "      <th>summary</th>\n",
       "      <th>title</th>\n",
       "    </tr>\n",
       "  </thead>\n",
       "  <tbody>\n",
       "    <tr>\n",
       "      <th>33</th>\n",
       "      <td>政治</td>\n",
       "      <td>22989</td>\n",
       "      <td>2018-01-08 14:36:00</td>\n",
       "      <td>立法院今臨時會開始審議《勞動基準法》修法，民進黨團歷經61小時輪班守候在議場前，今早成功佔領...</td>\n",
       "      <td>【不斷更新】朝野協商《勞基法》　時代力量提折衷版盼民進黨支持</td>\n",
       "    </tr>\n",
       "    <tr>\n",
       "      <th>78</th>\n",
       "      <td>生活</td>\n",
       "      <td>102976</td>\n",
       "      <td>2018-01-08 13:30:00</td>\n",
       "      <td>（更新：新增影片）不少人利用臉書直播販售商品，有人祭出「重鹹」，穿泳裝上陣，還解放雙乳跟著音...</td>\n",
       "      <td>【更新】上空搖下去！直播「送二粒」　粉專賺讚玩很大</td>\n",
       "    </tr>\n",
       "    <tr>\n",
       "      <th>120</th>\n",
       "      <td>國際</td>\n",
       "      <td>100309</td>\n",
       "      <td>2018-01-08 12:30:00</td>\n",
       "      <td>（更新：新增影片）又猛又辣！國外網站《THRILL BLENDER》日前一名在美國海軍陸戰隊...</td>\n",
       "      <td>【有片】海陸健美正妹不只豪乳　全身都超有料</td>\n",
       "    </tr>\n",
       "    <tr>\n",
       "      <th>122</th>\n",
       "      <td>壹週刊</td>\n",
       "      <td>1588</td>\n",
       "      <td>2018-01-08 12:30:00</td>\n",
       "      <td>黃瑜嫻（小嫻）和何守正婚變鬧得滿城風雨，她出道17年忽瘦忽胖、膚色忽白忽黑，一路變變變，五官...</td>\n",
       "      <td>【壹週刊】17年來胖過俗過　小嫻膚色臉型隨身變</td>\n",
       "    </tr>\n",
       "    <tr>\n",
       "      <th>146</th>\n",
       "      <td>動物</td>\n",
       "      <td>3562</td>\n",
       "      <td>2018-01-08 12:07:00</td>\n",
       "      <td>澳洲一隻寵物狗差點被蟒蛇吞掉，主人及時救回牠。住在昆士蘭省東南部的查普曼（Mark Chap...</td>\n",
       "      <td>蟒蛇咬住寵物狗屁屁　主人機智救了牠</td>\n",
       "    </tr>\n",
       "    <tr>\n",
       "      <th>166</th>\n",
       "      <td>財經地產</td>\n",
       "      <td>66687</td>\n",
       "      <td>2018-01-08 11:48:00</td>\n",
       "      <td>（更新：新增動新聞）受到台幣強勢影響，日圓現金匯價持續走弱，根據台銀最新牌告價格顯示，今天早...</td>\n",
       "      <td>【0.25快來片】日圓0.263創2年半新低　1元台幣換3.8日圓</td>\n",
       "    </tr>\n",
       "    <tr>\n",
       "      <th>180</th>\n",
       "      <td>體育</td>\n",
       "      <td>27541</td>\n",
       "      <td>2018-01-08 11:27:00</td>\n",
       "      <td>（新增影片）北美《360運動網》(theScore.com)這兩天撰文分析大聯盟30支球隊自...</td>\n",
       "      <td>【有片】陳偉殷因傷表現不如預期　馬林魚近年最差合約</td>\n",
       "    </tr>\n",
       "    <tr>\n",
       "      <th>192</th>\n",
       "      <td>3C</td>\n",
       "      <td>13174</td>\n",
       "      <td>2018-01-08 10:51:00</td>\n",
       "      <td>（新增：大同3C促銷）國產品牌大同3C的抗寒家電價位落在1000至2000元居多，促銷僅限部...</td>\n",
       "      <td>【急凍片】抗寒家電銷量增2倍　這種最熱賣</td>\n",
       "    </tr>\n",
       "    <tr>\n",
       "      <th>205</th>\n",
       "      <td>社會</td>\n",
       "      <td>245713</td>\n",
       "      <td>2018-01-08 10:23:00</td>\n",
       "      <td>(更新影片)該不該讓？一名重機騎士昨天行經高雄旗山旗甲公路與華中街交叉口附近，一輛轎車竟然逆...</td>\n",
       "      <td>重機摃逆向車反被酸　「大家讓我知道要禮讓逆向」</td>\n",
       "    </tr>\n",
       "    <tr>\n",
       "      <th>234</th>\n",
       "      <td>論壇</td>\n",
       "      <td>5822</td>\n",
       "      <td>2018-01-08 09:00:00</td>\n",
       "      <td>大約就在7年前的2011年1月6日，知名學者李家同受訪表示「大概只有笨蛋才會去看PTT，成功...</td>\n",
       "      <td>人渣文本專欄：世界上最懂的高僧大德</td>\n",
       "    </tr>\n",
       "    <tr>\n",
       "      <th>252</th>\n",
       "      <td>娛樂</td>\n",
       "      <td>198241</td>\n",
       "      <td>2018-01-08 08:10:00</td>\n",
       "      <td>（新增：照片）Makiyo因2012年發生醉毆運將風波，演藝事業重挫的她去年初變賣Ma媽媽生...</td>\n",
       "      <td>【獨家】Makiyo法國白吃白住2周　「很久沒買包」掃打折貨</td>\n",
       "    </tr>\n",
       "    <tr>\n",
       "      <th>263</th>\n",
       "      <td>副刊</td>\n",
       "      <td>7169</td>\n",
       "      <td>2018-01-08 07:00:00</td>\n",
       "      <td>台灣是世界知名的蘭花王國，文心蘭出口量稱霸全球第一，每年外銷3000多萬枝切花到國外，台中新...</td>\n",
       "      <td>鈑金工變模範花農　他的蘭花面膜紅到日本</td>\n",
       "    </tr>\n",
       "  </tbody>\n",
       "</table>\n",
       "</div>"
      ],
      "text/plain": [
       "    category  clicked                  dt  \\\n",
       "33        政治    22989 2018-01-08 14:36:00   \n",
       "78        生活   102976 2018-01-08 13:30:00   \n",
       "120       國際   100309 2018-01-08 12:30:00   \n",
       "122      壹週刊     1588 2018-01-08 12:30:00   \n",
       "146       動物     3562 2018-01-08 12:07:00   \n",
       "166     財經地產    66687 2018-01-08 11:48:00   \n",
       "180       體育    27541 2018-01-08 11:27:00   \n",
       "192       3C    13174 2018-01-08 10:51:00   \n",
       "205       社會   245713 2018-01-08 10:23:00   \n",
       "234       論壇     5822 2018-01-08 09:00:00   \n",
       "252       娛樂   198241 2018-01-08 08:10:00   \n",
       "263       副刊     7169 2018-01-08 07:00:00   \n",
       "\n",
       "                                               summary  \\\n",
       "33   立法院今臨時會開始審議《勞動基準法》修法，民進黨團歷經61小時輪班守候在議場前，今早成功佔領...   \n",
       "78   （更新：新增影片）不少人利用臉書直播販售商品，有人祭出「重鹹」，穿泳裝上陣，還解放雙乳跟著音...   \n",
       "120  （更新：新增影片）又猛又辣！國外網站《THRILL BLENDER》日前一名在美國海軍陸戰隊...   \n",
       "122  黃瑜嫻（小嫻）和何守正婚變鬧得滿城風雨，她出道17年忽瘦忽胖、膚色忽白忽黑，一路變變變，五官...   \n",
       "146  澳洲一隻寵物狗差點被蟒蛇吞掉，主人及時救回牠。住在昆士蘭省東南部的查普曼（Mark Chap...   \n",
       "166  （更新：新增動新聞）受到台幣強勢影響，日圓現金匯價持續走弱，根據台銀最新牌告價格顯示，今天早...   \n",
       "180  （新增影片）北美《360運動網》(theScore.com)這兩天撰文分析大聯盟30支球隊自...   \n",
       "192  （新增：大同3C促銷）國產品牌大同3C的抗寒家電價位落在1000至2000元居多，促銷僅限部...   \n",
       "205  (更新影片)該不該讓？一名重機騎士昨天行經高雄旗山旗甲公路與華中街交叉口附近，一輛轎車竟然逆...   \n",
       "234  大約就在7年前的2011年1月6日，知名學者李家同受訪表示「大概只有笨蛋才會去看PTT，成功...   \n",
       "252  （新增：照片）Makiyo因2012年發生醉毆運將風波，演藝事業重挫的她去年初變賣Ma媽媽生...   \n",
       "263  台灣是世界知名的蘭花王國，文心蘭出口量稱霸全球第一，每年外銷3000多萬枝切花到國外，台中新...   \n",
       "\n",
       "                                 title  \n",
       "33      【不斷更新】朝野協商《勞基法》　時代力量提折衷版盼民進黨支持  \n",
       "78           【更新】上空搖下去！直播「送二粒」　粉專賺讚玩很大  \n",
       "120              【有片】海陸健美正妹不只豪乳　全身都超有料  \n",
       "122            【壹週刊】17年來胖過俗過　小嫻膚色臉型隨身變  \n",
       "146                  蟒蛇咬住寵物狗屁屁　主人機智救了牠  \n",
       "166  【0.25快來片】日圓0.263創2年半新低　1元台幣換3.8日圓  \n",
       "180          【有片】陳偉殷因傷表現不如預期　馬林魚近年最差合約  \n",
       "192               【急凍片】抗寒家電銷量增2倍　這種最熱賣  \n",
       "205            重機摃逆向車反被酸　「大家讓我知道要禮讓逆向」  \n",
       "234                  人渣文本專欄：世界上最懂的高僧大德  \n",
       "252     【獨家】Makiyo法國白吃白住2周　「很久沒買包」掃打折貨  \n",
       "263                鈑金工變模範花農　他的蘭花面膜紅到日本  "
      ]
     },
     "execution_count": 180,
     "metadata": {},
     "output_type": "execute_result"
    }
   ],
   "source": [
    "df1 = newsdf.groupby(['category'])['clicked']\n",
    "idx = df1.transform(max) == newsdf['clicked']\n",
    "newsdf[idx]"
   ]
  },
  {
   "cell_type": "code",
   "execution_count": 183,
   "metadata": {
    "collapsed": false
   },
   "outputs": [],
   "source": [
    "newsdf.to_csv('news.csv')"
   ]
  },
  {
   "cell_type": "code",
   "execution_count": 184,
   "metadata": {
    "collapsed": true
   },
   "outputs": [],
   "source": [
    "newsdf.to_excel('news.xlsx')"
   ]
  },
  {
   "cell_type": "code",
   "execution_count": 193,
   "metadata": {
    "collapsed": false
   },
   "outputs": [
    {
     "name": "stdout",
     "output_type": "stream",
     "text": [
      "Populating the interactive namespace from numpy and matplotlib\n"
     ]
    },
    {
     "data": {
      "text/plain": [
       "<matplotlib.axes._subplots.AxesSubplot at 0xbe376a0>"
      ]
     },
     "execution_count": 193,
     "metadata": {},
     "output_type": "execute_result"
    },
    {
     "data": {
      "image/png": "[encoded data removed]",
      "text/plain": [
       "<matplotlib.figure.Figure at 0xbcbd710>"
      ]
     },
     "metadata": {},
     "output_type": "display_data"
    }
   ],
   "source": [
    "% pylab inline\n",
    "df = newsdf.groupby(['category'])['clicked'].mean().sort_values(ascending = False)\n",
    "df.plot(kind='pie', figsize=[10,10], startangle = 90)"
   ]
  },
  {
   "cell_type": "code",
   "execution_count": 194,
   "metadata": {
    "collapsed": true
   },
   "outputs": [],
   "source": [
    "df2 = pandas.read_excel('news.xlsx')"
   ]
  },
  {
   "cell_type": "code",
   "execution_count": 195,
   "metadata": {
    "collapsed": false
   },
   "outputs": [
    {
     "data": {
      "text/html": [
       "<div>\n",
       "<table border=\"1\" class=\"dataframe\">\n",
       "  <thead>\n",
       "    <tr style=\"text-align: right;\">\n",
       "      <th></th>\n",
       "      <th>category</th>\n",
       "      <th>clicked</th>\n",
       "      <th>dt</th>\n",
       "      <th>summary</th>\n",
       "      <th>title</th>\n",
       "    </tr>\n",
       "  </thead>\n",
       "  <tbody>\n",
       "    <tr>\n",
       "      <th>0</th>\n",
       "      <td>生活</td>\n",
       "      <td>0</td>\n",
       "      <td>2018-01-08 15:06:00</td>\n",
       "      <td>依據中央氣象局天氣預報，直到12日全台幾乎壟罩在寒流的低溫中，彰化縣農業處表示10度以下低溫...</td>\n",
       "      <td>蛋雞防寒　飼料加沙拉油</td>\n",
       "    </tr>\n",
       "    <tr>\n",
       "      <th>1</th>\n",
       "      <td>國際</td>\n",
       "      <td>0</td>\n",
       "      <td>2018-01-08 15:06:00</td>\n",
       "      <td>英國每年丟棄25億個拋棄式咖啡紙杯，對環境的衝擊不容小覷。英國國會環境稽查委員會上周提案，應...</td>\n",
       "      <td>年棄25億個咖啡紙杯　英國會提案收費10元</td>\n",
       "    </tr>\n",
       "    <tr>\n",
       "      <th>2</th>\n",
       "      <td>財經地產</td>\n",
       "      <td>6</td>\n",
       "      <td>2018-01-08 15:00:00</td>\n",
       "      <td>根據TrendForce旗下拓墣產業研究院數據顯示，2017年全球VR裝置出貨達到370萬台...</td>\n",
       "      <td>微軟MR頭盔今年估賣40萬台　增3成</td>\n",
       "    </tr>\n",
       "  </tbody>\n",
       "</table>\n",
       "</div>"
      ],
      "text/plain": [
       "  category  clicked                  dt  \\\n",
       "0       生活        0 2018-01-08 15:06:00   \n",
       "1       國際        0 2018-01-08 15:06:00   \n",
       "2     財經地產        6 2018-01-08 15:00:00   \n",
       "\n",
       "                                             summary                  title  \n",
       "0  依據中央氣象局天氣預報，直到12日全台幾乎壟罩在寒流的低溫中，彰化縣農業處表示10度以下低溫...            蛋雞防寒　飼料加沙拉油  \n",
       "1  英國每年丟棄25億個拋棄式咖啡紙杯，對環境的衝擊不容小覷。英國國會環境稽查委員會上周提案，應...  年棄25億個咖啡紙杯　英國會提案收費10元  \n",
       "2  根據TrendForce旗下拓墣產業研究院數據顯示，2017年全球VR裝置出貨達到370萬台...     微軟MR頭盔今年估賣40萬台　增3成  "
      ]
     },
     "execution_count": 195,
     "metadata": {},
     "output_type": "execute_result"
    }
   ],
   "source": [
    "df2.head(3)"
   ]
  },
  {
   "cell_type": "markdown",
   "metadata": {},
   "source": [
    "## 使用Pandas"
   ]
  },
  {
   "cell_type": "code",
   "execution_count": 153,
   "metadata": {
    "collapsed": false
   },
   "outputs": [
    {
     "data": {
      "text/html": [
       "<div>\n",
       "<table border=\"1\" class=\"dataframe\">\n",
       "  <thead>\n",
       "    <tr style=\"text-align: right;\">\n",
       "      <th></th>\n",
       "      <th>a</th>\n",
       "      <th>b</th>\n",
       "      <th>c</th>\n",
       "    </tr>\n",
       "  </thead>\n",
       "  <tbody>\n",
       "    <tr>\n",
       "      <th>0</th>\n",
       "      <td>1</td>\n",
       "      <td>2.0</td>\n",
       "      <td>30</td>\n",
       "    </tr>\n",
       "    <tr>\n",
       "      <th>1</th>\n",
       "      <td>1</td>\n",
       "      <td>NaN</td>\n",
       "      <td>qoo</td>\n",
       "    </tr>\n",
       "  </tbody>\n",
       "</table>\n",
       "</div>"
      ],
      "text/plain": [
       "   a    b    c\n",
       "0  1  2.0   30\n",
       "1  1  NaN  qoo"
      ]
     },
     "execution_count": 153,
     "metadata": {},
     "output_type": "execute_result"
    }
   ],
   "source": [
    "a= {'a': 1, 'b': 2, 'c':30}\n",
    "b= {'a': 1, 'c':'qoo'}\n",
    "ary = [a, b]\n",
    "\n",
    "import pandas\n",
    "df = pandas.DataFrame(ary)\n",
    "df"
   ]
  },
  {
   "cell_type": "code",
   "execution_count": null,
   "metadata": {
    "collapsed": true
   },
   "outputs": [],
   "source": []
  }
 ],
 "metadata": {
  "kernelspec": {
   "display_name": "Python 3",
   "language": "python",
   "name": "python3"
  },
  "language_info": {
   "codemirror_mode": {
    "name": "ipython",
    "version": 3
   },
   "file_extension": ".py",
   "mimetype": "text/x-python",
   "name": "python",
   "nbconvert_exporter": "python",
   "pygments_lexer": "ipython3",
   "version": "3.6.0"
  }
 },
 "nbformat": 4,
 "nbformat_minor": 2
}
